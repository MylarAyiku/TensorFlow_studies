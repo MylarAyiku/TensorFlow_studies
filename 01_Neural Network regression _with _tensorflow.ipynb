{
 "cells": [
  {
   "cell_type": "markdown",
   "id": "3388dc97",
   "metadata": {},
   "source": [
    "# Intro to Regression with Neural Networks in Tensorflow\n",
    "* Making prediction from the relationship between the dependent and independent variables"
   ]
  },
  {
   "cell_type": "code",
   "execution_count": 1,
   "id": "2805836d",
   "metadata": {},
   "outputs": [
    {
     "name": "stderr",
     "output_type": "stream",
     "text": [
      "2022-12-12 16:54:18.090673: W tensorflow/compiler/xla/stream_executor/platform/default/dso_loader.cc:64] Could not load dynamic library 'libcudart.so.11.0'; dlerror: libcudart.so.11.0: cannot open shared object file: No such file or directory\n",
      "2022-12-12 16:54:18.090751: I tensorflow/compiler/xla/stream_executor/cuda/cudart_stub.cc:29] Ignore above cudart dlerror if you do not have a GPU set up on your machine.\n",
      "2022-12-12 16:54:19.698908: W tensorflow/compiler/xla/stream_executor/platform/default/dso_loader.cc:64] Could not load dynamic library 'libnvinfer.so.7'; dlerror: libnvinfer.so.7: cannot open shared object file: No such file or directory\n",
      "2022-12-12 16:54:19.699806: W tensorflow/compiler/xla/stream_executor/platform/default/dso_loader.cc:64] Could not load dynamic library 'libnvinfer_plugin.so.7'; dlerror: libnvinfer_plugin.so.7: cannot open shared object file: No such file or directory\n",
      "2022-12-12 16:54:19.699817: W tensorflow/compiler/tf2tensorrt/utils/py_utils.cc:38] TF-TRT Warning: Cannot dlopen some TensorRT libraries. If you would like to use Nvidia GPU with TensorRT, please make sure the missing libraries mentioned above are installed properly.\n"
     ]
    },
    {
     "name": "stdout",
     "output_type": "stream",
     "text": [
      "2.11.0\n"
     ]
    }
   ],
   "source": [
    "#import tensorflow\n",
    "import tensorflow as tf\n",
    "print(tf.__version__)\n",
    "from tensorflow import keras\n",
    "from tensorflow.keras.layers import Activation,Dense\n",
    "from tensorflow.keras.optimizers import Adam\n",
    "from tensorflow.keras.metrics import categorical_crossentropy"
   ]
  },
  {
   "cell_type": "code",
   "execution_count": 2,
   "id": "b7904964",
   "metadata": {},
   "outputs": [],
   "source": [
    "import numpy as np\n",
    "import matplotlib.pyplot as plt\n",
    "\n",
    "        #creating some data\n",
    "    \n",
    "#creating Features\n",
    "X = np.array([-7.0,-4.0,-1.0,2.0,5.0,8.0,11.0,14.0])\n",
    "\n",
    "#create Labels\n",
    "y = np.array([3.0,6.0,9.0,12.0,15.0,18.0,21.0,24.0])\n"
   ]
  },
  {
   "cell_type": "code",
   "execution_count": 3,
   "id": "75dee831",
   "metadata": {},
   "outputs": [
    {
     "data": {
      "text/plain": [
       "<matplotlib.collections.PathCollection at 0x7f07af294ee0>"
      ]
     },
     "execution_count": 3,
     "metadata": {},
     "output_type": "execute_result"
    },
    {
     "data": {
      "image/png": "[encoded data removed]",
      "text/plain": [
       "<Figure size 432x288 with 1 Axes>"
      ]
     },
     "metadata": {
      "needs_background": "light"
     },
     "output_type": "display_data"
    }
   ],
   "source": [
    "#visualize it\n",
    "plt.scatter(X,y)"
   ]
  },
  {
   "cell_type": "code",
   "execution_count": 4,
   "id": "7fc2c181",
   "metadata": {},
   "outputs": [
    {
     "data": {
      "text/plain": [
       "array([ True,  True,  True,  True,  True,  True,  True,  True])"
      ]
     },
     "execution_count": 4,
     "metadata": {},
     "output_type": "execute_result"
    }
   ],
   "source": [
    "#relstioship\n",
    "X+10\n",
    "y==X+10"
   ]
  },
  {
   "cell_type": "code",
   "execution_count": null,
   "id": "b96b0333",
   "metadata": {},
   "outputs": [],
   "source": []
  },
  {
   "cell_type": "markdown",
   "id": "787598d4",
   "metadata": {},
   "source": [
    "# Input and Output shapes\n",
    "\n",
    "shapes varies depending n the problem\n",
    "* problem like housing with features like nbed,utilities and garage as features will require a shape of 3\n",
    "[bed,utility,garage]\n",
    "Shape=[3]\n"
   ]
  },
  {
   "cell_type": "code",
   "execution_count": 5,
   "id": "376660eb",
   "metadata": {},
   "outputs": [
    {
     "name": "stderr",
     "output_type": "stream",
     "text": [
      "2022-12-08 16:18:55.300747: W tensorflow/compiler/xla/stream_executor/platform/default/dso_loader.cc:64] Could not load dynamic library 'libcuda.so.1'; dlerror: libcuda.so.1: cannot open shared object file: No such file or directory\n",
      "2022-12-08 16:18:55.300793: W tensorflow/compiler/xla/stream_executor/cuda/cuda_driver.cc:265] failed call to cuInit: UNKNOWN ERROR (303)\n",
      "2022-12-08 16:18:55.300828: I tensorflow/compiler/xla/stream_executor/cuda/cuda_diagnostics.cc:156] kernel driver does not appear to be running on this host (mylar-pc): /proc/driver/nvidia/version does not exist\n"
     ]
    },
    {
     "data": {
      "text/plain": [
       "(<tf.Tensor: shape=(3,), dtype=string, numpy=array([b'bedroom', b'bathroom', b'garage'], dtype=object)>,\n",
       " <tf.Tensor: shape=(1,), dtype=int32, numpy=array([939700], dtype=int32)>)"
      ]
     },
     "execution_count": 5,
     "metadata": {},
     "output_type": "execute_result"
    }
   ],
   "source": [
    "#create  a demo tensor for our housing price prediction problem\n",
    "house_info = tf.constant([\"bedroom\",\"bathroom\",\"garage\"])\n",
    "house_price = tf.constant([939700])\n",
    "house_info,house_price"
   ]
  },
  {
   "cell_type": "code",
   "execution_count": 6,
   "id": "29184729",
   "metadata": {},
   "outputs": [
    {
     "data": {
      "text/plain": [
       "((8,), (8,))"
      ]
     },
     "execution_count": 6,
     "metadata": {},
     "output_type": "execute_result"
    }
   ],
   "source": [
    "input_shape = X.shape\n",
    "output_shape = y.shape\n",
    "input_shape,output_shape"
   ]
  },
  {
   "cell_type": "code",
   "execution_count": 7,
   "id": "d59d8560",
   "metadata": {},
   "outputs": [
    {
     "data": {
      "text/plain": [
       "(<tf.Tensor: shape=(8,), dtype=float32, numpy=array([-7., -4., -1.,  2.,  5.,  8., 11., 14.], dtype=float32)>,\n",
       " <tf.Tensor: shape=(8,), dtype=float32, numpy=array([ 3.,  6.,  9., 12., 15., 18., 21., 24.], dtype=float32)>)"
      ]
     },
     "execution_count": 7,
     "metadata": {},
     "output_type": "execute_result"
    }
   ],
   "source": [
    "#turn our numpy array into tensors\n",
    "X = tf.cast(tf.constant(X),dtype=tf.float32)\n",
    "y = tf.cast(tf.constant(y),dtype=tf.float32)\n",
    "\n",
    "X,y"
   ]
  },
  {
   "cell_type": "markdown",
   "id": "d41232a9",
   "metadata": {},
   "source": [
    "# steps in Modeling in Tensorflow\n",
    "* Create  a model - define  the input and output layers,as well as the hidden layers of a deep learning model\n",
    "\n",
    ">sequential\n",
    "\n",
    ">functional\n",
    "\n",
    "\n",
    "* Compile a model- \n",
    "\n",
    ">define the loss function (in other words , the functio which tells our model how wrong it is) and \n",
    "\n",
    ">the optimizer (tells our model how to improve the patterns its learning) and\n",
    "\n",
    ">evaluate metrics (what we  can use to interpret the performance of our model)\n",
    "\n",
    "* Fitting a model- letting the model try  to find patterns between  X & y( features and labels)"
   ]
  },
  {
   "cell_type": "raw",
   "id": "3886638c",
   "metadata": {},
   "source": [
    "#old model creation\n",
    "# set random seed\n",
    "tf.random.set_seed(42)\n",
    "\n",
    "# create a model using the Sequential API\n",
    "model = tf.keras.Sequential([\n",
    "    #tf.keras.layers.Dense(units=1)\n",
    "    Dense(units=100, input_shape=(1,),),\n",
    "    Dense(units=100),\n",
    "    Dense(units=1)\n",
    "])\n",
    "\n",
    "\n",
    "# compile the model\n",
    "# model.compile(loss=tf.keras.losses.mae,# mae is short for mean absolute error)\n",
    "#               optimizer=tf.keras.optimizers.SGD(),#SGD is short for stochastic gradient descent. tells NN how to improve\n",
    "#               metrics=[\"accuracy\"])\n",
    "\n",
    "\n",
    "model.compile(optimizer=tf.keras.optimizers.SGD(),\n",
    "             loss=tf.keras.losses.mae,\n",
    "             metrics=['mae'])"
   ]
  },
  {
   "cell_type": "markdown",
   "id": "5219b5ce",
   "metadata": {
    "scrolled": true
   },
   "source": [
    "              \n",
    "#Fit The model\n",
    "model.fit(x=X,\n",
    "          y=y,\n",
    "          epochs=30,\n",
    "          shuffle=True,\n",
    "          )"
   ]
  },
  {
   "cell_type": "code",
   "execution_count": null,
   "id": "3a8d62d3",
   "metadata": {},
   "outputs": [],
   "source": []
  },
  {
   "cell_type": "code",
   "execution_count": 8,
   "id": "854d3549",
   "metadata": {},
   "outputs": [
    {
     "ename": "NameError",
     "evalue": "name 'model' is not defined",
     "output_type": "error",
     "traceback": [
      "\u001b[0;31m---------------------------------------------------------------------------\u001b[0m",
      "\u001b[0;31mNameError\u001b[0m                                 Traceback (most recent call last)",
      "Input \u001b[0;32mIn [8]\u001b[0m, in \u001b[0;36m<cell line: 1>\u001b[0;34m()\u001b[0m\n\u001b[0;32m----> 1\u001b[0m \u001b[43mmodel\u001b[49m\u001b[38;5;241m.\u001b[39msummary()\n",
      "\u001b[0;31mNameError\u001b[0m: name 'model' is not defined"
     ]
    }
   ],
   "source": []
  },
  {
   "cell_type": "markdown",
   "id": "cbb39687",
   "metadata": {},
   "source": [
    "#check out X and y\n",
    "X,y"
   ]
  },
  {
   "cell_type": "markdown",
   "id": "60100a9f",
   "metadata": {},
   "source": [
    " try predict\n",
    "y_pred=model.predict([6.0,7.0,5.0,17.0])\n",
    "y_pred"
   ]
  },
  {
   "cell_type": "code",
   "execution_count": null,
   "id": "a8d394ff",
   "metadata": {
    "scrolled": true
   },
   "outputs": [],
   "source": []
  },
  {
   "cell_type": "code",
   "execution_count": null,
   "id": "f4832f1f",
   "metadata": {},
   "outputs": [],
   "source": []
  },
  {
   "cell_type": "markdown",
   "id": "5b229830",
   "metadata": {},
   "source": [
    "# Improving on model"
   ]
  },
  {
   "cell_type": "markdown",
   "id": "af6ff04e",
   "metadata": {},
   "source": [
    " We can improve our model by altering the steps we took to create a model.\n",
    "1. **create amodel** - here we might add more layers ,increase the numberof hidden units (all called neurons) within each of the hidden layers,change the activation fucntions of each layer.\n",
    "2. **Compiling a model** here we might change the optimizeation functions or perhaps the learning rate of the optimization functions.\n",
    "3. **Fitting a model** - here we might fit a model more epochs (leave it training for longer)or on more data(giving the model examples to learn from\n",
    "\n",
    "* **Note !**\n",
    "\n",
    "**Hyperperimeter** is like a dial in the neural network that can be adjusted to see how it improves, where as the perimeter is usually the patterns and neural"
   ]
  },
  {
   "cell_type": "code",
   "execution_count": null,
   "id": "d9e900a3",
   "metadata": {},
   "outputs": [],
   "source": [
    "# Hyperimeter"
   ]
  },
  {
   "cell_type": "code",
   "execution_count": null,
   "id": "4c6896c8",
   "metadata": {},
   "outputs": [],
   "source": [
    "\n",
    "#Trying   crete the model again\n",
    "\n",
    "#create the model \n",
    "model = tf.keras.Sequential([\n",
    "    Dense(units=100,input_shape=(1,),activation=\"relu\"),\n",
    "    Dense(units=50,activation=\"relu\"),\n",
    "    Dense(units=1)\n",
    "    \n",
    "])\n",
    "\n",
    "# compile the model\n",
    "model.compile(loss=\"mae\",\n",
    "              optimizer=tf.optimizers.Adam(learning_rate=0.01),#SGD() , ,\n",
    "              metrics=['mae']\n",
    "\n",
    ")\n",
    "\n",
    "\n",
    "#Fit the model\n",
    "model.fit(X,\n",
    "         y,\n",
    "         epochs=100)"
   ]
  },
  {
   "cell_type": "code",
   "execution_count": null,
   "id": "7b835bef",
   "metadata": {},
   "outputs": [],
   "source": [
    "y_pred=model.predict([17.0,12.0,6.0,5.0,100.0,1.0])\n",
    "y_pred"
   ]
  },
  {
   "cell_type": "code",
   "execution_count": null,
   "id": "5240eb49",
   "metadata": {},
   "outputs": [],
   "source": [
    "model.summary()"
   ]
  },
  {
   "cell_type": "markdown",
   "id": "517358a7",
   "metadata": {},
   "source": [
    "## over fitting \n",
    "learning th patterns in the traing ning data too well\n",
    " we dont evalutae our model bases on the metrics on thre training data but te metrics on the data not seen before"
   ]
  },
  {
   "cell_type": "markdown",
   "id": "fded0abe",
   "metadata": {},
   "source": [
    "##some changes we did to improve the model\n",
    "* Adding a new  layer\n",
    "*increase the number of hidden units\n",
    "*change activation functions\n",
    "*change the optimization\n",
    "*change learning rate ###most important hyperperemeter change of many neuron network\n",
    "*Fiting in more data sets"
   ]
  },
  {
   "cell_type": "markdown",
   "id": "2f19dc85",
   "metadata": {},
   "source": [
    "# EVALUATING  A MODEL"
   ]
  },
  {
   "cell_type": "markdown",
   "id": "ce1b22cf",
   "metadata": {},
   "source": [
    "**IN PRACTICE , A TIPICAL WORK FLOW WILL BE**\n",
    "```\n",
    "Bulid A Model -> Fit it -> Evaluate it->tweak a model->fit it->evaluate it->tweak model -> fit it ->evalute it ... ```"
   ]
  },
  {
   "cell_type": "markdown",
   "id": "3735bede",
   "metadata": {},
   "source": [
    "# Note\n",
    "* When Building a medl you have :experiment, experiment, experiment.\n",
    "* When it comes to evaluating:visualize, visualize, visualize\n",
    "\n",
    " **Visualize:**\n",
    " \n",
    " * **The Data**- what data are we working with ? what does it look like?\n",
    " * **The model itself** What does our model look like?\n",
    " * **The training of a model** - how long does a model perform while it  learns\n",
    " * **The prediction of the model**- how do hte prediction of a model line up against the ground truth (acual)\n",
    " "
   ]
  },
  {
   "cell_type": "markdown",
   "id": "c0886230",
   "metadata": {},
   "source": [
    "# Next Dataset"
   ]
  },
  {
   "cell_type": "code",
   "execution_count": 4,
   "id": "8878e88a",
   "metadata": {},
   "outputs": [
    {
     "name": "stderr",
     "output_type": "stream",
     "text": [
      "2022-12-12 16:54:57.950206: W tensorflow/compiler/xla/stream_executor/platform/default/dso_loader.cc:64] Could not load dynamic library 'libcuda.so.1'; dlerror: libcuda.so.1: cannot open shared object file: No such file or directory\n",
      "2022-12-12 16:54:57.950694: W tensorflow/compiler/xla/stream_executor/cuda/cuda_driver.cc:265] failed call to cuInit: UNKNOWN ERROR (303)\n",
      "2022-12-12 16:54:57.950739: I tensorflow/compiler/xla/stream_executor/cuda/cuda_diagnostics.cc:156] kernel driver does not appear to be running on this host (mylar-pc): /proc/driver/nvidia/version does not exist\n"
     ]
    },
    {
     "data": {
      "text/plain": [
       "<tf.Tensor: shape=(40,), dtype=int32, numpy=\n",
       "array([-100,  -95,  -90,  -85,  -80,  -75,  -70,  -65,  -60,  -55,  -50,\n",
       "        -45,  -40,  -35,  -30,  -25,  -20,  -15,  -10,   -5,    0,    5,\n",
       "         10,   15,   20,   25,   30,   35,   40,   45,   50,   55,   60,\n",
       "         65,   70,   75,   80,   85,   90,   95], dtype=int32)>"
      ]
     },
     "execution_count": 4,
     "metadata": {},
     "output_type": "execute_result"
    }
   ],
   "source": [
    "X=tf.range(-100,100,5)\n",
    "X"
   ]
  },
  {
   "cell_type": "code",
   "execution_count": 5,
   "id": "954ec637",
   "metadata": {
    "scrolled": true
   },
   "outputs": [
    {
     "data": {
      "text/plain": [
       "<tf.Tensor: shape=(40,), dtype=int32, numpy=\n",
       "array([-90, -85, -80, -75, -70, -65, -60, -55, -50, -45, -40, -35, -30,\n",
       "       -25, -20, -15, -10,  -5,   0,   5,  10,  15,  20,  25,  30,  35,\n",
       "        40,  45,  50,  55,  60,  65,  70,  75,  80,  85,  90,  95, 100,\n",
       "       105], dtype=int32)>"
      ]
     },
     "execution_count": 5,
     "metadata": {},
     "output_type": "execute_result"
    }
   ],
   "source": [
    "y=X+10\n",
    "y"
   ]
  },
  {
   "cell_type": "markdown",
   "id": "ab98ce05",
   "metadata": {},
   "source": [
    " # The 3 set\n",
    " * **Training dataset-70-80%:** ThE model learns from this data \n",
    " * **Validation set- 10-15%** Model gets tuned on this dataset.Testing  on  how the teak affected the model on this data set\n",
    " * **Testing dataset- 10-15%**-gets evaluated o this data to test what it has learned.\n",
    " \n",
    " \n",
    " **aim**\n",
    " we aim for generalisation ofthe model.\n",
    " Being able to perfom well on dT it hasnt seen before"
   ]
  },
  {
   "cell_type": "code",
   "execution_count": 5,
   "id": "71c37680",
   "metadata": {},
   "outputs": [
    {
     "data": {
      "text/plain": [
       "40"
      ]
     },
     "execution_count": 5,
     "metadata": {},
     "output_type": "execute_result"
    }
   ],
   "source": [
    "len(X)"
   ]
  },
  {
   "cell_type": "code",
   "execution_count": 6,
   "id": "4246cc69",
   "metadata": {},
   "outputs": [
    {
     "data": {
      "text/plain": [
       "(10, 10)"
      ]
     },
     "execution_count": 6,
     "metadata": {},
     "output_type": "execute_result"
    }
   ],
   "source": [
    "#Split the data into train and test\n",
    "X_train = X[:30] #first 40 are traing samples \n",
    "y_train = y[:30]\n",
    "\n",
    "X_test = X[30:] #last 10 are testing samples\n",
    "y_test = y[30:]\n",
    "len(X_test), len(y_test)"
   ]
  },
  {
   "cell_type": "code",
   "execution_count": 7,
   "id": "cf459c4c",
   "metadata": {},
   "outputs": [
    {
     "data": {
      "text/plain": [
       "<matplotlib.collections.PathCollection at 0x7f07ac190a90>"
      ]
     },
     "execution_count": 7,
     "metadata": {},
     "output_type": "execute_result"
    },
    {
     "data": {
      "image/png": "[encoded data removed]",
      "text/plain": [
       "<Figure size 432x288 with 1 Axes>"
      ]
     },
     "metadata": {
      "needs_background": "light"
     },
     "output_type": "display_data"
    }
   ],
   "source": [
    "import matplotlib.pyplot as plt\n",
    "plt.scatter(X,y)"
   ]
  },
  {
   "cell_type": "markdown",
   "id": "f36cb7ac",
   "metadata": {},
   "source": [
    "## visualising  the data\n",
    "Now we've got our data in training and testing sets... lets visualize it again\n"
   ]
  },
  {
   "cell_type": "code",
   "execution_count": 8,
   "id": "9e460210",
   "metadata": {},
   "outputs": [
    {
     "data": {
      "image/png": "[encoded data removed]",
      "text/plain": [
       "<Figure size 720x504 with 1 Axes>"
      ]
     },
     "metadata": {
      "needs_background": "light"
     },
     "output_type": "display_data"
    }
   ],
   "source": [
    "plt.figure(figsize=(10,7))\n",
    "\n",
    "#plot training data in blue\n",
    "plt.scatter(X_train,y_train, c=\"r\",label=\"Traing data\")\n",
    "\n",
    "#plottest data in Green\n",
    "plt.scatter(X_test,y_test, c='b',label=\"Testing\")\n",
    "#show a legend\n",
    "plt.legend();"
   ]
  },
  {
   "cell_type": "code",
   "execution_count": 9,
   "id": "3b1e43f8",
   "metadata": {},
   "outputs": [
    {
     "data": {
      "text/plain": [
       "<tf.Tensor: shape=(30,), dtype=int32, numpy=\n",
       "array([-100,  -95,  -90,  -85,  -80,  -75,  -70,  -65,  -60,  -55,  -50,\n",
       "        -45,  -40,  -35,  -30,  -25,  -20,  -15,  -10,   -5,    0,    5,\n",
       "         10,   15,   20,   25,   30,   35,   40,   45], dtype=int32)>"
      ]
     },
     "execution_count": 9,
     "metadata": {},
     "output_type": "execute_result"
    }
   ],
   "source": [
    "X_train[:100]"
   ]
  },
  {
   "cell_type": "code",
   "execution_count": 10,
   "id": "7bb84f0d",
   "metadata": {},
   "outputs": [
    {
     "data": {
      "text/plain": [
       "(1, TensorShape([30]), <tf.Tensor: shape=(), dtype=int32, numpy=30>)"
      ]
     },
     "execution_count": 10,
     "metadata": {},
     "output_type": "execute_result"
    }
   ],
   "source": [
    "X_train.ndim,X_train.shape,tf.size(X_train)"
   ]
  },
  {
   "cell_type": "code",
   "execution_count": 10,
   "id": "e399eb10",
   "metadata": {},
   "outputs": [],
   "source": [
    "#bulding the neursl network for the data\n",
    "# Build model\n",
    "# tf.random.set_seed(42)\n",
    "model=tf.keras.Sequential([\n",
    "    Dense(units=10,input_shape=(1,)),\n",
    "    Dense(units=1,name='output_layer')\n",
    "    \n",
    "],name=\"model_0\")\n",
    "\n",
    "\n",
    "#compile model\n",
    "model.compile(loss=tf.keras.losses.mae,\n",
    "              optimizer=tf.keras.optimizers.SGD(), #Adam(lr=0.01),\n",
    "              metrics=[\"mae\"]\n",
    ")\n",
    "\n",
    "\n"
   ]
  },
  {
   "cell_type": "code",
   "execution_count": 11,
   "id": "86c498c4",
   "metadata": {},
   "outputs": [
    {
     "data": {
      "text/plain": [
       "<keras.callbacks.History at 0x7f079d718a90>"
      ]
     },
     "execution_count": 11,
     "metadata": {},
     "output_type": "execute_result"
    }
   ],
   "source": [
    "#fit model\n",
    "model.fit(X_train,\n",
    "          y_train,\n",
    "          epochs=100,\n",
    "          verbose=0\n",
    ")\n"
   ]
  },
  {
   "cell_type": "markdown",
   "id": "45f195fc",
   "metadata": {},
   "source": [
    "# Model summary"
   ]
  },
  {
   "cell_type": "code",
   "execution_count": 13,
   "id": "5a54c406",
   "metadata": {
    "scrolled": false
   },
   "outputs": [
    {
     "name": "stdout",
     "output_type": "stream",
     "text": [
      "Model: \"model_0\"\n",
      "_________________________________________________________________\n",
      " Layer (type)                Output Shape              Param #   \n",
      "=================================================================\n",
      " dense (Dense)               (None, 10)                20        \n",
      "                                                                 \n",
      " output_layer (Dense)        (None, 1)                 11        \n",
      "                                                                 \n",
      "=================================================================\n",
      "Total params: 31\n",
      "Trainable params: 31\n",
      "Non-trainable params: 0\n",
      "_________________________________________________________________\n"
     ]
    }
   ],
   "source": [
    "#visualize model\n",
    "model.summary()"
   ]
  },
  {
   "cell_type": "markdown",
   "id": "658347df",
   "metadata": {},
   "source": [
    "**Dense** means a **fully connected layer**\n",
    "\n",
    "* Total params - total number of parameters in the model.\n",
    "* Trainable parameters- these are the parameters (patterns) the model can update as it trains.\n",
    "* Non-trainable params- these parameters arean't updated  during training (this is typical when you bring in already learn patterns or parameters from the other models during **transfer learning**  \n",
    "\n",
    "\n",
    "**Reasource** For more indepth overview of parameter within a layer, check out MIT's introduction to deep learning vidoe."
   ]
  },
  {
   "cell_type": "code",
   "execution_count": 14,
   "id": "abe25cb6",
   "metadata": {
    "scrolled": true
   },
   "outputs": [
    {
     "data": {
      "image/png": "[encoded data removed]",
      "text/plain": [
       "<IPython.core.display.Image object>"
      ]
     },
     "execution_count": 14,
     "metadata": {},
     "output_type": "execute_result"
    }
   ],
   "source": [
    "from tensorflow.keras.utils import plot_model\n",
    "\n",
    "plot_model(model=model,show_shapes=True)"
   ]
  },
  {
   "cell_type": "markdown",
   "id": "5838f5a9",
   "metadata": {},
   "source": [
    "# Visualizeour model predictions\n",
    "\n",
    "To visualize predictions , it's a god idea to plot them against the ground truth labels.\n",
    "\n",
    "Often you'll see this in the form of y_test or y_true versus y_pred(ground truth versus your model"
   ]
  },
  {
   "cell_type": "code",
   "execution_count": 12,
   "id": "ccacb8c7",
   "metadata": {},
   "outputs": [
    {
     "name": "stdout",
     "output_type": "stream",
     "text": [
      "1/1 [==============================] - 0s 91ms/step\n"
     ]
    },
    {
     "data": {
      "text/plain": [
       "array([[ 57.83382 ],\n",
       "       [ 63.515648],\n",
       "       [ 69.19748 ],\n",
       "       [ 74.87929 ],\n",
       "       [ 80.56111 ],\n",
       "       [ 86.242935],\n",
       "       [ 91.92476 ],\n",
       "       [ 97.60659 ],\n",
       "       [103.28841 ],\n",
       "       [108.97023 ]], dtype=float32)"
      ]
     },
     "execution_count": 12,
     "metadata": {},
     "output_type": "execute_result"
    }
   ],
   "source": [
    "#Make Some Prediction\n",
    "y_pred = model.predict(X_test)\n",
    "y_pred"
   ]
  },
  {
   "cell_type": "code",
   "execution_count": 13,
   "id": "ec3d7cf0",
   "metadata": {},
   "outputs": [],
   "source": [
    "#Let's create a plotting function\n",
    "def plot_pred(train_data=X_train,\n",
    "              train_labels=y_train,\n",
    "              test_data=X_test,\n",
    "              test_labels=y_test,\n",
    "              predictions=y_pred):\n",
    "    \"\"\"\n",
    "    Plot training data,test data and compares predictions to ground truth labels.\n",
    "    \"\"\"\n",
    "    plt.figure(figsize=(10,7))\n",
    "    #plot the traing data in blue\n",
    "    plt.scatter(train_data,train_labels,c='b',label=\"Training data\")\n",
    "    #plot testing data in green\n",
    "    plt.scatter(test_data,test_labels,c='g',label=\"Testing data\")\n",
    "    # Plot model's  predictions in red\n",
    "    plt.scatter(test_data,predictions, c='r',label='Predictions')\n",
    "    #show the legends\n",
    "    plt.legend();"
   ]
  },
  {
   "cell_type": "markdown",
   "id": "b14a2f16",
   "metadata": {},
   "source": [
    "**Note:** if you  feel like you're going to use some kind of functionality in the future , its a good idea to turn it into a function "
   ]
  },
  {
   "cell_type": "markdown",
   "id": "ef041b9f",
   "metadata": {},
   "source": [
    "# Plotting function "
   ]
  },
  {
   "cell_type": "code",
   "execution_count": 14,
   "id": "ae16af0f",
   "metadata": {},
   "outputs": [],
   "source": [
    "#Let's create a plotting function\n",
    "def plot_pred(train_data=X_train,\n",
    "              train_labels=y_train,\n",
    "              test_data=X_test,\n",
    "              test_labels=y_test,\n",
    "              predictions=y_pred):\n",
    "    \"\"\"\n",
    "    Plot training data,test data and compares predictions to ground truth labels.\n",
    "    \"\"\"\n",
    "    plt.figure(figsize=(10,7))\n",
    "    #plot the traing data in blue\n",
    "    plt.scatter(train_data,train_labels,c='b',label=\"Training data\")\n",
    "    #plot testing data in green\n",
    "    plt.scatter(test_data,test_labels,c='g',label=\"Testing data\")\n",
    "    # Plot model's  predictions in red\n",
    "    plt.scatter(test_data,predictions, c='r',label='Predictions')\n",
    "    #show the legends\n",
    "    plt.legend();"
   ]
  },
  {
   "cell_type": "code",
   "execution_count": 15,
   "id": "a444d923",
   "metadata": {},
   "outputs": [
    {
     "data": {
      "image/png": "[encoded data removed]",
      "text/plain": [
       "<Figure size 720x504 with 1 Axes>"
      ]
     },
     "metadata": {
      "needs_background": "light"
     },
     "output_type": "display_data"
    }
   ],
   "source": [
    "plot_pred()"
   ]
  },
  {
   "cell_type": "code",
   "execution_count": null,
   "id": "59584872",
   "metadata": {},
   "outputs": [],
   "source": []
  },
  {
   "cell_type": "code",
   "execution_count": null,
   "id": "c1c72d1c",
   "metadata": {},
   "outputs": [],
   "source": []
  },
  {
   "cell_type": "code",
   "execution_count": null,
   "id": "e51d6075",
   "metadata": {},
   "outputs": [],
   "source": []
  },
  {
   "cell_type": "markdown",
   "id": "8d92983b",
   "metadata": {},
   "source": [
    "## EVALUTIOIN OF MODEL"
   ]
  },
  {
   "cell_type": "code",
   "execution_count": 16,
   "id": "df33cb40",
   "metadata": {},
   "outputs": [
    {
     "data": {
      "image/png": "[encoded data removed]",
      "text/plain": [
       "<Figure size 720x504 with 1 Axes>"
      ]
     },
     "metadata": {
      "needs_background": "light"
     },
     "output_type": "display_data"
    }
   ],
   "source": [
    "plot_pred()"
   ]
  },
  {
   "cell_type": "markdown",
   "id": "b06feaa1",
   "metadata": {},
   "source": [
    "## Evaluating our model's predictions with regression evelauation metrics"
   ]
  },
  {
   "cell_type": "markdown",
   "id": "f2503886",
   "metadata": {},
   "source": [
    "Depending on the problem you'r working on , there will be different evalution metrics to evaluate your model's performance.\n",
    "\n",
    "Since we're working on a regression , two of the main metrics:\n",
    "* **MAE** - MEAN ABSOLUTE ERROR, on  average , how wrong is each of my model's predictions.\n",
    ">as a great starter metrics for any regression problems\n",
    "\n",
    "* **MSE** - mean square error, square the average errors.\n",
    ">use this when large errors are more significant than smaller errors\n",
    "* **Huber** -tf.keras.losses.huber()\n",
    ">combination of MSE and MAE .less sensitive to outliers than MSE\n"
   ]
  },
  {
   "cell_type": "markdown",
   "id": "d568d56c",
   "metadata": {},
   "source": [
    "# First one:"
   ]
  },
  {
   "cell_type": "code",
   "execution_count": 17,
   "id": "9effc595",
   "metadata": {
    "scrolled": true
   },
   "outputs": [
    {
     "name": "stdout",
     "output_type": "stream",
     "text": [
      "1/1 [==============================] - 0s 134ms/step - loss: 1.8168 - mae: 1.8168\n"
     ]
    },
    {
     "data": {
      "text/plain": [
       "[1.816781997680664, 1.816781997680664]"
      ]
     },
     "execution_count": 17,
     "metadata": {},
     "output_type": "execute_result"
    }
   ],
   "source": [
    "  #Evaluate the model on the test data\n",
    "model.evaluate(X_test,y_test)"
   ]
  },
  {
   "cell_type": "markdown",
   "id": "254a52d7",
   "metadata": {},
   "source": [
    "# Second option:"
   ]
  },
  {
   "cell_type": "markdown",
   "id": "c4699d93",
   "metadata": {},
   "source": [
    "**CALCULATE THE MAE:**\n",
    "this result should be a scaler value since it adds all records and performs the mae like the result of **model.evaluate(X_test,y_test)**"
   ]
  },
  {
   "cell_type": "code",
   "execution_count": 18,
   "id": "44a2ecd5",
   "metadata": {},
   "outputs": [
    {
     "data": {
      "text/plain": [
       "<tf.Tensor: shape=(10,), dtype=float32, numpy=\n",
       "array([24.66618 , 19.68748 , 15.981512, 13.548285, 12.5     , 12.748587,\n",
       "       14.269903, 17.063953, 21.130726, 26.47023 ], dtype=float32)>"
      ]
     },
     "execution_count": 18,
     "metadata": {},
     "output_type": "execute_result"
    }
   ],
   "source": [
    "#ans is tensor array\n",
    "tf.keras.losses.MAE(y_test,y_pred)"
   ]
  },
  {
   "cell_type": "code",
   "execution_count": 19,
   "id": "3ea2d9f7",
   "metadata": {},
   "outputs": [
    {
     "data": {
      "text/plain": [
       "<tf.Tensor: shape=(10,), dtype=float32, numpy=\n",
       "array([24.66618 , 19.68748 , 15.981512, 13.548285, 12.5     , 12.748587,\n",
       "       14.269903, 17.063953, 21.130726, 26.47023 ], dtype=float32)>"
      ]
     },
     "execution_count": 19,
     "metadata": {},
     "output_type": "execute_result"
    }
   ],
   "source": [
    "#ans is also a tensor array\n",
    "mae=tf.metrics.mean_absolute_error(y_test,y_pred)\n",
    "mae"
   ]
  },
  {
   "cell_type": "code",
   "execution_count": 20,
   "id": "5898f78e",
   "metadata": {
    "scrolled": true
   },
   "outputs": [
    {
     "data": {
      "text/plain": [
       "array([[ 57.83382 ],\n",
       "       [ 63.515648],\n",
       "       [ 69.19748 ],\n",
       "       [ 74.87929 ],\n",
       "       [ 80.56111 ],\n",
       "       [ 86.242935],\n",
       "       [ 91.92476 ],\n",
       "       [ 97.60659 ],\n",
       "       [103.28841 ],\n",
       "       [108.97023 ]], dtype=float32)"
      ]
     },
     "execution_count": 20,
     "metadata": {},
     "output_type": "execute_result"
    }
   ],
   "source": [
    "y_pred"
   ]
  },
  {
   "cell_type": "code",
   "execution_count": 21,
   "id": "eed733dc",
   "metadata": {},
   "outputs": [
    {
     "data": {
      "text/plain": [
       "<tf.Tensor: shape=(10, 1), dtype=float32, numpy=\n",
       "array([[ 57.83382 ],\n",
       "       [ 63.515648],\n",
       "       [ 69.19748 ],\n",
       "       [ 74.87929 ],\n",
       "       [ 80.56111 ],\n",
       "       [ 86.242935],\n",
       "       [ 91.92476 ],\n",
       "       [ 97.60659 ],\n",
       "       [103.28841 ],\n",
       "       [108.97023 ]], dtype=float32)>"
      ]
     },
     "execution_count": 21,
     "metadata": {},
     "output_type": "execute_result"
    }
   ],
   "source": [
    "#turn y_pred into a tensor\n",
    "tf.constant(y_pred)"
   ]
  },
  {
   "cell_type": "code",
   "execution_count": 22,
   "id": "cb6a4613",
   "metadata": {},
   "outputs": [
    {
     "data": {
      "text/plain": [
       "<tf.Tensor: shape=(10,), dtype=int32, numpy=array([ 60,  65,  70,  75,  80,  85,  90,  95, 100, 105], dtype=int32)>"
      ]
     },
     "execution_count": 22,
     "metadata": {},
     "output_type": "execute_result"
    }
   ],
   "source": [
    "y_test"
   ]
  },
  {
   "cell_type": "markdown",
   "id": "ba29b76f",
   "metadata": {},
   "source": [
    "we have to **reshape our tensors** in order to do perform a **dot product**\n",
    "\n",
    "Our **y_pred tensor** has an extra dimention compared to the **y_test**  so we **squeeze the y_pred tensor**\n"
   ]
  },
  {
   "cell_type": "code",
   "execution_count": 23,
   "id": "b486432a",
   "metadata": {},
   "outputs": [
    {
     "data": {
      "text/plain": [
       "<tf.Tensor: shape=(10,), dtype=float32, numpy=\n",
       "array([ 57.83382 ,  63.515648,  69.19748 ,  74.87929 ,  80.56111 ,\n",
       "        86.242935,  91.92476 ,  97.60659 , 103.28841 , 108.97023 ],\n",
       "      dtype=float32)>"
      ]
     },
     "execution_count": 23,
     "metadata": {},
     "output_type": "execute_result"
    }
   ],
   "source": [
    "tf.squeeze(y_pred)"
   ]
  },
  {
   "cell_type": "code",
   "execution_count": 24,
   "id": "2a9f42ba",
   "metadata": {},
   "outputs": [
    {
     "data": {
      "text/plain": [
       "<tf.Tensor: shape=(), dtype=float32, numpy=1.8167797>"
      ]
     },
     "execution_count": 24,
     "metadata": {},
     "output_type": "execute_result"
    }
   ],
   "source": [
    "#calculating the MAE again \n",
    "mae=tf.metrics.mean_absolute_error(y_test,tf.squeeze(y_pred))\n",
    "mae"
   ]
  },
  {
   "cell_type": "markdown",
   "id": "114ddad1",
   "metadata": {},
   "source": [
    "**Calculating the MSE**"
   ]
  },
  {
   "cell_type": "code",
   "execution_count": 25,
   "id": "9243a139",
   "metadata": {},
   "outputs": [
    {
     "data": {
      "text/plain": [
       "<tf.Tensor: shape=(), dtype=float32, numpy=4.6489334>"
      ]
     },
     "execution_count": 25,
     "metadata": {},
     "output_type": "execute_result"
    }
   ],
   "source": [
    "#Calculate the mean square error\n",
    "mse=tf.keras.losses.MSE(y_test,\n",
    "                    tf.squeeze(y_pred)\n",
    ")\n",
    "mse"
   ]
  },
  {
   "cell_type": "code",
   "execution_count": 26,
   "id": "2dae4402",
   "metadata": {},
   "outputs": [],
   "source": [
    "#make functions of MAE and MSE\n",
    "def mae(y_true,y_pred):\n",
    "    return tf.metrics.mean_absolute_error(y_true=y_true,\n",
    "                                         y_pred=tf.squeeze(y_pred))\n",
    "\n",
    "\n",
    "\n",
    "def mse(y_true,y_pred):\n",
    "    return tf.metrics.mean_squared_error(y_true=y_true,\n",
    "                                        y_pred=tf.squeeze(y_pred))\n"
   ]
  },
  {
   "cell_type": "markdown",
   "id": "978e52fa",
   "metadata": {},
   "source": [
    "### Running  experiments to improve our model \n",
    "```Bulid A Model -> Fit it -> Evaluate it->tweak a model->fit it->evaluate it->tweak model -> fit it ->evalute it ...```\n",
    "\n",
    "\n",
    "1. `model_1` - same as original model ,1 layer ,trianed for 150 epochs\n",
    "2. `model_2` -2 layers, trained for 100 epochs\n",
    "3. `model_3` -2 layers ,trained for 500 epochs\n"
   ]
  },
  {
   "cell_type": "markdown",
   "id": "9da54010",
   "metadata": {},
   "source": [
    "**Bulid Model_1**"
   ]
  },
  {
   "cell_type": "code",
   "execution_count": 27,
   "id": "145070df",
   "metadata": {
    "scrolled": true
   },
   "outputs": [
    {
     "name": "stdout",
     "output_type": "stream",
     "text": [
      "Epoch 1/150\n",
      "1/1 [==============================] - 0s 346ms/step - loss: 64.3332 - mae: 64.3332\n",
      "Epoch 2/150\n",
      "1/1 [==============================] - 0s 7ms/step - loss: 21.2337 - mae: 21.2337\n",
      "Epoch 3/150\n",
      "1/1 [==============================] - 0s 12ms/step - loss: 22.2888 - mae: 22.2888\n",
      "Epoch 4/150\n",
      "1/1 [==============================] - 0s 10ms/step - loss: 24.0052 - mae: 24.0052\n",
      "Epoch 5/150\n",
      "1/1 [==============================] - 0s 12ms/step - loss: 12.4722 - mae: 12.4722\n",
      "Epoch 6/150\n",
      "1/1 [==============================] - 0s 16ms/step - loss: 19.3790 - mae: 19.3790\n",
      "Epoch 7/150\n",
      "1/1 [==============================] - 0s 9ms/step - loss: 14.5574 - mae: 14.5574\n",
      "Epoch 8/150\n",
      "1/1 [==============================] - 0s 8ms/step - loss: 16.3819 - mae: 16.3819\n",
      "Epoch 9/150\n",
      "1/1 [==============================] - 0s 9ms/step - loss: 15.6258 - mae: 15.6258\n",
      "Epoch 10/150\n",
      "1/1 [==============================] - 0s 9ms/step - loss: 14.8112 - mae: 14.8112\n",
      "Epoch 11/150\n",
      "1/1 [==============================] - 0s 8ms/step - loss: 15.6697 - mae: 15.6697\n",
      "Epoch 12/150\n",
      "1/1 [==============================] - 0s 8ms/step - loss: 14.3610 - mae: 14.3610\n",
      "Epoch 13/150\n",
      "1/1 [==============================] - 0s 8ms/step - loss: 15.6218 - mae: 15.6218\n",
      "Epoch 14/150\n",
      "1/1 [==============================] - 0s 8ms/step - loss: 14.1225 - mae: 14.1225\n",
      "Epoch 15/150\n",
      "1/1 [==============================] - 0s 6ms/step - loss: 15.5177 - mae: 15.5177\n",
      "Epoch 16/150\n",
      "1/1 [==============================] - 0s 5ms/step - loss: 14.0170 - mae: 14.0170\n",
      "Epoch 17/150\n",
      "1/1 [==============================] - 0s 7ms/step - loss: 15.3800 - mae: 15.3800\n",
      "Epoch 18/150\n",
      "1/1 [==============================] - 0s 10ms/step - loss: 13.9946 - mae: 13.9946\n",
      "Epoch 19/150\n",
      "1/1 [==============================] - 0s 6ms/step - loss: 15.2229 - mae: 15.2229\n",
      "Epoch 20/150\n",
      "1/1 [==============================] - 0s 6ms/step - loss: 14.0235 - mae: 14.0235\n",
      "Epoch 21/150\n",
      "1/1 [==============================] - 0s 8ms/step - loss: 15.0554 - mae: 15.0554\n",
      "Epoch 22/150\n",
      "1/1 [==============================] - 0s 5ms/step - loss: 14.0836 - mae: 14.0836\n",
      "Epoch 23/150\n",
      "1/1 [==============================] - 0s 6ms/step - loss: 14.8834 - mae: 14.8834\n",
      "Epoch 24/150\n",
      "1/1 [==============================] - 0s 19ms/step - loss: 14.1621 - mae: 14.1621\n",
      "Epoch 25/150\n",
      "1/1 [==============================] - 0s 5ms/step - loss: 14.7105 - mae: 14.7105\n",
      "Epoch 26/150\n",
      "1/1 [==============================] - 0s 7ms/step - loss: 14.2509 - mae: 14.2509\n",
      "Epoch 27/150\n",
      "1/1 [==============================] - 0s 8ms/step - loss: 14.5389 - mae: 14.5389\n",
      "Epoch 28/150\n",
      "1/1 [==============================] - 0s 7ms/step - loss: 14.3449 - mae: 14.3449\n",
      "Epoch 29/150\n",
      "1/1 [==============================] - 0s 10ms/step - loss: 14.3700 - mae: 14.3700\n",
      "Epoch 30/150\n",
      "1/1 [==============================] - 0s 10ms/step - loss: 14.4409 - mae: 14.4409\n",
      "Epoch 31/150\n",
      "1/1 [==============================] - 0s 9ms/step - loss: 14.2048 - mae: 14.2048\n",
      "Epoch 32/150\n",
      "1/1 [==============================] - 0s 9ms/step - loss: 14.5367 - mae: 14.5367\n",
      "Epoch 33/150\n",
      "1/1 [==============================] - 0s 13ms/step - loss: 14.0438 - mae: 14.0438\n",
      "Epoch 34/150\n",
      "1/1 [==============================] - 0s 10ms/step - loss: 14.6334 - mae: 14.6334\n",
      "Epoch 35/150\n",
      "1/1 [==============================] - 0s 10ms/step - loss: 14.6567 - mae: 14.6567\n",
      "Epoch 36/150\n",
      "1/1 [==============================] - 0s 12ms/step - loss: 14.1707 - mae: 14.1707\n",
      "Epoch 37/150\n",
      "1/1 [==============================] - 0s 11ms/step - loss: 14.5004 - mae: 14.5004\n",
      "Epoch 38/150\n",
      "1/1 [==============================] - 0s 11ms/step - loss: 14.2633 - mae: 14.2633\n",
      "Epoch 39/150\n",
      "1/1 [==============================] - 0s 8ms/step - loss: 14.3490 - mae: 14.3490\n",
      "Epoch 40/150\n",
      "1/1 [==============================] - 0s 9ms/step - loss: 14.3528 - mae: 14.3528\n",
      "Epoch 41/150\n",
      "1/1 [==============================] - 0s 9ms/step - loss: 14.2027 - mae: 14.2027\n",
      "Epoch 42/150\n",
      "1/1 [==============================] - 0s 9ms/step - loss: 14.4389 - mae: 14.4389\n",
      "Epoch 43/150\n",
      "1/1 [==============================] - 0s 8ms/step - loss: 14.0613 - mae: 14.0613\n",
      "Epoch 44/150\n",
      "1/1 [==============================] - 0s 11ms/step - loss: 14.5252 - mae: 14.5252\n",
      "Epoch 45/150\n",
      "1/1 [==============================] - 0s 8ms/step - loss: 14.6960 - mae: 14.6960\n",
      "Epoch 46/150\n",
      "1/1 [==============================] - 0s 8ms/step - loss: 14.0466 - mae: 14.0466\n",
      "Epoch 47/150\n",
      "1/1 [==============================] - 0s 9ms/step - loss: 14.5603 - mae: 14.5603\n",
      "Epoch 48/150\n",
      "1/1 [==============================] - 0s 9ms/step - loss: 14.1253 - mae: 14.1253\n",
      "Epoch 49/150\n",
      "1/1 [==============================] - 0s 9ms/step - loss: 14.4297 - mae: 14.4297\n",
      "Epoch 50/150\n",
      "1/1 [==============================] - 0s 8ms/step - loss: 14.2005 - mae: 14.2005\n",
      "Epoch 51/150\n",
      "1/1 [==============================] - 0s 6ms/step - loss: 14.3040 - mae: 14.3040\n",
      "Epoch 52/150\n",
      "1/1 [==============================] - 0s 6ms/step - loss: 14.2721 - mae: 14.2721\n",
      "Epoch 53/150\n",
      "1/1 [==============================] - 0s 9ms/step - loss: 14.1833 - mae: 14.1833\n",
      "Epoch 54/150\n",
      "1/1 [==============================] - 0s 9ms/step - loss: 14.3419 - mae: 14.3419\n",
      "Epoch 55/150\n",
      "1/1 [==============================] - 0s 12ms/step - loss: 14.8431 - mae: 14.8431\n",
      "Epoch 56/150\n",
      "1/1 [==============================] - 0s 8ms/step - loss: 13.8466 - mae: 13.8466\n",
      "Epoch 57/150\n",
      "1/1 [==============================] - 0s 9ms/step - loss: 14.7282 - mae: 14.7282\n",
      "Epoch 58/150\n",
      "1/1 [==============================] - 0s 8ms/step - loss: 13.9103 - mae: 13.9103\n",
      "Epoch 59/150\n",
      "1/1 [==============================] - 0s 7ms/step - loss: 14.6183 - mae: 14.6183\n",
      "Epoch 60/150\n",
      "1/1 [==============================] - 0s 7ms/step - loss: 13.9706 - mae: 13.9706\n",
      "Epoch 61/150\n",
      "1/1 [==============================] - 0s 5ms/step - loss: 14.5133 - mae: 14.5133\n",
      "Epoch 62/150\n",
      "1/1 [==============================] - 0s 9ms/step - loss: 14.0274 - mae: 14.0274\n",
      "Epoch 63/150\n",
      "1/1 [==============================] - 0s 9ms/step - loss: 14.4132 - mae: 14.4132\n",
      "Epoch 64/150\n",
      "1/1 [==============================] - 0s 8ms/step - loss: 14.0806 - mae: 14.0806\n",
      "Epoch 65/150\n",
      "1/1 [==============================] - 0s 14ms/step - loss: 14.3179 - mae: 14.3179\n",
      "Epoch 66/150\n",
      "1/1 [==============================] - 0s 10ms/step - loss: 14.1304 - mae: 14.1304\n",
      "Epoch 67/150\n",
      "1/1 [==============================] - 0s 8ms/step - loss: 14.2274 - mae: 14.2274\n",
      "Epoch 68/150\n",
      "1/1 [==============================] - 0s 6ms/step - loss: 14.1799 - mae: 14.1799\n",
      "Epoch 69/150\n",
      "1/1 [==============================] - 0s 6ms/step - loss: 14.9203 - mae: 14.9203\n",
      "Epoch 70/150\n",
      "1/1 [==============================] - 0s 8ms/step - loss: 13.6583 - mae: 13.6583\n",
      "Epoch 71/150\n",
      "1/1 [==============================] - 0s 8ms/step - loss: 14.8356 - mae: 14.8356\n",
      "Epoch 72/150\n",
      "1/1 [==============================] - 0s 11ms/step - loss: 13.7002 - mae: 13.7002\n",
      "Epoch 73/150\n",
      "1/1 [==============================] - 0s 12ms/step - loss: 14.7558 - mae: 14.7558\n",
      "Epoch 74/150\n",
      "1/1 [==============================] - 0s 8ms/step - loss: 13.7388 - mae: 13.7388\n",
      "Epoch 75/150\n",
      "1/1 [==============================] - 0s 8ms/step - loss: 14.6807 - mae: 14.6807\n",
      "Epoch 76/150\n",
      "1/1 [==============================] - 0s 8ms/step - loss: 13.7739 - mae: 13.7739\n",
      "Epoch 77/150\n",
      "1/1 [==============================] - 0s 9ms/step - loss: 14.6104 - mae: 14.6104\n",
      "Epoch 78/150\n",
      "1/1 [==============================] - 0s 7ms/step - loss: 13.8055 - mae: 13.8055\n",
      "Epoch 79/150\n",
      "1/1 [==============================] - 0s 9ms/step - loss: 14.5449 - mae: 14.5449\n",
      "Epoch 80/150\n",
      "1/1 [==============================] - 0s 8ms/step - loss: 13.8338 - mae: 13.8338\n",
      "Epoch 81/150\n",
      "1/1 [==============================] - 0s 8ms/step - loss: 14.4840 - mae: 14.4840\n",
      "Epoch 82/150\n",
      "1/1 [==============================] - 0s 7ms/step - loss: 13.8588 - mae: 13.8588\n",
      "Epoch 83/150\n",
      "1/1 [==============================] - 0s 12ms/step - loss: 14.4277 - mae: 14.4277\n",
      "Epoch 84/150\n",
      "1/1 [==============================] - 0s 9ms/step - loss: 13.8804 - mae: 13.8804\n",
      "Epoch 85/150\n",
      "1/1 [==============================] - 0s 11ms/step - loss: 15.2129 - mae: 15.2129\n",
      "Epoch 86/150\n",
      "1/1 [==============================] - 0s 9ms/step - loss: 15.3561 - mae: 15.3561\n",
      "Epoch 87/150\n"
     ]
    },
    {
     "name": "stdout",
     "output_type": "stream",
     "text": [
      "1/1 [==============================] - 0s 6ms/step - loss: 13.1510 - mae: 13.1510\n",
      "Epoch 88/150\n",
      "1/1 [==============================] - 0s 8ms/step - loss: 14.8112 - mae: 14.8112\n",
      "Epoch 89/150\n",
      "1/1 [==============================] - 0s 9ms/step - loss: 13.8676 - mae: 13.8676\n",
      "Epoch 90/150\n",
      "1/1 [==============================] - 0s 7ms/step - loss: 14.2519 - mae: 14.2519\n",
      "Epoch 91/150\n",
      "1/1 [==============================] - 0s 8ms/step - loss: 14.6034 - mae: 14.6034\n",
      "Epoch 92/150\n",
      "1/1 [==============================] - 0s 8ms/step - loss: 15.6968 - mae: 15.6968\n",
      "Epoch 93/150\n",
      "1/1 [==============================] - 0s 7ms/step - loss: 12.6354 - mae: 12.6354\n",
      "Epoch 94/150\n",
      "1/1 [==============================] - 0s 7ms/step - loss: 15.1502 - mae: 15.1502\n",
      "Epoch 95/150\n",
      "1/1 [==============================] - 0s 10ms/step - loss: 13.3540 - mae: 13.3540\n",
      "Epoch 96/150\n",
      "1/1 [==============================] - 0s 7ms/step - loss: 14.5892 - mae: 14.5892\n",
      "Epoch 97/150\n",
      "1/1 [==============================] - 0s 6ms/step - loss: 14.0918 - mae: 14.0918\n",
      "Epoch 98/150\n",
      "1/1 [==============================] - 0s 9ms/step - loss: 14.0133 - mae: 14.0133\n",
      "Epoch 99/150\n",
      "1/1 [==============================] - 0s 7ms/step - loss: 14.8911 - mae: 14.8911\n",
      "Epoch 100/150\n",
      "1/1 [==============================] - 0s 8ms/step - loss: 15.4625 - mae: 15.4625\n",
      "Epoch 101/150\n",
      "1/1 [==============================] - 0s 8ms/step - loss: 12.8768 - mae: 12.8768\n",
      "Epoch 102/150\n",
      "1/1 [==============================] - 0s 7ms/step - loss: 14.8992 - mae: 14.8992\n",
      "Epoch 103/150\n",
      "1/1 [==============================] - 0s 10ms/step - loss: 13.6174 - mae: 13.6174\n",
      "Epoch 104/150\n",
      "1/1 [==============================] - 0s 9ms/step - loss: 14.3209 - mae: 14.3209\n",
      "Epoch 105/150\n",
      "1/1 [==============================] - 0s 10ms/step - loss: 14.3784 - mae: 14.3784\n",
      "Epoch 106/150\n",
      "1/1 [==============================] - 0s 16ms/step - loss: 15.7433 - mae: 15.7433\n",
      "Epoch 107/150\n",
      "1/1 [==============================] - 0s 8ms/step - loss: 12.4428 - mae: 12.4428\n",
      "Epoch 108/150\n",
      "1/1 [==============================] - 0s 8ms/step - loss: 15.1771 - mae: 15.1771\n",
      "Epoch 109/150\n",
      "1/1 [==============================] - 0s 7ms/step - loss: 13.1869 - mae: 13.1869\n",
      "Epoch 110/150\n",
      "1/1 [==============================] - 0s 6ms/step - loss: 14.5959 - mae: 14.5959\n",
      "Epoch 111/150\n",
      "1/1 [==============================] - 0s 8ms/step - loss: 13.9511 - mae: 13.9511\n",
      "Epoch 112/150\n",
      "1/1 [==============================] - 0s 11ms/step - loss: 13.9992 - mae: 13.9992\n",
      "Epoch 113/150\n",
      "1/1 [==============================] - 0s 10ms/step - loss: 14.7905 - mae: 14.7905\n",
      "Epoch 114/150\n",
      "1/1 [==============================] - 0s 9ms/step - loss: 15.4308 - mae: 15.4308\n",
      "Epoch 115/150\n",
      "1/1 [==============================] - 0s 8ms/step - loss: 12.7893 - mae: 12.7893\n",
      "Epoch 116/150\n",
      "1/1 [==============================] - 0s 10ms/step - loss: 14.8462 - mae: 14.8462\n",
      "Epoch 117/150\n",
      "1/1 [==============================] - 0s 9ms/step - loss: 13.5578 - mae: 13.5578\n",
      "Epoch 118/150\n",
      "1/1 [==============================] - 0s 8ms/step - loss: 14.2458 - mae: 14.2458\n",
      "Epoch 119/150\n",
      "1/1 [==============================] - 0s 7ms/step - loss: 14.3695 - mae: 14.3695\n",
      "Epoch 120/150\n",
      "1/1 [==============================] - 0s 9ms/step - loss: 15.6544 - mae: 15.6544\n",
      "Epoch 121/150\n",
      "1/1 [==============================] - 0s 9ms/step - loss: 12.4326 - mae: 12.4326\n",
      "Epoch 122/150\n",
      "1/1 [==============================] - 0s 8ms/step - loss: 15.0658 - mae: 15.0658\n",
      "Epoch 123/150\n",
      "1/1 [==============================] - 0s 8ms/step - loss: 13.2062 - mae: 13.2062\n",
      "Epoch 124/150\n",
      "1/1 [==============================] - 0s 14ms/step - loss: 14.4613 - mae: 14.4613\n",
      "Epoch 125/150\n",
      "1/1 [==============================] - 0s 7ms/step - loss: 14.0008 - mae: 14.0008\n",
      "Epoch 126/150\n",
      "1/1 [==============================] - 0s 7ms/step - loss: 13.8405 - mae: 13.8405\n",
      "Epoch 127/150\n",
      "1/1 [==============================] - 0s 7ms/step - loss: 14.9209 - mae: 14.9209\n",
      "Epoch 128/150\n",
      "1/1 [==============================] - 0s 8ms/step - loss: 17.0287 - mae: 17.0287\n",
      "Epoch 129/150\n",
      "1/1 [==============================] - 0s 7ms/step - loss: 11.0660 - mae: 11.0660\n",
      "Epoch 130/150\n",
      "1/1 [==============================] - 0s 8ms/step - loss: 16.0379 - mae: 16.0379\n",
      "Epoch 131/150\n",
      "1/1 [==============================] - 0s 7ms/step - loss: 11.8260 - mae: 11.8260\n",
      "Epoch 132/150\n",
      "1/1 [==============================] - 0s 9ms/step - loss: 15.4434 - mae: 15.4434\n",
      "Epoch 133/150\n",
      "1/1 [==============================] - 0s 8ms/step - loss: 12.6069 - mae: 12.6069\n",
      "Epoch 134/150\n",
      "1/1 [==============================] - 0s 7ms/step - loss: 14.8329 - mae: 14.8329\n",
      "Epoch 135/150\n",
      "1/1 [==============================] - 0s 7ms/step - loss: 13.4092 - mae: 13.4092\n",
      "Epoch 136/150\n",
      "1/1 [==============================] - 0s 7ms/step - loss: 14.2057 - mae: 14.2057\n",
      "Epoch 137/150\n",
      "1/1 [==============================] - 0s 7ms/step - loss: 14.2755 - mae: 14.2755\n",
      "Epoch 138/150\n",
      "1/1 [==============================] - 0s 7ms/step - loss: 15.5935 - mae: 15.5935\n",
      "Epoch 139/150\n",
      "1/1 [==============================] - 0s 8ms/step - loss: 12.3497 - mae: 12.3497\n",
      "Epoch 140/150\n",
      "1/1 [==============================] - 0s 13ms/step - loss: 14.9773 - mae: 14.9773\n",
      "Epoch 141/150\n",
      "1/1 [==============================] - 0s 5ms/step - loss: 13.1591 - mae: 13.1591\n",
      "Epoch 142/150\n",
      "1/1 [==============================] - 0s 10ms/step - loss: 14.3444 - mae: 14.3444\n",
      "Epoch 143/150\n",
      "1/1 [==============================] - 0s 8ms/step - loss: 14.0167 - mae: 14.0167\n",
      "Epoch 144/150\n",
      "1/1 [==============================] - 0s 7ms/step - loss: 15.7159 - mae: 15.7159\n",
      "Epoch 145/150\n",
      "1/1 [==============================] - 0s 8ms/step - loss: 12.1299 - mae: 12.1299\n",
      "Epoch 146/150\n",
      "1/1 [==============================] - 0s 9ms/step - loss: 15.0936 - mae: 15.0936\n",
      "Epoch 147/150\n",
      "1/1 [==============================] - 0s 9ms/step - loss: 12.9471 - mae: 12.9471\n",
      "Epoch 148/150\n",
      "1/1 [==============================] - 0s 7ms/step - loss: 14.4543 - mae: 14.4543\n",
      "Epoch 149/150\n",
      "1/1 [==============================] - 0s 7ms/step - loss: 13.8010 - mae: 13.8010\n",
      "Epoch 150/150\n",
      "1/1 [==============================] - 0s 7ms/step - loss: 15.8113 - mae: 15.8113\n"
     ]
    },
    {
     "data": {
      "text/plain": [
       "<keras.callbacks.History at 0x7f079dee7670>"
      ]
     },
     "execution_count": 27,
     "metadata": {},
     "output_type": "execute_result"
    }
   ],
   "source": [
    "#set random seed\n",
    "tf.random.set_seed(42)\n",
    "\n",
    "#create the model\n",
    "model_1=tf.keras.Sequential([\n",
    "    Dense(units=10,input_shape=(1,)),\n",
    "    Dense(units=1)\n",
    "])\n",
    "\n",
    "#compile model\n",
    "model_1.compile(loss=tf.keras.losses.mae,\n",
    "               optimizer=tf.keras.optimizers.SGD(),\n",
    "               metrics=['mae']\n",
    "    \n",
    ")\n",
    "\n",
    "#fit model\n",
    "model_1.fit(X_train,\n",
    "          y_train,\n",
    "          epochs=150,\n",
    "          \n",
    ")"
   ]
  },
  {
   "cell_type": "code",
   "execution_count": 28,
   "id": "d9aebc2d",
   "metadata": {},
   "outputs": [
    {
     "name": "stdout",
     "output_type": "stream",
     "text": [
      "1/1 [==============================] - 0s 63ms/step\n"
     ]
    },
    {
     "data": {
      "image/png": "[encoded data removed]",
      "text/plain": [
       "<Figure size 720x504 with 1 Axes>"
      ]
     },
     "metadata": {
      "needs_background": "light"
     },
     "output_type": "display_data"
    }
   ],
   "source": [
    "#Visualize predictions for model_1\n",
    "y_pred_1 = model_1.predict(X_test)\n",
    "\n",
    "plot_pred(predictions=y_pred_1)\n",
    "\n"
   ]
  },
  {
   "cell_type": "code",
   "execution_count": 29,
   "id": "9061b73a",
   "metadata": {},
   "outputs": [
    {
     "data": {
      "text/plain": [
       "(<tf.Tensor: shape=(), dtype=float32, numpy=1.6423786>,\n",
       " <tf.Tensor: shape=(), dtype=float32, numpy=3.6996536>)"
      ]
     },
     "execution_count": 29,
     "metadata": {},
     "output_type": "execute_result"
    }
   ],
   "source": [
    "#calculating model_1 evaluation metrics\n",
    "mae_1 = mae(y_test,y_pred_1)\n",
    "mse_1= mse(y_test,y_pred_1)\n",
    "\n",
    "mae_1,mse_1"
   ]
  },
  {
   "cell_type": "markdown",
   "id": "e69d6b70",
   "metadata": {},
   "source": [
    "**model_2**"
   ]
  },
  {
   "cell_type": "code",
   "execution_count": 30,
   "id": "382c75d8",
   "metadata": {
    "scrolled": true
   },
   "outputs": [
    {
     "name": "stdout",
     "output_type": "stream",
     "text": [
      "Epoch 1/50\n",
      "1/1 [==============================] - 0s 395ms/step - loss: 38.8681 - mae: 38.8681\n",
      "Epoch 2/50\n",
      "1/1 [==============================] - 0s 10ms/step - loss: 97.5014 - mae: 97.5014\n",
      "Epoch 3/50\n",
      "1/1 [==============================] - 0s 9ms/step - loss: 38.8949 - mae: 38.8949\n",
      "Epoch 4/50\n",
      "1/1 [==============================] - 0s 10ms/step - loss: 32.7804 - mae: 32.7804\n",
      "Epoch 5/50\n",
      "1/1 [==============================] - 0s 10ms/step - loss: 22.2513 - mae: 22.2513\n",
      "Epoch 6/50\n",
      "1/1 [==============================] - 0s 13ms/step - loss: 13.0200 - mae: 13.0200\n",
      "Epoch 7/50\n",
      "1/1 [==============================] - 0s 9ms/step - loss: 26.0081 - mae: 26.0081\n",
      "Epoch 8/50\n",
      "1/1 [==============================] - 0s 7ms/step - loss: 7.9168 - mae: 7.9168\n",
      "Epoch 9/50\n",
      "1/1 [==============================] - 0s 12ms/step - loss: 30.2017 - mae: 30.2017\n",
      "Epoch 10/50\n",
      "1/1 [==============================] - 0s 9ms/step - loss: 32.1686 - mae: 32.1686\n",
      "Epoch 11/50\n",
      "1/1 [==============================] - 0s 7ms/step - loss: 24.1651 - mae: 24.1651\n",
      "Epoch 12/50\n",
      "1/1 [==============================] - 0s 11ms/step - loss: 7.1443 - mae: 7.1443\n",
      "Epoch 13/50\n",
      "1/1 [==============================] - 0s 8ms/step - loss: 15.2880 - mae: 15.2880\n",
      "Epoch 14/50\n",
      "1/1 [==============================] - 0s 10ms/step - loss: 22.8685 - mae: 22.8685\n",
      "Epoch 15/50\n",
      "1/1 [==============================] - 0s 8ms/step - loss: 7.8603 - mae: 7.8603\n",
      "Epoch 16/50\n",
      "1/1 [==============================] - 0s 8ms/step - loss: 25.1259 - mae: 25.1259\n",
      "Epoch 17/50\n",
      "1/1 [==============================] - 0s 9ms/step - loss: 9.0794 - mae: 9.0794\n",
      "Epoch 18/50\n",
      "1/1 [==============================] - 0s 10ms/step - loss: 31.6072 - mae: 31.6072\n",
      "Epoch 19/50\n",
      "1/1 [==============================] - 0s 10ms/step - loss: 30.3387 - mae: 30.3387\n",
      "Epoch 20/50\n",
      "1/1 [==============================] - 0s 9ms/step - loss: 21.0566 - mae: 21.0566\n",
      "Epoch 21/50\n",
      "1/1 [==============================] - 0s 11ms/step - loss: 10.4831 - mae: 10.4831\n",
      "Epoch 22/50\n",
      "1/1 [==============================] - 0s 8ms/step - loss: 23.7484 - mae: 23.7484\n",
      "Epoch 23/50\n",
      "1/1 [==============================] - 0s 5ms/step - loss: 7.2895 - mae: 7.2895\n",
      "Epoch 24/50\n",
      "1/1 [==============================] - 0s 9ms/step - loss: 18.3942 - mae: 18.3942\n",
      "Epoch 25/50\n",
      "1/1 [==============================] - 0s 10ms/step - loss: 27.3119 - mae: 27.3119\n",
      "Epoch 26/50\n",
      "1/1 [==============================] - 0s 10ms/step - loss: 14.2984 - mae: 14.2984\n",
      "Epoch 27/50\n",
      "1/1 [==============================] - 0s 8ms/step - loss: 23.3265 - mae: 23.3265\n",
      "Epoch 28/50\n",
      "1/1 [==============================] - 0s 6ms/step - loss: 29.2697 - mae: 29.2697\n",
      "Epoch 29/50\n",
      "1/1 [==============================] - 0s 10ms/step - loss: 19.0042 - mae: 19.0042\n",
      "Epoch 30/50\n",
      "1/1 [==============================] - 0s 6ms/step - loss: 13.9887 - mae: 13.9887\n",
      "Epoch 31/50\n",
      "1/1 [==============================] - 0s 8ms/step - loss: 22.3649 - mae: 22.3649\n",
      "Epoch 32/50\n",
      "1/1 [==============================] - 0s 7ms/step - loss: 7.5705 - mae: 7.5705\n",
      "Epoch 33/50\n",
      "1/1 [==============================] - 0s 9ms/step - loss: 24.5356 - mae: 24.5356\n",
      "Epoch 34/50\n",
      "1/1 [==============================] - 0s 9ms/step - loss: 8.7839 - mae: 8.7839\n",
      "Epoch 35/50\n",
      "1/1 [==============================] - 0s 13ms/step - loss: 31.3605 - mae: 31.3605\n",
      "Epoch 36/50\n",
      "1/1 [==============================] - 0s 10ms/step - loss: 29.8387 - mae: 29.8387\n",
      "Epoch 37/50\n",
      "1/1 [==============================] - 0s 8ms/step - loss: 20.4386 - mae: 20.4386\n",
      "Epoch 38/50\n",
      "1/1 [==============================] - 0s 8ms/step - loss: 11.0857 - mae: 11.0857\n",
      "Epoch 39/50\n",
      "1/1 [==============================] - 0s 11ms/step - loss: 23.2414 - mae: 23.2414\n",
      "Epoch 40/50\n",
      "1/1 [==============================] - 0s 9ms/step - loss: 6.8863 - mae: 6.8863\n",
      "Epoch 41/50\n",
      "1/1 [==============================] - 0s 8ms/step - loss: 15.0476 - mae: 15.0476\n",
      "Epoch 42/50\n",
      "1/1 [==============================] - 0s 9ms/step - loss: 21.9329 - mae: 21.9329\n",
      "Epoch 43/50\n",
      "1/1 [==============================] - 0s 8ms/step - loss: 8.2100 - mae: 8.2100\n",
      "Epoch 44/50\n",
      "1/1 [==============================] - 0s 9ms/step - loss: 24.2129 - mae: 24.2129\n",
      "Epoch 45/50\n",
      "1/1 [==============================] - 0s 9ms/step - loss: 8.1844 - mae: 8.1844\n",
      "Epoch 46/50\n",
      "1/1 [==============================] - 0s 9ms/step - loss: 28.9954 - mae: 28.9954\n",
      "Epoch 47/50\n",
      "1/1 [==============================] - 0s 8ms/step - loss: 29.8511 - mae: 29.8511\n",
      "Epoch 48/50\n",
      "1/1 [==============================] - 0s 8ms/step - loss: 20.4753 - mae: 20.4753\n",
      "Epoch 49/50\n",
      "1/1 [==============================] - 0s 7ms/step - loss: 10.8931 - mae: 10.8931\n",
      "Epoch 50/50\n",
      "1/1 [==============================] - 0s 8ms/step - loss: 23.2396 - mae: 23.2396\n"
     ]
    },
    {
     "data": {
      "text/plain": [
       "<keras.callbacks.History at 0x7f079dd55fd0>"
      ]
     },
     "execution_count": 30,
     "metadata": {},
     "output_type": "execute_result"
    }
   ],
   "source": [
    "#set random seed\n",
    "tf.random.set_seed(42)\n",
    "\n",
    "#build model\n",
    "model_2=tf.keras.Sequential([\n",
    "    Dense(units=10,input_shape=(1,)),\n",
    "    Dense(units=5),\n",
    "    Dense(units=1)\n",
    "])\n",
    " #compile Model_2\n",
    "model_2.compile(loss=tf.keras.losses.mae,\n",
    "                optimizer=tf.keras.optimizers.SGD(),\n",
    "                metrics=['mae']\n",
    ")\n",
    "\n",
    "\n",
    "#Fit model_2\n",
    "model_2.fit(X_train,\n",
    "            y_train,\n",
    "            epochs=50\n",
    ")"
   ]
  },
  {
   "cell_type": "code",
   "execution_count": 31,
   "id": "84a0cd43",
   "metadata": {},
   "outputs": [
    {
     "name": "stdout",
     "output_type": "stream",
     "text": [
      "1/1 [==============================] - 0s 65ms/step\n"
     ]
    },
    {
     "data": {
      "image/png": "[encoded data removed]",
      "text/plain": [
       "<Figure size 720x504 with 1 Axes>"
      ]
     },
     "metadata": {
      "needs_background": "light"
     },
     "output_type": "display_data"
    }
   ],
   "source": [
    "#visualize plot predictionns for model_2\n",
    "y_pred_2=  model_2.predict(X_test)\n",
    "plot_pred(predictions=y_pred_2)"
   ]
  },
  {
   "cell_type": "code",
   "execution_count": 32,
   "id": "fb5f8453",
   "metadata": {},
   "outputs": [
    {
     "data": {
      "text/plain": [
       "(<tf.Tensor: shape=(), dtype=float32, numpy=19.749924>,\n",
       " <tf.Tensor: shape=(), dtype=float32, numpy=394.1047>)"
      ]
     },
     "execution_count": 32,
     "metadata": {},
     "output_type": "execute_result"
    }
   ],
   "source": [
    "#calculating model_2 evaluation metrics\n",
    "mae_2 = mae(y_test,y_pred_2)\n",
    "mse_2= mse(y_test,y_pred_2)\n",
    "\n",
    "mae_2,mse_2"
   ]
  },
  {
   "cell_type": "markdown",
   "id": "281852bb",
   "metadata": {},
   "source": [
    "**model_3**\n"
   ]
  },
  {
   "cell_type": "code",
   "execution_count": 33,
   "id": "eb15b926",
   "metadata": {},
   "outputs": [
    {
     "name": "stderr",
     "output_type": "stream",
     "text": [
      "WARNING:absl:`lr` is deprecated, please use `learning_rate` instead, or use the legacy optimizer, e.g.,tf.keras.optimizers.legacy.Adam.\n"
     ]
    },
    {
     "name": "stdout",
     "output_type": "stream",
     "text": [
      "Epoch 1/1000\n",
      "1/1 [==============================] - 0s 494ms/step - loss: 47.8856 - mae: 47.8856\n",
      "Epoch 2/1000\n",
      "1/1 [==============================] - 0s 9ms/step - loss: 47.3637 - mae: 47.3637\n",
      "Epoch 3/1000\n",
      "1/1 [==============================] - 0s 7ms/step - loss: 46.8422 - mae: 46.8422\n",
      "Epoch 4/1000\n",
      "1/1 [==============================] - 0s 18ms/step - loss: 46.3213 - mae: 46.3213\n",
      "Epoch 5/1000\n",
      "1/1 [==============================] - 0s 16ms/step - loss: 45.8008 - mae: 45.8008\n",
      "Epoch 6/1000\n",
      "1/1 [==============================] - 0s 8ms/step - loss: 45.2806 - mae: 45.2806\n",
      "Epoch 7/1000\n",
      "1/1 [==============================] - 0s 8ms/step - loss: 44.7608 - mae: 44.7608\n",
      "Epoch 8/1000\n",
      "1/1 [==============================] - 0s 6ms/step - loss: 44.2412 - mae: 44.2412\n",
      "Epoch 9/1000\n",
      "1/1 [==============================] - 0s 7ms/step - loss: 43.7219 - mae: 43.7219\n",
      "Epoch 10/1000\n",
      "1/1 [==============================] - 0s 7ms/step - loss: 43.2027 - mae: 43.2027\n",
      "Epoch 11/1000\n",
      "1/1 [==============================] - 0s 9ms/step - loss: 42.6837 - mae: 42.6837\n",
      "Epoch 12/1000\n",
      "1/1 [==============================] - 0s 6ms/step - loss: 42.1648 - mae: 42.1648\n",
      "Epoch 13/1000\n",
      "1/1 [==============================] - 0s 7ms/step - loss: 41.6460 - mae: 41.6460\n",
      "Epoch 14/1000\n",
      "1/1 [==============================] - 0s 5ms/step - loss: 41.1273 - mae: 41.1273\n",
      "Epoch 15/1000\n",
      "1/1 [==============================] - 0s 8ms/step - loss: 40.6086 - mae: 40.6086\n",
      "Epoch 16/1000\n",
      "1/1 [==============================] - 0s 7ms/step - loss: 40.0899 - mae: 40.0899\n",
      "Epoch 17/1000\n",
      "1/1 [==============================] - 0s 7ms/step - loss: 39.5712 - mae: 39.5712\n",
      "Epoch 18/1000\n",
      "1/1 [==============================] - 0s 8ms/step - loss: 39.0523 - mae: 39.0523\n",
      "Epoch 19/1000\n",
      "1/1 [==============================] - 0s 7ms/step - loss: 38.5333 - mae: 38.5333\n",
      "Epoch 20/1000\n",
      "1/1 [==============================] - 0s 9ms/step - loss: 38.0158 - mae: 38.0158\n",
      "Epoch 21/1000\n",
      "1/1 [==============================] - 0s 8ms/step - loss: 37.5103 - mae: 37.5103\n",
      "Epoch 22/1000\n",
      "1/1 [==============================] - 0s 6ms/step - loss: 37.0071 - mae: 37.0071\n",
      "Epoch 23/1000\n",
      "1/1 [==============================] - 0s 7ms/step - loss: 36.5034 - mae: 36.5034\n",
      "Epoch 24/1000\n",
      "1/1 [==============================] - 0s 6ms/step - loss: 35.9958 - mae: 35.9958\n",
      "Epoch 25/1000\n",
      "1/1 [==============================] - 0s 7ms/step - loss: 35.4869 - mae: 35.4869\n",
      "Epoch 26/1000\n",
      "1/1 [==============================] - 0s 15ms/step - loss: 34.9776 - mae: 34.9776\n",
      "Epoch 27/1000\n",
      "1/1 [==============================] - 0s 8ms/step - loss: 34.4675 - mae: 34.4675\n",
      "Epoch 28/1000\n",
      "1/1 [==============================] - 0s 10ms/step - loss: 33.9568 - mae: 33.9568\n",
      "Epoch 29/1000\n",
      "1/1 [==============================] - 0s 7ms/step - loss: 33.4452 - mae: 33.4452\n",
      "Epoch 30/1000\n",
      "1/1 [==============================] - 0s 13ms/step - loss: 32.9328 - mae: 32.9328\n",
      "Epoch 31/1000\n",
      "1/1 [==============================] - 0s 7ms/step - loss: 32.4193 - mae: 32.4193\n",
      "Epoch 32/1000\n",
      "1/1 [==============================] - 0s 12ms/step - loss: 31.9060 - mae: 31.9060\n",
      "Epoch 33/1000\n",
      "1/1 [==============================] - 0s 7ms/step - loss: 31.3954 - mae: 31.3954\n",
      "Epoch 34/1000\n",
      "1/1 [==============================] - 0s 7ms/step - loss: 30.8860 - mae: 30.8860\n",
      "Epoch 35/1000\n",
      "1/1 [==============================] - 0s 9ms/step - loss: 30.3745 - mae: 30.3745\n",
      "Epoch 36/1000\n",
      "1/1 [==============================] - 0s 11ms/step - loss: 29.8614 - mae: 29.8614\n",
      "Epoch 37/1000\n",
      "1/1 [==============================] - 0s 12ms/step - loss: 29.3469 - mae: 29.3469\n",
      "Epoch 38/1000\n",
      "1/1 [==============================] - 0s 7ms/step - loss: 28.8308 - mae: 28.8308\n",
      "Epoch 39/1000\n",
      "1/1 [==============================] - 0s 10ms/step - loss: 28.3131 - mae: 28.3131\n",
      "Epoch 40/1000\n",
      "1/1 [==============================] - 0s 9ms/step - loss: 27.7938 - mae: 27.7938\n",
      "Epoch 41/1000\n",
      "1/1 [==============================] - 0s 9ms/step - loss: 27.2727 - mae: 27.2727\n",
      "Epoch 42/1000\n",
      "1/1 [==============================] - 0s 14ms/step - loss: 26.7499 - mae: 26.7499\n",
      "Epoch 43/1000\n",
      "1/1 [==============================] - 0s 7ms/step - loss: 26.2252 - mae: 26.2252\n",
      "Epoch 44/1000\n",
      "1/1 [==============================] - 0s 9ms/step - loss: 25.6985 - mae: 25.6985\n",
      "Epoch 45/1000\n",
      "1/1 [==============================] - 0s 10ms/step - loss: 25.1699 - mae: 25.1699\n",
      "Epoch 46/1000\n",
      "1/1 [==============================] - 0s 8ms/step - loss: 24.6393 - mae: 24.6393\n",
      "Epoch 47/1000\n",
      "1/1 [==============================] - 0s 9ms/step - loss: 24.1072 - mae: 24.1072\n",
      "Epoch 48/1000\n",
      "1/1 [==============================] - 0s 9ms/step - loss: 23.5865 - mae: 23.5865\n",
      "Epoch 49/1000\n",
      "1/1 [==============================] - 0s 6ms/step - loss: 23.0656 - mae: 23.0656\n",
      "Epoch 50/1000\n",
      "1/1 [==============================] - 0s 8ms/step - loss: 22.5430 - mae: 22.5430\n",
      "Epoch 51/1000\n",
      "1/1 [==============================] - 0s 6ms/step - loss: 22.0189 - mae: 22.0189\n",
      "Epoch 52/1000\n",
      "1/1 [==============================] - 0s 10ms/step - loss: 21.4931 - mae: 21.4931\n",
      "Epoch 53/1000\n",
      "1/1 [==============================] - 0s 8ms/step - loss: 20.9655 - mae: 20.9655\n",
      "Epoch 54/1000\n",
      "1/1 [==============================] - 0s 8ms/step - loss: 20.4361 - mae: 20.4361\n",
      "Epoch 55/1000\n",
      "1/1 [==============================] - 0s 7ms/step - loss: 19.9049 - mae: 19.9049\n",
      "Epoch 56/1000\n",
      "1/1 [==============================] - 0s 10ms/step - loss: 19.3715 - mae: 19.3715\n",
      "Epoch 57/1000\n",
      "1/1 [==============================] - 0s 8ms/step - loss: 18.8352 - mae: 18.8352\n",
      "Epoch 58/1000\n",
      "1/1 [==============================] - 0s 8ms/step - loss: 18.2953 - mae: 18.2953\n",
      "Epoch 59/1000\n",
      "1/1 [==============================] - 0s 9ms/step - loss: 17.7523 - mae: 17.7523\n",
      "Epoch 60/1000\n",
      "1/1 [==============================] - 0s 7ms/step - loss: 17.2063 - mae: 17.2063\n",
      "Epoch 61/1000\n",
      "1/1 [==============================] - 0s 6ms/step - loss: 16.6696 - mae: 16.6696\n",
      "Epoch 62/1000\n",
      "1/1 [==============================] - 0s 10ms/step - loss: 16.1371 - mae: 16.1371\n",
      "Epoch 63/1000\n",
      "1/1 [==============================] - 0s 8ms/step - loss: 15.6029 - mae: 15.6029\n",
      "Epoch 64/1000\n",
      "1/1 [==============================] - 0s 9ms/step - loss: 15.0674 - mae: 15.0674\n",
      "Epoch 65/1000\n",
      "1/1 [==============================] - 0s 9ms/step - loss: 14.5326 - mae: 14.5326\n",
      "Epoch 66/1000\n",
      "1/1 [==============================] - 0s 8ms/step - loss: 13.9966 - mae: 13.9966\n",
      "Epoch 67/1000\n",
      "1/1 [==============================] - 0s 9ms/step - loss: 13.4583 - mae: 13.4583\n",
      "Epoch 68/1000\n",
      "1/1 [==============================] - 0s 9ms/step - loss: 12.9173 - mae: 12.9173\n",
      "Epoch 69/1000\n",
      "1/1 [==============================] - 0s 13ms/step - loss: 12.3941 - mae: 12.3941\n",
      "Epoch 70/1000\n",
      "1/1 [==============================] - 0s 8ms/step - loss: 11.8720 - mae: 11.8720\n",
      "Epoch 71/1000\n",
      "1/1 [==============================] - 0s 8ms/step - loss: 11.3489 - mae: 11.3489\n",
      "Epoch 72/1000\n",
      "1/1 [==============================] - 0s 6ms/step - loss: 10.8248 - mae: 10.8248\n",
      "Epoch 73/1000\n",
      "1/1 [==============================] - 0s 8ms/step - loss: 10.2992 - mae: 10.2992\n",
      "Epoch 74/1000\n",
      "1/1 [==============================] - 0s 11ms/step - loss: 9.7928 - mae: 9.7928\n",
      "Epoch 75/1000\n",
      "1/1 [==============================] - 0s 6ms/step - loss: 9.2926 - mae: 9.2926\n",
      "Epoch 76/1000\n",
      "1/1 [==============================] - 0s 9ms/step - loss: 8.7904 - mae: 8.7904\n",
      "Epoch 77/1000\n",
      "1/1 [==============================] - 0s 8ms/step - loss: 8.2885 - mae: 8.2885\n",
      "Epoch 78/1000\n",
      "1/1 [==============================] - 0s 11ms/step - loss: 7.8158 - mae: 7.8158\n",
      "Epoch 79/1000\n",
      "1/1 [==============================] - 0s 11ms/step - loss: 7.3437 - mae: 7.3437\n",
      "Epoch 80/1000\n",
      "1/1 [==============================] - 0s 10ms/step - loss: 6.8833 - mae: 6.8833\n",
      "Epoch 81/1000\n",
      "1/1 [==============================] - 0s 10ms/step - loss: 6.4494 - mae: 6.4494\n",
      "Epoch 82/1000\n",
      "1/1 [==============================] - 0s 8ms/step - loss: 6.0225 - mae: 6.0225\n",
      "Epoch 83/1000\n",
      "1/1 [==============================] - 0s 10ms/step - loss: 5.6335 - mae: 5.6335\n",
      "Epoch 84/1000\n",
      "1/1 [==============================] - 0s 8ms/step - loss: 5.2613 - mae: 5.2613\n",
      "Epoch 85/1000\n",
      "1/1 [==============================] - 0s 8ms/step - loss: 4.9221 - mae: 4.9221\n",
      "Epoch 86/1000\n"
     ]
    },
    {
     "name": "stdout",
     "output_type": "stream",
     "text": [
      "1/1 [==============================] - 0s 7ms/step - loss: 4.6363 - mae: 4.6363\n",
      "Epoch 87/1000\n",
      "1/1 [==============================] - 0s 11ms/step - loss: 4.4275 - mae: 4.4275\n",
      "Epoch 88/1000\n",
      "1/1 [==============================] - 0s 9ms/step - loss: 4.2971 - mae: 4.2971\n",
      "Epoch 89/1000\n",
      "1/1 [==============================] - 0s 8ms/step - loss: 4.2266 - mae: 4.2266\n",
      "Epoch 90/1000\n",
      "1/1 [==============================] - 0s 7ms/step - loss: 4.2244 - mae: 4.2244\n",
      "Epoch 91/1000\n",
      "1/1 [==============================] - 0s 6ms/step - loss: 4.2726 - mae: 4.2726\n",
      "Epoch 92/1000\n",
      "1/1 [==============================] - 0s 8ms/step - loss: 4.3473 - mae: 4.3473\n",
      "Epoch 93/1000\n",
      "1/1 [==============================] - 0s 10ms/step - loss: 4.4380 - mae: 4.4380\n",
      "Epoch 94/1000\n",
      "1/1 [==============================] - 0s 6ms/step - loss: 4.5379 - mae: 4.5379\n",
      "Epoch 95/1000\n",
      "1/1 [==============================] - 0s 7ms/step - loss: 4.6072 - mae: 4.6072\n",
      "Epoch 96/1000\n",
      "1/1 [==============================] - 0s 9ms/step - loss: 4.6392 - mae: 4.6392\n",
      "Epoch 97/1000\n",
      "1/1 [==============================] - 0s 13ms/step - loss: 4.6376 - mae: 4.6376\n",
      "Epoch 98/1000\n",
      "1/1 [==============================] - 0s 11ms/step - loss: 4.6059 - mae: 4.6059\n",
      "Epoch 99/1000\n",
      "1/1 [==============================] - 0s 6ms/step - loss: 4.5472 - mae: 4.5472\n",
      "Epoch 100/1000\n",
      "1/1 [==============================] - 0s 9ms/step - loss: 4.4841 - mae: 4.4841\n",
      "Epoch 101/1000\n",
      "1/1 [==============================] - 0s 10ms/step - loss: 4.4177 - mae: 4.4177\n",
      "Epoch 102/1000\n",
      "1/1 [==============================] - 0s 8ms/step - loss: 4.3678 - mae: 4.3678\n",
      "Epoch 103/1000\n",
      "1/1 [==============================] - 0s 8ms/step - loss: 4.3270 - mae: 4.3270\n",
      "Epoch 104/1000\n",
      "1/1 [==============================] - 0s 7ms/step - loss: 4.2981 - mae: 4.2981\n",
      "Epoch 105/1000\n",
      "1/1 [==============================] - 0s 11ms/step - loss: 4.2812 - mae: 4.2812\n",
      "Epoch 106/1000\n",
      "1/1 [==============================] - 0s 7ms/step - loss: 4.2724 - mae: 4.2724\n",
      "Epoch 107/1000\n",
      "1/1 [==============================] - 0s 9ms/step - loss: 4.2634 - mae: 4.2634\n",
      "Epoch 108/1000\n",
      "1/1 [==============================] - 0s 11ms/step - loss: 4.2665 - mae: 4.2665\n",
      "Epoch 109/1000\n",
      "1/1 [==============================] - 0s 8ms/step - loss: 4.2661 - mae: 4.2661\n",
      "Epoch 110/1000\n",
      "1/1 [==============================] - 0s 7ms/step - loss: 4.2627 - mae: 4.2627\n",
      "Epoch 111/1000\n",
      "1/1 [==============================] - 0s 11ms/step - loss: 4.2564 - mae: 4.2564\n",
      "Epoch 112/1000\n",
      "1/1 [==============================] - 0s 10ms/step - loss: 4.2476 - mae: 4.2476\n",
      "Epoch 113/1000\n",
      "1/1 [==============================] - 0s 10ms/step - loss: 4.2365 - mae: 4.2365\n",
      "Epoch 114/1000\n",
      "1/1 [==============================] - 0s 9ms/step - loss: 4.2239 - mae: 4.2239\n",
      "Epoch 115/1000\n",
      "1/1 [==============================] - 0s 8ms/step - loss: 4.2197 - mae: 4.2197\n",
      "Epoch 116/1000\n",
      "1/1 [==============================] - 0s 9ms/step - loss: 4.2144 - mae: 4.2144\n",
      "Epoch 117/1000\n",
      "1/1 [==============================] - 0s 8ms/step - loss: 4.2080 - mae: 4.2080\n",
      "Epoch 118/1000\n",
      "1/1 [==============================] - 0s 7ms/step - loss: 4.2007 - mae: 4.2007\n",
      "Epoch 119/1000\n",
      "1/1 [==============================] - 0s 7ms/step - loss: 4.1926 - mae: 4.1926\n",
      "Epoch 120/1000\n",
      "1/1 [==============================] - 0s 5ms/step - loss: 4.1837 - mae: 4.1837\n",
      "Epoch 121/1000\n",
      "1/1 [==============================] - 0s 9ms/step - loss: 4.1742 - mae: 4.1742\n",
      "Epoch 122/1000\n",
      "1/1 [==============================] - 0s 9ms/step - loss: 4.1639 - mae: 4.1639\n",
      "Epoch 123/1000\n",
      "1/1 [==============================] - 0s 7ms/step - loss: 4.1531 - mae: 4.1531\n",
      "Epoch 124/1000\n",
      "1/1 [==============================] - 0s 7ms/step - loss: 4.1418 - mae: 4.1418\n",
      "Epoch 125/1000\n",
      "1/1 [==============================] - 0s 12ms/step - loss: 4.1299 - mae: 4.1299\n",
      "Epoch 126/1000\n",
      "1/1 [==============================] - 0s 8ms/step - loss: 4.1241 - mae: 4.1241\n",
      "Epoch 127/1000\n",
      "1/1 [==============================] - 0s 8ms/step - loss: 4.1207 - mae: 4.1207\n",
      "Epoch 128/1000\n",
      "1/1 [==============================] - 0s 7ms/step - loss: 4.1197 - mae: 4.1197\n",
      "Epoch 129/1000\n",
      "1/1 [==============================] - 0s 8ms/step - loss: 4.1199 - mae: 4.1199\n",
      "Epoch 130/1000\n",
      "1/1 [==============================] - 0s 7ms/step - loss: 4.1186 - mae: 4.1186\n",
      "Epoch 131/1000\n",
      "1/1 [==============================] - 0s 7ms/step - loss: 4.1160 - mae: 4.1160\n",
      "Epoch 132/1000\n",
      "1/1 [==============================] - 0s 8ms/step - loss: 4.1123 - mae: 4.1123\n",
      "Epoch 133/1000\n",
      "1/1 [==============================] - 0s 6ms/step - loss: 4.1099 - mae: 4.1099\n",
      "Epoch 134/1000\n",
      "1/1 [==============================] - 0s 5ms/step - loss: 4.1066 - mae: 4.1066\n",
      "Epoch 135/1000\n",
      "1/1 [==============================] - 0s 7ms/step - loss: 4.1048 - mae: 4.1048\n",
      "Epoch 136/1000\n",
      "1/1 [==============================] - 0s 7ms/step - loss: 4.1012 - mae: 4.1012\n",
      "Epoch 137/1000\n",
      "1/1 [==============================] - 0s 6ms/step - loss: 4.0958 - mae: 4.0958\n",
      "Epoch 138/1000\n",
      "1/1 [==============================] - 0s 8ms/step - loss: 4.0922 - mae: 4.0922\n",
      "Epoch 139/1000\n",
      "1/1 [==============================] - 0s 6ms/step - loss: 4.0895 - mae: 4.0895\n",
      "Epoch 140/1000\n",
      "1/1 [==============================] - 0s 7ms/step - loss: 4.0867 - mae: 4.0867\n",
      "Epoch 141/1000\n",
      "1/1 [==============================] - 0s 6ms/step - loss: 4.0838 - mae: 4.0838\n",
      "Epoch 142/1000\n",
      "1/1 [==============================] - 0s 7ms/step - loss: 4.0809 - mae: 4.0809\n",
      "Epoch 143/1000\n",
      "1/1 [==============================] - 0s 7ms/step - loss: 4.0780 - mae: 4.0780\n",
      "Epoch 144/1000\n",
      "1/1 [==============================] - 0s 6ms/step - loss: 4.0750 - mae: 4.0750\n",
      "Epoch 145/1000\n",
      "1/1 [==============================] - 0s 8ms/step - loss: 4.0720 - mae: 4.0720\n",
      "Epoch 146/1000\n",
      "1/1 [==============================] - 0s 6ms/step - loss: 4.0689 - mae: 4.0689\n",
      "Epoch 147/1000\n",
      "1/1 [==============================] - 0s 7ms/step - loss: 4.0658 - mae: 4.0658\n",
      "Epoch 148/1000\n",
      "1/1 [==============================] - 0s 6ms/step - loss: 4.0627 - mae: 4.0627\n",
      "Epoch 149/1000\n",
      "1/1 [==============================] - 0s 9ms/step - loss: 4.0596 - mae: 4.0596\n",
      "Epoch 150/1000\n",
      "1/1 [==============================] - 0s 8ms/step - loss: 4.0564 - mae: 4.0564\n",
      "Epoch 151/1000\n",
      "1/1 [==============================] - 0s 6ms/step - loss: 4.0542 - mae: 4.0542\n",
      "Epoch 152/1000\n",
      "1/1 [==============================] - 0s 9ms/step - loss: 4.0516 - mae: 4.0516\n",
      "Epoch 153/1000\n",
      "1/1 [==============================] - 0s 5ms/step - loss: 4.0478 - mae: 4.0478\n",
      "Epoch 154/1000\n",
      "1/1 [==============================] - 0s 7ms/step - loss: 4.0453 - mae: 4.0453\n",
      "Epoch 155/1000\n",
      "1/1 [==============================] - 0s 11ms/step - loss: 4.0428 - mae: 4.0428\n",
      "Epoch 156/1000\n",
      "1/1 [==============================] - 0s 8ms/step - loss: 4.0402 - mae: 4.0402\n",
      "Epoch 157/1000\n",
      "1/1 [==============================] - 0s 6ms/step - loss: 4.0376 - mae: 4.0376\n",
      "Epoch 158/1000\n",
      "1/1 [==============================] - 0s 10ms/step - loss: 4.0348 - mae: 4.0348\n",
      "Epoch 159/1000\n",
      "1/1 [==============================] - 0s 7ms/step - loss: 4.0320 - mae: 4.0320\n",
      "Epoch 160/1000\n",
      "1/1 [==============================] - 0s 9ms/step - loss: 4.0291 - mae: 4.0291\n",
      "Epoch 161/1000\n",
      "1/1 [==============================] - 0s 9ms/step - loss: 4.0262 - mae: 4.0262\n",
      "Epoch 162/1000\n",
      "1/1 [==============================] - 0s 8ms/step - loss: 4.0233 - mae: 4.0233\n",
      "Epoch 163/1000\n",
      "1/1 [==============================] - 0s 7ms/step - loss: 4.0202 - mae: 4.0202\n",
      "Epoch 164/1000\n",
      "1/1 [==============================] - 0s 8ms/step - loss: 4.0172 - mae: 4.0172\n",
      "Epoch 165/1000\n",
      "1/1 [==============================] - 0s 8ms/step - loss: 4.0146 - mae: 4.0146\n",
      "Epoch 166/1000\n",
      "1/1 [==============================] - 0s 7ms/step - loss: 4.0110 - mae: 4.0110\n",
      "Epoch 167/1000\n",
      "1/1 [==============================] - 0s 7ms/step - loss: 4.0085 - mae: 4.0085\n",
      "Epoch 168/1000\n",
      "1/1 [==============================] - 0s 10ms/step - loss: 4.0057 - mae: 4.0057\n",
      "Epoch 169/1000\n",
      "1/1 [==============================] - 0s 6ms/step - loss: 4.0025 - mae: 4.0025\n",
      "Epoch 170/1000\n",
      "1/1 [==============================] - 0s 7ms/step - loss: 3.9998 - mae: 3.9998\n",
      "Epoch 171/1000\n",
      "1/1 [==============================] - 0s 10ms/step - loss: 3.9971 - mae: 3.9971\n",
      "Epoch 172/1000\n"
     ]
    },
    {
     "name": "stdout",
     "output_type": "stream",
     "text": [
      "1/1 [==============================] - 0s 9ms/step - loss: 3.9943 - mae: 3.9943\n",
      "Epoch 173/1000\n",
      "1/1 [==============================] - 0s 7ms/step - loss: 3.9914 - mae: 3.9914\n",
      "Epoch 174/1000\n",
      "1/1 [==============================] - 0s 11ms/step - loss: 3.9885 - mae: 3.9885\n",
      "Epoch 175/1000\n",
      "1/1 [==============================] - 0s 8ms/step - loss: 3.9855 - mae: 3.9855\n",
      "Epoch 176/1000\n",
      "1/1 [==============================] - 0s 18ms/step - loss: 3.9825 - mae: 3.9825\n",
      "Epoch 177/1000\n",
      "1/1 [==============================] - 0s 6ms/step - loss: 3.9806 - mae: 3.9806\n",
      "Epoch 178/1000\n",
      "1/1 [==============================] - 0s 6ms/step - loss: 3.9774 - mae: 3.9774\n",
      "Epoch 179/1000\n",
      "1/1 [==============================] - 0s 11ms/step - loss: 3.9742 - mae: 3.9742\n",
      "Epoch 180/1000\n",
      "1/1 [==============================] - 0s 9ms/step - loss: 3.9716 - mae: 3.9716\n",
      "Epoch 181/1000\n",
      "1/1 [==============================] - 0s 6ms/step - loss: 3.9689 - mae: 3.9689\n",
      "Epoch 182/1000\n",
      "1/1 [==============================] - 0s 6ms/step - loss: 3.9661 - mae: 3.9661\n",
      "Epoch 183/1000\n",
      "1/1 [==============================] - 0s 10ms/step - loss: 3.9633 - mae: 3.9633\n",
      "Epoch 184/1000\n",
      "1/1 [==============================] - 0s 6ms/step - loss: 3.9605 - mae: 3.9605\n",
      "Epoch 185/1000\n",
      "1/1 [==============================] - 0s 6ms/step - loss: 3.9575 - mae: 3.9575\n",
      "Epoch 186/1000\n",
      "1/1 [==============================] - 0s 6ms/step - loss: 3.9546 - mae: 3.9546\n",
      "Epoch 187/1000\n",
      "1/1 [==============================] - 0s 6ms/step - loss: 3.9516 - mae: 3.9516\n",
      "Epoch 188/1000\n",
      "1/1 [==============================] - 0s 6ms/step - loss: 3.9486 - mae: 3.9486\n",
      "Epoch 189/1000\n",
      "1/1 [==============================] - 0s 6ms/step - loss: 3.9469 - mae: 3.9469\n",
      "Epoch 190/1000\n",
      "1/1 [==============================] - 0s 8ms/step - loss: 3.9439 - mae: 3.9439\n",
      "Epoch 191/1000\n",
      "1/1 [==============================] - 0s 9ms/step - loss: 3.9405 - mae: 3.9405\n",
      "Epoch 192/1000\n",
      "1/1 [==============================] - 0s 6ms/step - loss: 3.9381 - mae: 3.9381\n",
      "Epoch 193/1000\n",
      "1/1 [==============================] - 0s 12ms/step - loss: 3.9356 - mae: 3.9356\n",
      "Epoch 194/1000\n",
      "1/1 [==============================] - 0s 7ms/step - loss: 3.9329 - mae: 3.9329\n",
      "Epoch 195/1000\n",
      "1/1 [==============================] - 0s 6ms/step - loss: 3.9303 - mae: 3.9303\n",
      "Epoch 196/1000\n",
      "1/1 [==============================] - 0s 12ms/step - loss: 3.9275 - mae: 3.9275\n",
      "Epoch 197/1000\n",
      "1/1 [==============================] - 0s 9ms/step - loss: 3.9247 - mae: 3.9247\n",
      "Epoch 198/1000\n",
      "1/1 [==============================] - 0s 7ms/step - loss: 3.9219 - mae: 3.9219\n",
      "Epoch 199/1000\n",
      "1/1 [==============================] - 0s 14ms/step - loss: 3.9190 - mae: 3.9190\n",
      "Epoch 200/1000\n",
      "1/1 [==============================] - 0s 7ms/step - loss: 3.9172 - mae: 3.9172\n",
      "Epoch 201/1000\n",
      "1/1 [==============================] - 0s 6ms/step - loss: 3.9143 - mae: 3.9143\n",
      "Epoch 202/1000\n",
      "1/1 [==============================] - 0s 10ms/step - loss: 3.9112 - mae: 3.9112\n",
      "Epoch 203/1000\n",
      "1/1 [==============================] - 0s 6ms/step - loss: 3.9088 - mae: 3.9088\n",
      "Epoch 204/1000\n",
      "1/1 [==============================] - 0s 10ms/step - loss: 3.9064 - mae: 3.9064\n",
      "Epoch 205/1000\n",
      "1/1 [==============================] - 0s 7ms/step - loss: 3.9038 - mae: 3.9038\n",
      "Epoch 206/1000\n",
      "1/1 [==============================] - 0s 9ms/step - loss: 3.9012 - mae: 3.9012\n",
      "Epoch 207/1000\n",
      "1/1 [==============================] - 0s 7ms/step - loss: 3.8985 - mae: 3.8985\n",
      "Epoch 208/1000\n",
      "1/1 [==============================] - 0s 9ms/step - loss: 3.8957 - mae: 3.8957\n",
      "Epoch 209/1000\n",
      "1/1 [==============================] - 0s 8ms/step - loss: 3.8929 - mae: 3.8929\n",
      "Epoch 210/1000\n",
      "1/1 [==============================] - 0s 6ms/step - loss: 3.8900 - mae: 3.8900\n",
      "Epoch 211/1000\n",
      "1/1 [==============================] - 0s 11ms/step - loss: 3.8871 - mae: 3.8871\n",
      "Epoch 212/1000\n",
      "1/1 [==============================] - 0s 10ms/step - loss: 3.8857 - mae: 3.8857\n",
      "Epoch 213/1000\n",
      "1/1 [==============================] - 0s 7ms/step - loss: 3.8828 - mae: 3.8828\n",
      "Epoch 214/1000\n",
      "1/1 [==============================] - 0s 11ms/step - loss: 3.8792 - mae: 3.8792\n",
      "Epoch 215/1000\n",
      "1/1 [==============================] - 0s 7ms/step - loss: 3.8768 - mae: 3.8768\n",
      "Epoch 216/1000\n",
      "1/1 [==============================] - 0s 5ms/step - loss: 3.8742 - mae: 3.8742\n",
      "Epoch 217/1000\n",
      "1/1 [==============================] - 0s 9ms/step - loss: 3.8716 - mae: 3.8716\n",
      "Epoch 218/1000\n",
      "1/1 [==============================] - 0s 7ms/step - loss: 3.8690 - mae: 3.8690\n",
      "Epoch 219/1000\n",
      "1/1 [==============================] - 0s 8ms/step - loss: 3.8662 - mae: 3.8662\n",
      "Epoch 220/1000\n",
      "1/1 [==============================] - 0s 9ms/step - loss: 3.8634 - mae: 3.8634\n",
      "Epoch 221/1000\n",
      "1/1 [==============================] - 0s 7ms/step - loss: 3.8606 - mae: 3.8606\n",
      "Epoch 222/1000\n",
      "1/1 [==============================] - 0s 6ms/step - loss: 3.8576 - mae: 3.8576\n",
      "Epoch 223/1000\n",
      "1/1 [==============================] - 0s 7ms/step - loss: 3.8559 - mae: 3.8559\n",
      "Epoch 224/1000\n",
      "1/1 [==============================] - 0s 6ms/step - loss: 3.8529 - mae: 3.8529\n",
      "Epoch 225/1000\n",
      "1/1 [==============================] - 0s 9ms/step - loss: 3.8497 - mae: 3.8497\n",
      "Epoch 226/1000\n",
      "1/1 [==============================] - 0s 5ms/step - loss: 3.8473 - mae: 3.8473\n",
      "Epoch 227/1000\n",
      "1/1 [==============================] - 0s 7ms/step - loss: 3.8448 - mae: 3.8448\n",
      "Epoch 228/1000\n",
      "1/1 [==============================] - 0s 9ms/step - loss: 3.8422 - mae: 3.8422\n",
      "Epoch 229/1000\n",
      "1/1 [==============================] - 0s 7ms/step - loss: 3.8395 - mae: 3.8395\n",
      "Epoch 230/1000\n",
      "1/1 [==============================] - 0s 11ms/step - loss: 3.8368 - mae: 3.8368\n",
      "Epoch 231/1000\n",
      "1/1 [==============================] - 0s 7ms/step - loss: 3.8339 - mae: 3.8339\n",
      "Epoch 232/1000\n",
      "1/1 [==============================] - 0s 7ms/step - loss: 3.8311 - mae: 3.8311\n",
      "Epoch 233/1000\n",
      "1/1 [==============================] - 0s 8ms/step - loss: 3.8281 - mae: 3.8281\n",
      "Epoch 234/1000\n",
      "1/1 [==============================] - 0s 5ms/step - loss: 3.8251 - mae: 3.8251\n",
      "Epoch 235/1000\n",
      "1/1 [==============================] - 0s 6ms/step - loss: 3.8235 - mae: 3.8235\n",
      "Epoch 236/1000\n",
      "1/1 [==============================] - 0s 5ms/step - loss: 3.8204 - mae: 3.8204\n",
      "Epoch 237/1000\n",
      "1/1 [==============================] - 0s 8ms/step - loss: 3.8170 - mae: 3.8170\n",
      "Epoch 238/1000\n",
      "1/1 [==============================] - 0s 6ms/step - loss: 3.8145 - mae: 3.8145\n",
      "Epoch 239/1000\n",
      "1/1 [==============================] - 0s 6ms/step - loss: 3.8120 - mae: 3.8120\n",
      "Epoch 240/1000\n",
      "1/1 [==============================] - 0s 10ms/step - loss: 3.8093 - mae: 3.8093\n",
      "Epoch 241/1000\n",
      "1/1 [==============================] - 0s 7ms/step - loss: 3.8066 - mae: 3.8066\n",
      "Epoch 242/1000\n",
      "1/1 [==============================] - 0s 19ms/step - loss: 3.8037 - mae: 3.8037\n",
      "Epoch 243/1000\n",
      "1/1 [==============================] - 0s 9ms/step - loss: 3.8008 - mae: 3.8008\n",
      "Epoch 244/1000\n",
      "1/1 [==============================] - 0s 10ms/step - loss: 3.7979 - mae: 3.7979\n",
      "Epoch 245/1000\n",
      "1/1 [==============================] - 0s 8ms/step - loss: 3.7949 - mae: 3.7949\n",
      "Epoch 246/1000\n",
      "1/1 [==============================] - 0s 6ms/step - loss: 3.7924 - mae: 3.7924\n",
      "Epoch 247/1000\n",
      "1/1 [==============================] - 0s 17ms/step - loss: 3.7892 - mae: 3.7892\n",
      "Epoch 248/1000\n",
      "1/1 [==============================] - 0s 8ms/step - loss: 3.7868 - mae: 3.7868\n",
      "Epoch 249/1000\n",
      "1/1 [==============================] - 0s 6ms/step - loss: 3.7843 - mae: 3.7843\n",
      "Epoch 250/1000\n",
      "1/1 [==============================] - 0s 9ms/step - loss: 3.7817 - mae: 3.7817\n",
      "Epoch 251/1000\n",
      "1/1 [==============================] - 0s 8ms/step - loss: 3.7790 - mae: 3.7790\n",
      "Epoch 252/1000\n",
      "1/1 [==============================] - 0s 10ms/step - loss: 3.7763 - mae: 3.7763\n",
      "Epoch 253/1000\n",
      "1/1 [==============================] - 0s 7ms/step - loss: 3.7734 - mae: 3.7734\n",
      "Epoch 254/1000\n",
      "1/1 [==============================] - 0s 7ms/step - loss: 3.7705 - mae: 3.7705\n",
      "Epoch 255/1000\n",
      "1/1 [==============================] - 0s 17ms/step - loss: 3.7676 - mae: 3.7676\n",
      "Epoch 256/1000\n",
      "1/1 [==============================] - 0s 9ms/step - loss: 3.7645 - mae: 3.7645\n",
      "Epoch 257/1000\n",
      "1/1 [==============================] - 0s 8ms/step - loss: 3.7615 - mae: 3.7615\n",
      "Epoch 258/1000\n"
     ]
    },
    {
     "name": "stdout",
     "output_type": "stream",
     "text": [
      "1/1 [==============================] - 0s 8ms/step - loss: 3.7585 - mae: 3.7585\n",
      "Epoch 259/1000\n",
      "1/1 [==============================] - 0s 10ms/step - loss: 3.7556 - mae: 3.7556\n",
      "Epoch 260/1000\n",
      "1/1 [==============================] - 0s 7ms/step - loss: 3.7528 - mae: 3.7528\n",
      "Epoch 261/1000\n",
      "1/1 [==============================] - 0s 7ms/step - loss: 3.7502 - mae: 3.7502\n",
      "Epoch 262/1000\n",
      "1/1 [==============================] - 0s 7ms/step - loss: 3.7473 - mae: 3.7473\n",
      "Epoch 263/1000\n",
      "1/1 [==============================] - 0s 6ms/step - loss: 3.7446 - mae: 3.7446\n",
      "Epoch 264/1000\n",
      "1/1 [==============================] - 0s 10ms/step - loss: 3.7419 - mae: 3.7419\n",
      "Epoch 265/1000\n",
      "1/1 [==============================] - 0s 8ms/step - loss: 3.7391 - mae: 3.7391\n",
      "Epoch 266/1000\n",
      "1/1 [==============================] - 0s 10ms/step - loss: 3.7361 - mae: 3.7361\n",
      "Epoch 267/1000\n",
      "1/1 [==============================] - 0s 11ms/step - loss: 3.7332 - mae: 3.7332\n",
      "Epoch 268/1000\n",
      "1/1 [==============================] - 0s 9ms/step - loss: 3.7301 - mae: 3.7301\n",
      "Epoch 269/1000\n",
      "1/1 [==============================] - 0s 10ms/step - loss: 3.7279 - mae: 3.7279\n",
      "Epoch 270/1000\n",
      "1/1 [==============================] - 0s 8ms/step - loss: 3.7244 - mae: 3.7244\n",
      "Epoch 271/1000\n",
      "1/1 [==============================] - 0s 5ms/step - loss: 3.7219 - mae: 3.7219\n",
      "Epoch 272/1000\n",
      "1/1 [==============================] - 0s 8ms/step - loss: 3.7194 - mae: 3.7194\n",
      "Epoch 273/1000\n",
      "1/1 [==============================] - 0s 6ms/step - loss: 3.7168 - mae: 3.7168\n",
      "Epoch 274/1000\n",
      "1/1 [==============================] - 0s 6ms/step - loss: 3.7141 - mae: 3.7141\n",
      "Epoch 275/1000\n",
      "1/1 [==============================] - 0s 9ms/step - loss: 3.7113 - mae: 3.7113\n",
      "Epoch 276/1000\n",
      "1/1 [==============================] - 0s 6ms/step - loss: 3.7084 - mae: 3.7084\n",
      "Epoch 277/1000\n",
      "1/1 [==============================] - 0s 7ms/step - loss: 3.7055 - mae: 3.7055\n",
      "Epoch 278/1000\n",
      "1/1 [==============================] - 0s 6ms/step - loss: 3.7024 - mae: 3.7024\n",
      "Epoch 279/1000\n",
      "1/1 [==============================] - 0s 7ms/step - loss: 3.6994 - mae: 3.6994\n",
      "Epoch 280/1000\n",
      "1/1 [==============================] - 0s 6ms/step - loss: 3.6962 - mae: 3.6962\n",
      "Epoch 281/1000\n",
      "1/1 [==============================] - 0s 9ms/step - loss: 3.6930 - mae: 3.6930\n",
      "Epoch 282/1000\n",
      "1/1 [==============================] - 0s 10ms/step - loss: 3.6902 - mae: 3.6902\n",
      "Epoch 283/1000\n",
      "1/1 [==============================] - 0s 8ms/step - loss: 3.6871 - mae: 3.6871\n",
      "Epoch 284/1000\n",
      "1/1 [==============================] - 0s 7ms/step - loss: 3.6845 - mae: 3.6845\n",
      "Epoch 285/1000\n",
      "1/1 [==============================] - 0s 8ms/step - loss: 3.6819 - mae: 3.6819\n",
      "Epoch 286/1000\n",
      "1/1 [==============================] - 0s 8ms/step - loss: 3.6791 - mae: 3.6791\n",
      "Epoch 287/1000\n",
      "1/1 [==============================] - 0s 7ms/step - loss: 3.6763 - mae: 3.6763\n",
      "Epoch 288/1000\n",
      "1/1 [==============================] - 0s 8ms/step - loss: 3.6734 - mae: 3.6734\n",
      "Epoch 289/1000\n",
      "1/1 [==============================] - 0s 7ms/step - loss: 3.6705 - mae: 3.6705\n",
      "Epoch 290/1000\n",
      "1/1 [==============================] - 0s 8ms/step - loss: 3.6674 - mae: 3.6674\n",
      "Epoch 291/1000\n",
      "1/1 [==============================] - 0s 7ms/step - loss: 3.6643 - mae: 3.6643\n",
      "Epoch 292/1000\n",
      "1/1 [==============================] - 0s 6ms/step - loss: 3.6612 - mae: 3.6612\n",
      "Epoch 293/1000\n",
      "1/1 [==============================] - 0s 6ms/step - loss: 3.6580 - mae: 3.6580\n",
      "Epoch 294/1000\n",
      "1/1 [==============================] - 0s 7ms/step - loss: 3.6564 - mae: 3.6564\n",
      "Epoch 295/1000\n",
      "1/1 [==============================] - 0s 8ms/step - loss: 3.6531 - mae: 3.6531\n",
      "Epoch 296/1000\n",
      "1/1 [==============================] - 0s 9ms/step - loss: 3.6494 - mae: 3.6494\n",
      "Epoch 297/1000\n",
      "1/1 [==============================] - 0s 6ms/step - loss: 3.6467 - mae: 3.6467\n",
      "Epoch 298/1000\n",
      "1/1 [==============================] - 0s 9ms/step - loss: 3.6440 - mae: 3.6440\n",
      "Epoch 299/1000\n",
      "1/1 [==============================] - 0s 7ms/step - loss: 3.6412 - mae: 3.6412\n",
      "Epoch 300/1000\n",
      "1/1 [==============================] - 0s 7ms/step - loss: 3.6383 - mae: 3.6383\n",
      "Epoch 301/1000\n",
      "1/1 [==============================] - 0s 8ms/step - loss: 3.6353 - mae: 3.6353\n",
      "Epoch 302/1000\n",
      "1/1 [==============================] - 0s 8ms/step - loss: 3.6322 - mae: 3.6322\n",
      "Epoch 303/1000\n",
      "1/1 [==============================] - 0s 7ms/step - loss: 3.6291 - mae: 3.6291\n",
      "Epoch 304/1000\n",
      "1/1 [==============================] - 0s 9ms/step - loss: 3.6259 - mae: 3.6259\n",
      "Epoch 305/1000\n",
      "1/1 [==============================] - 0s 7ms/step - loss: 3.6228 - mae: 3.6228\n",
      "Epoch 306/1000\n",
      "1/1 [==============================] - 0s 10ms/step - loss: 3.6199 - mae: 3.6199\n",
      "Epoch 307/1000\n",
      "1/1 [==============================] - 0s 11ms/step - loss: 3.6169 - mae: 3.6169\n",
      "Epoch 308/1000\n",
      "1/1 [==============================] - 0s 9ms/step - loss: 3.6139 - mae: 3.6139\n",
      "Epoch 309/1000\n",
      "1/1 [==============================] - 0s 6ms/step - loss: 3.6111 - mae: 3.6111\n",
      "Epoch 310/1000\n",
      "1/1 [==============================] - 0s 9ms/step - loss: 3.6081 - mae: 3.6081\n",
      "Epoch 311/1000\n",
      "1/1 [==============================] - 0s 13ms/step - loss: 3.6053 - mae: 3.6053\n",
      "Epoch 312/1000\n",
      "1/1 [==============================] - 0s 9ms/step - loss: 3.6024 - mae: 3.6024\n",
      "Epoch 313/1000\n",
      "1/1 [==============================] - 0s 9ms/step - loss: 3.5995 - mae: 3.5995\n",
      "Epoch 314/1000\n",
      "1/1 [==============================] - 0s 9ms/step - loss: 3.5964 - mae: 3.5964\n",
      "Epoch 315/1000\n",
      "1/1 [==============================] - 0s 8ms/step - loss: 3.5933 - mae: 3.5933\n",
      "Epoch 316/1000\n",
      "1/1 [==============================] - 0s 7ms/step - loss: 3.5901 - mae: 3.5901\n",
      "Epoch 317/1000\n",
      "1/1 [==============================] - 0s 10ms/step - loss: 3.5882 - mae: 3.5882\n",
      "Epoch 318/1000\n",
      "1/1 [==============================] - 0s 8ms/step - loss: 3.5845 - mae: 3.5845\n",
      "Epoch 319/1000\n",
      "1/1 [==============================] - 0s 9ms/step - loss: 3.5815 - mae: 3.5815\n",
      "Epoch 320/1000\n",
      "1/1 [==============================] - 0s 9ms/step - loss: 3.5789 - mae: 3.5789\n",
      "Epoch 321/1000\n",
      "1/1 [==============================] - 0s 6ms/step - loss: 3.5761 - mae: 3.5761\n",
      "Epoch 322/1000\n",
      "1/1 [==============================] - 0s 8ms/step - loss: 3.5733 - mae: 3.5733\n",
      "Epoch 323/1000\n",
      "1/1 [==============================] - 0s 8ms/step - loss: 3.5704 - mae: 3.5704\n",
      "Epoch 324/1000\n",
      "1/1 [==============================] - 0s 7ms/step - loss: 3.5673 - mae: 3.5673\n",
      "Epoch 325/1000\n",
      "1/1 [==============================] - 0s 7ms/step - loss: 3.5642 - mae: 3.5642\n",
      "Epoch 326/1000\n",
      "1/1 [==============================] - 0s 8ms/step - loss: 3.5611 - mae: 3.5611\n",
      "Epoch 327/1000\n",
      "1/1 [==============================] - 0s 8ms/step - loss: 3.5578 - mae: 3.5578\n",
      "Epoch 328/1000\n",
      "1/1 [==============================] - 0s 6ms/step - loss: 3.5545 - mae: 3.5545\n",
      "Epoch 329/1000\n",
      "1/1 [==============================] - 0s 10ms/step - loss: 3.5512 - mae: 3.5512\n",
      "Epoch 330/1000\n",
      "1/1 [==============================] - 0s 8ms/step - loss: 3.5481 - mae: 3.5481\n",
      "Epoch 331/1000\n",
      "1/1 [==============================] - 0s 8ms/step - loss: 3.5448 - mae: 3.5448\n",
      "Epoch 332/1000\n",
      "1/1 [==============================] - 0s 8ms/step - loss: 3.5418 - mae: 3.5418\n",
      "Epoch 333/1000\n",
      "1/1 [==============================] - 0s 15ms/step - loss: 3.5390 - mae: 3.5390\n",
      "Epoch 334/1000\n",
      "1/1 [==============================] - 0s 5ms/step - loss: 3.5362 - mae: 3.5362\n",
      "Epoch 335/1000\n",
      "1/1 [==============================] - 0s 7ms/step - loss: 3.5333 - mae: 3.5333\n",
      "Epoch 336/1000\n",
      "1/1 [==============================] - 0s 9ms/step - loss: 3.5303 - mae: 3.5303\n",
      "Epoch 337/1000\n",
      "1/1 [==============================] - 0s 6ms/step - loss: 3.5272 - mae: 3.5272\n",
      "Epoch 338/1000\n",
      "1/1 [==============================] - 0s 10ms/step - loss: 3.5240 - mae: 3.5240\n",
      "Epoch 339/1000\n",
      "1/1 [==============================] - 0s 8ms/step - loss: 3.5207 - mae: 3.5207\n",
      "Epoch 340/1000\n",
      "1/1 [==============================] - 0s 6ms/step - loss: 3.5174 - mae: 3.5174\n",
      "Epoch 341/1000\n",
      "1/1 [==============================] - 0s 10ms/step - loss: 3.5141 - mae: 3.5141\n",
      "Epoch 342/1000\n",
      "1/1 [==============================] - 0s 7ms/step - loss: 3.5122 - mae: 3.5122\n",
      "Epoch 343/1000\n",
      "1/1 [==============================] - 0s 6ms/step - loss: 3.5086 - mae: 3.5086\n",
      "Epoch 344/1000\n"
     ]
    },
    {
     "name": "stdout",
     "output_type": "stream",
     "text": [
      "1/1 [==============================] - 0s 12ms/step - loss: 3.5050 - mae: 3.5050\n",
      "Epoch 345/1000\n",
      "1/1 [==============================] - 0s 6ms/step - loss: 3.5022 - mae: 3.5022\n",
      "Epoch 346/1000\n",
      "1/1 [==============================] - 0s 10ms/step - loss: 3.4993 - mae: 3.4993\n",
      "Epoch 347/1000\n",
      "1/1 [==============================] - 0s 6ms/step - loss: 3.4964 - mae: 3.4964\n",
      "Epoch 348/1000\n",
      "1/1 [==============================] - 0s 12ms/step - loss: 3.4933 - mae: 3.4933\n",
      "Epoch 349/1000\n",
      "1/1 [==============================] - 0s 8ms/step - loss: 3.4901 - mae: 3.4901\n",
      "Epoch 350/1000\n",
      "1/1 [==============================] - 0s 8ms/step - loss: 3.4869 - mae: 3.4869\n",
      "Epoch 351/1000\n",
      "1/1 [==============================] - 0s 6ms/step - loss: 3.4836 - mae: 3.4836\n",
      "Epoch 352/1000\n",
      "1/1 [==============================] - 0s 7ms/step - loss: 3.4802 - mae: 3.4802\n",
      "Epoch 353/1000\n",
      "1/1 [==============================] - 0s 7ms/step - loss: 3.4768 - mae: 3.4768\n",
      "Epoch 354/1000\n",
      "1/1 [==============================] - 0s 6ms/step - loss: 3.4734 - mae: 3.4734\n",
      "Epoch 355/1000\n",
      "1/1 [==============================] - 0s 8ms/step - loss: 3.4702 - mae: 3.4702\n",
      "Epoch 356/1000\n",
      "1/1 [==============================] - 0s 8ms/step - loss: 3.4671 - mae: 3.4671\n",
      "Epoch 357/1000\n",
      "1/1 [==============================] - 0s 7ms/step - loss: 3.4639 - mae: 3.4639\n",
      "Epoch 358/1000\n",
      "1/1 [==============================] - 0s 7ms/step - loss: 3.4613 - mae: 3.4613\n",
      "Epoch 359/1000\n",
      "1/1 [==============================] - 0s 8ms/step - loss: 3.4577 - mae: 3.4577\n",
      "Epoch 360/1000\n",
      "1/1 [==============================] - 0s 6ms/step - loss: 3.4547 - mae: 3.4547\n",
      "Epoch 361/1000\n",
      "1/1 [==============================] - 0s 5ms/step - loss: 3.4515 - mae: 3.4515\n",
      "Epoch 362/1000\n",
      "1/1 [==============================] - 0s 6ms/step - loss: 3.4484 - mae: 3.4484\n",
      "Epoch 363/1000\n",
      "1/1 [==============================] - 0s 8ms/step - loss: 3.4451 - mae: 3.4451\n",
      "Epoch 364/1000\n",
      "1/1 [==============================] - 0s 6ms/step - loss: 3.4417 - mae: 3.4417\n",
      "Epoch 365/1000\n",
      "1/1 [==============================] - 0s 6ms/step - loss: 3.4387 - mae: 3.4387\n",
      "Epoch 366/1000\n",
      "1/1 [==============================] - 0s 10ms/step - loss: 3.4353 - mae: 3.4353\n",
      "Epoch 367/1000\n",
      "1/1 [==============================] - 0s 7ms/step - loss: 3.4322 - mae: 3.4322\n",
      "Epoch 368/1000\n",
      "1/1 [==============================] - 0s 7ms/step - loss: 3.4290 - mae: 3.4290\n",
      "Epoch 369/1000\n",
      "1/1 [==============================] - 0s 7ms/step - loss: 3.4258 - mae: 3.4258\n",
      "Epoch 370/1000\n",
      "1/1 [==============================] - 0s 7ms/step - loss: 3.4224 - mae: 3.4224\n",
      "Epoch 371/1000\n",
      "1/1 [==============================] - 0s 8ms/step - loss: 3.4196 - mae: 3.4196\n",
      "Epoch 372/1000\n",
      "1/1 [==============================] - 0s 11ms/step - loss: 3.4160 - mae: 3.4160\n",
      "Epoch 373/1000\n",
      "1/1 [==============================] - 0s 11ms/step - loss: 3.4129 - mae: 3.4129\n",
      "Epoch 374/1000\n",
      "1/1 [==============================] - 0s 11ms/step - loss: 3.4097 - mae: 3.4097\n",
      "Epoch 375/1000\n",
      "1/1 [==============================] - 0s 11ms/step - loss: 3.4064 - mae: 3.4064\n",
      "Epoch 376/1000\n",
      "1/1 [==============================] - 0s 13ms/step - loss: 3.4030 - mae: 3.4030\n",
      "Epoch 377/1000\n",
      "1/1 [==============================] - 0s 14ms/step - loss: 3.3999 - mae: 3.3999\n",
      "Epoch 378/1000\n",
      "1/1 [==============================] - 0s 13ms/step - loss: 3.3966 - mae: 3.3966\n",
      "Epoch 379/1000\n",
      "1/1 [==============================] - 0s 8ms/step - loss: 3.3935 - mae: 3.3935\n",
      "Epoch 380/1000\n",
      "1/1 [==============================] - 0s 9ms/step - loss: 3.3902 - mae: 3.3902\n",
      "Epoch 381/1000\n",
      "1/1 [==============================] - 0s 9ms/step - loss: 3.3869 - mae: 3.3869\n",
      "Epoch 382/1000\n",
      "1/1 [==============================] - 0s 11ms/step - loss: 3.3836 - mae: 3.3836\n",
      "Epoch 383/1000\n",
      "1/1 [==============================] - 0s 12ms/step - loss: 3.3801 - mae: 3.3801\n",
      "Epoch 384/1000\n",
      "1/1 [==============================] - 0s 8ms/step - loss: 3.3776 - mae: 3.3776\n",
      "Epoch 385/1000\n",
      "1/1 [==============================] - 0s 8ms/step - loss: 3.3735 - mae: 3.3735\n",
      "Epoch 386/1000\n",
      "1/1 [==============================] - 0s 10ms/step - loss: 3.3703 - mae: 3.3703\n",
      "Epoch 387/1000\n",
      "1/1 [==============================] - 0s 8ms/step - loss: 3.3670 - mae: 3.3670\n",
      "Epoch 388/1000\n",
      "1/1 [==============================] - 0s 18ms/step - loss: 3.3636 - mae: 3.3636\n",
      "Epoch 389/1000\n",
      "1/1 [==============================] - 0s 8ms/step - loss: 3.3606 - mae: 3.3606\n",
      "Epoch 390/1000\n",
      "1/1 [==============================] - 0s 9ms/step - loss: 3.3571 - mae: 3.3571\n",
      "Epoch 391/1000\n",
      "1/1 [==============================] - 0s 8ms/step - loss: 3.3540 - mae: 3.3540\n",
      "Epoch 392/1000\n",
      "1/1 [==============================] - 0s 10ms/step - loss: 3.3507 - mae: 3.3507\n",
      "Epoch 393/1000\n",
      "1/1 [==============================] - 0s 8ms/step - loss: 3.3474 - mae: 3.3474\n",
      "Epoch 394/1000\n",
      "1/1 [==============================] - 0s 8ms/step - loss: 3.3440 - mae: 3.3440\n",
      "Epoch 395/1000\n",
      "1/1 [==============================] - 0s 6ms/step - loss: 3.3405 - mae: 3.3405\n",
      "Epoch 396/1000\n",
      "1/1 [==============================] - 0s 11ms/step - loss: 3.3369 - mae: 3.3369\n",
      "Epoch 397/1000\n",
      "1/1 [==============================] - 0s 6ms/step - loss: 3.3348 - mae: 3.3348\n",
      "Epoch 398/1000\n",
      "1/1 [==============================] - 0s 11ms/step - loss: 3.3306 - mae: 3.3306\n",
      "Epoch 399/1000\n",
      "1/1 [==============================] - 0s 7ms/step - loss: 3.3273 - mae: 3.3273\n",
      "Epoch 400/1000\n",
      "1/1 [==============================] - 0s 8ms/step - loss: 3.3244 - mae: 3.3244\n",
      "Epoch 401/1000\n",
      "1/1 [==============================] - 0s 9ms/step - loss: 3.3213 - mae: 3.3213\n",
      "Epoch 402/1000\n",
      "1/1 [==============================] - 0s 10ms/step - loss: 3.3181 - mae: 3.3181\n",
      "Epoch 403/1000\n",
      "1/1 [==============================] - 0s 9ms/step - loss: 3.3149 - mae: 3.3149\n",
      "Epoch 404/1000\n",
      "1/1 [==============================] - 0s 12ms/step - loss: 3.3115 - mae: 3.3115\n",
      "Epoch 405/1000\n",
      "1/1 [==============================] - 0s 11ms/step - loss: 3.3080 - mae: 3.3080\n",
      "Epoch 406/1000\n",
      "1/1 [==============================] - 0s 10ms/step - loss: 3.3045 - mae: 3.3045\n",
      "Epoch 407/1000\n",
      "1/1 [==============================] - 0s 9ms/step - loss: 3.3009 - mae: 3.3009\n",
      "Epoch 408/1000\n",
      "1/1 [==============================] - 0s 9ms/step - loss: 3.2972 - mae: 3.2972\n",
      "Epoch 409/1000\n",
      "1/1 [==============================] - 0s 12ms/step - loss: 3.2934 - mae: 3.2934\n",
      "Epoch 410/1000\n",
      "1/1 [==============================] - 0s 9ms/step - loss: 3.2897 - mae: 3.2897\n",
      "Epoch 411/1000\n",
      "1/1 [==============================] - 0s 8ms/step - loss: 3.2870 - mae: 3.2870\n",
      "Epoch 412/1000\n",
      "1/1 [==============================] - 0s 10ms/step - loss: 3.2833 - mae: 3.2833\n",
      "Epoch 413/1000\n",
      "1/1 [==============================] - 0s 8ms/step - loss: 3.2795 - mae: 3.2795\n",
      "Epoch 414/1000\n",
      "1/1 [==============================] - 0s 12ms/step - loss: 3.2763 - mae: 3.2763\n",
      "Epoch 415/1000\n",
      "1/1 [==============================] - 0s 8ms/step - loss: 3.2731 - mae: 3.2731\n",
      "Epoch 416/1000\n",
      "1/1 [==============================] - 0s 11ms/step - loss: 3.2698 - mae: 3.2698\n",
      "Epoch 417/1000\n",
      "1/1 [==============================] - 0s 7ms/step - loss: 3.2664 - mae: 3.2664\n",
      "Epoch 418/1000\n",
      "1/1 [==============================] - 0s 9ms/step - loss: 3.2628 - mae: 3.2628\n",
      "Epoch 419/1000\n",
      "1/1 [==============================] - 0s 8ms/step - loss: 3.2592 - mae: 3.2592\n",
      "Epoch 420/1000\n",
      "1/1 [==============================] - 0s 9ms/step - loss: 3.2556 - mae: 3.2556\n",
      "Epoch 421/1000\n",
      "1/1 [==============================] - 0s 8ms/step - loss: 3.2518 - mae: 3.2518\n",
      "Epoch 422/1000\n",
      "1/1 [==============================] - 0s 7ms/step - loss: 3.2480 - mae: 3.2480\n",
      "Epoch 423/1000\n",
      "1/1 [==============================] - 0s 10ms/step - loss: 3.2452 - mae: 3.2452\n",
      "Epoch 424/1000\n",
      "1/1 [==============================] - 0s 7ms/step - loss: 3.2411 - mae: 3.2411\n",
      "Epoch 425/1000\n",
      "1/1 [==============================] - 0s 6ms/step - loss: 3.2377 - mae: 3.2377\n",
      "Epoch 426/1000\n",
      "1/1 [==============================] - 0s 8ms/step - loss: 3.2346 - mae: 3.2346\n",
      "Epoch 427/1000\n",
      "1/1 [==============================] - 0s 8ms/step - loss: 3.2315 - mae: 3.2315\n",
      "Epoch 428/1000\n",
      "1/1 [==============================] - 0s 8ms/step - loss: 3.2281 - mae: 3.2281\n",
      "Epoch 429/1000\n",
      "1/1 [==============================] - 0s 9ms/step - loss: 3.2246 - mae: 3.2246\n",
      "Epoch 430/1000\n"
     ]
    },
    {
     "name": "stdout",
     "output_type": "stream",
     "text": [
      "1/1 [==============================] - 0s 8ms/step - loss: 3.2211 - mae: 3.2211\n",
      "Epoch 431/1000\n",
      "1/1 [==============================] - 0s 11ms/step - loss: 3.2175 - mae: 3.2175\n",
      "Epoch 432/1000\n",
      "1/1 [==============================] - 0s 8ms/step - loss: 3.2138 - mae: 3.2138\n",
      "Epoch 433/1000\n",
      "1/1 [==============================] - 0s 9ms/step - loss: 3.2101 - mae: 3.2101\n",
      "Epoch 434/1000\n",
      "1/1 [==============================] - 0s 9ms/step - loss: 3.2062 - mae: 3.2062\n",
      "Epoch 435/1000\n",
      "1/1 [==============================] - 0s 10ms/step - loss: 3.2023 - mae: 3.2023\n",
      "Epoch 436/1000\n",
      "1/1 [==============================] - 0s 8ms/step - loss: 3.1993 - mae: 3.1993\n",
      "Epoch 437/1000\n",
      "1/1 [==============================] - 0s 8ms/step - loss: 3.1953 - mae: 3.1953\n",
      "Epoch 438/1000\n",
      "1/1 [==============================] - 0s 6ms/step - loss: 3.1917 - mae: 3.1917\n",
      "Epoch 439/1000\n",
      "1/1 [==============================] - 0s 9ms/step - loss: 3.1884 - mae: 3.1884\n",
      "Epoch 440/1000\n",
      "1/1 [==============================] - 0s 9ms/step - loss: 3.1851 - mae: 3.1851\n",
      "Epoch 441/1000\n",
      "1/1 [==============================] - 0s 6ms/step - loss: 3.1816 - mae: 3.1816\n",
      "Epoch 442/1000\n",
      "1/1 [==============================] - 0s 7ms/step - loss: 3.1780 - mae: 3.1780\n",
      "Epoch 443/1000\n",
      "1/1 [==============================] - 0s 7ms/step - loss: 3.1743 - mae: 3.1743\n",
      "Epoch 444/1000\n",
      "1/1 [==============================] - 0s 7ms/step - loss: 3.1705 - mae: 3.1705\n",
      "Epoch 445/1000\n",
      "1/1 [==============================] - 0s 8ms/step - loss: 3.1666 - mae: 3.1666\n",
      "Epoch 446/1000\n",
      "1/1 [==============================] - 0s 8ms/step - loss: 3.1627 - mae: 3.1627\n",
      "Epoch 447/1000\n",
      "1/1 [==============================] - 0s 9ms/step - loss: 3.1586 - mae: 3.1586\n",
      "Epoch 448/1000\n",
      "1/1 [==============================] - 0s 8ms/step - loss: 3.1545 - mae: 3.1545\n",
      "Epoch 449/1000\n",
      "1/1 [==============================] - 0s 11ms/step - loss: 3.1529 - mae: 3.1529\n",
      "Epoch 450/1000\n",
      "1/1 [==============================] - 0s 8ms/step - loss: 3.1488 - mae: 3.1488\n",
      "Epoch 451/1000\n",
      "1/1 [==============================] - 0s 12ms/step - loss: 3.1435 - mae: 3.1435\n",
      "Epoch 452/1000\n",
      "1/1 [==============================] - 0s 9ms/step - loss: 3.1401 - mae: 3.1401\n",
      "Epoch 453/1000\n",
      "1/1 [==============================] - 0s 6ms/step - loss: 3.1366 - mae: 3.1366\n",
      "Epoch 454/1000\n",
      "1/1 [==============================] - 0s 8ms/step - loss: 3.1329 - mae: 3.1329\n",
      "Epoch 455/1000\n",
      "1/1 [==============================] - 0s 7ms/step - loss: 3.1292 - mae: 3.1292\n",
      "Epoch 456/1000\n",
      "1/1 [==============================] - 0s 7ms/step - loss: 3.1253 - mae: 3.1253\n",
      "Epoch 457/1000\n",
      "1/1 [==============================] - 0s 8ms/step - loss: 3.1214 - mae: 3.1214\n",
      "Epoch 458/1000\n",
      "1/1 [==============================] - 0s 8ms/step - loss: 3.1173 - mae: 3.1173\n",
      "Epoch 459/1000\n",
      "1/1 [==============================] - 0s 6ms/step - loss: 3.1132 - mae: 3.1132\n",
      "Epoch 460/1000\n",
      "1/1 [==============================] - 0s 11ms/step - loss: 3.1090 - mae: 3.1090\n",
      "Epoch 461/1000\n",
      "1/1 [==============================] - 0s 10ms/step - loss: 3.1067 - mae: 3.1067\n",
      "Epoch 462/1000\n",
      "1/1 [==============================] - 0s 9ms/step - loss: 3.1022 - mae: 3.1022\n",
      "Epoch 463/1000\n",
      "1/1 [==============================] - 0s 8ms/step - loss: 3.0977 - mae: 3.0977\n",
      "Epoch 464/1000\n",
      "1/1 [==============================] - 0s 10ms/step - loss: 3.0942 - mae: 3.0942\n",
      "Epoch 465/1000\n",
      "1/1 [==============================] - 0s 8ms/step - loss: 3.0906 - mae: 3.0906\n",
      "Epoch 466/1000\n",
      "1/1 [==============================] - 0s 9ms/step - loss: 3.0869 - mae: 3.0869\n",
      "Epoch 467/1000\n",
      "1/1 [==============================] - 0s 11ms/step - loss: 3.0830 - mae: 3.0830\n",
      "Epoch 468/1000\n",
      "1/1 [==============================] - 0s 9ms/step - loss: 3.0790 - mae: 3.0790\n",
      "Epoch 469/1000\n",
      "1/1 [==============================] - 0s 10ms/step - loss: 3.0750 - mae: 3.0750\n",
      "Epoch 470/1000\n",
      "1/1 [==============================] - 0s 6ms/step - loss: 3.0715 - mae: 3.0715\n",
      "Epoch 471/1000\n",
      "1/1 [==============================] - 0s 8ms/step - loss: 3.0667 - mae: 3.0667\n",
      "Epoch 472/1000\n",
      "1/1 [==============================] - 0s 9ms/step - loss: 3.0625 - mae: 3.0625\n",
      "Epoch 473/1000\n",
      "1/1 [==============================] - 0s 7ms/step - loss: 3.0582 - mae: 3.0582\n",
      "Epoch 474/1000\n",
      "1/1 [==============================] - 0s 6ms/step - loss: 3.0561 - mae: 3.0561\n",
      "Epoch 475/1000\n",
      "1/1 [==============================] - 0s 8ms/step - loss: 3.0517 - mae: 3.0517\n",
      "Epoch 476/1000\n",
      "1/1 [==============================] - 0s 8ms/step - loss: 3.0464 - mae: 3.0464\n",
      "Epoch 477/1000\n",
      "1/1 [==============================] - 0s 8ms/step - loss: 3.0428 - mae: 3.0428\n",
      "Epoch 478/1000\n",
      "1/1 [==============================] - 0s 12ms/step - loss: 3.0390 - mae: 3.0390\n",
      "Epoch 479/1000\n",
      "1/1 [==============================] - 0s 7ms/step - loss: 3.0350 - mae: 3.0350\n",
      "Epoch 480/1000\n",
      "1/1 [==============================] - 0s 7ms/step - loss: 3.0308 - mae: 3.0308\n",
      "Epoch 481/1000\n",
      "1/1 [==============================] - 0s 7ms/step - loss: 3.0265 - mae: 3.0265\n",
      "Epoch 482/1000\n",
      "1/1 [==============================] - 0s 6ms/step - loss: 3.0220 - mae: 3.0220\n",
      "Epoch 483/1000\n",
      "1/1 [==============================] - 0s 7ms/step - loss: 3.0174 - mae: 3.0174\n",
      "Epoch 484/1000\n",
      "1/1 [==============================] - 0s 6ms/step - loss: 3.0125 - mae: 3.0125\n",
      "Epoch 485/1000\n",
      "1/1 [==============================] - 0s 8ms/step - loss: 3.0072 - mae: 3.0072\n",
      "Epoch 486/1000\n",
      "1/1 [==============================] - 0s 11ms/step - loss: 3.0040 - mae: 3.0040\n",
      "Epoch 487/1000\n",
      "1/1 [==============================] - 0s 9ms/step - loss: 2.9991 - mae: 2.9991\n",
      "Epoch 488/1000\n",
      "1/1 [==============================] - 0s 10ms/step - loss: 2.9936 - mae: 2.9936\n",
      "Epoch 489/1000\n",
      "1/1 [==============================] - 0s 7ms/step - loss: 2.9897 - mae: 2.9897\n",
      "Epoch 490/1000\n",
      "1/1 [==============================] - 0s 8ms/step - loss: 2.9857 - mae: 2.9857\n",
      "Epoch 491/1000\n",
      "1/1 [==============================] - 0s 6ms/step - loss: 2.9815 - mae: 2.9815\n",
      "Epoch 492/1000\n",
      "1/1 [==============================] - 0s 8ms/step - loss: 2.9771 - mae: 2.9771\n",
      "Epoch 493/1000\n",
      "1/1 [==============================] - 0s 8ms/step - loss: 2.9727 - mae: 2.9727\n",
      "Epoch 494/1000\n",
      "1/1 [==============================] - 0s 7ms/step - loss: 2.9681 - mae: 2.9681\n",
      "Epoch 495/1000\n",
      "1/1 [==============================] - 0s 7ms/step - loss: 2.9634 - mae: 2.9634\n",
      "Epoch 496/1000\n",
      "1/1 [==============================] - 0s 8ms/step - loss: 2.9587 - mae: 2.9587\n",
      "Epoch 497/1000\n",
      "1/1 [==============================] - 0s 8ms/step - loss: 2.9538 - mae: 2.9538\n",
      "Epoch 498/1000\n",
      "1/1 [==============================] - 0s 7ms/step - loss: 2.9505 - mae: 2.9505\n",
      "Epoch 499/1000\n",
      "1/1 [==============================] - 0s 8ms/step - loss: 2.9453 - mae: 2.9453\n",
      "Epoch 500/1000\n",
      "1/1 [==============================] - 0s 10ms/step - loss: 2.9401 - mae: 2.9401\n",
      "Epoch 501/1000\n",
      "1/1 [==============================] - 0s 8ms/step - loss: 2.9358 - mae: 2.9358\n",
      "Epoch 502/1000\n",
      "1/1 [==============================] - 0s 11ms/step - loss: 2.9313 - mae: 2.9313\n",
      "Epoch 503/1000\n",
      "1/1 [==============================] - 0s 8ms/step - loss: 2.9266 - mae: 2.9266\n",
      "Epoch 504/1000\n",
      "1/1 [==============================] - 0s 10ms/step - loss: 2.9218 - mae: 2.9218\n",
      "Epoch 505/1000\n",
      "1/1 [==============================] - 0s 9ms/step - loss: 2.9168 - mae: 2.9168\n",
      "Epoch 506/1000\n",
      "1/1 [==============================] - 0s 8ms/step - loss: 2.9117 - mae: 2.9117\n",
      "Epoch 507/1000\n",
      "1/1 [==============================] - 0s 9ms/step - loss: 2.9063 - mae: 2.9063\n",
      "Epoch 508/1000\n",
      "1/1 [==============================] - 0s 8ms/step - loss: 2.9016 - mae: 2.9016\n",
      "Epoch 509/1000\n",
      "1/1 [==============================] - 0s 7ms/step - loss: 2.8950 - mae: 2.8950\n",
      "Epoch 510/1000\n",
      "1/1 [==============================] - 0s 8ms/step - loss: 2.8905 - mae: 2.8905\n",
      "Epoch 511/1000\n",
      "1/1 [==============================] - 0s 9ms/step - loss: 2.8840 - mae: 2.8840\n",
      "Epoch 512/1000\n",
      "1/1 [==============================] - 0s 8ms/step - loss: 2.8780 - mae: 2.8780\n",
      "Epoch 513/1000\n",
      "1/1 [==============================] - 0s 7ms/step - loss: 2.8731 - mae: 2.8731\n",
      "Epoch 514/1000\n",
      "1/1 [==============================] - 0s 8ms/step - loss: 2.8679 - mae: 2.8679\n",
      "Epoch 515/1000\n",
      "1/1 [==============================] - 0s 9ms/step - loss: 2.8624 - mae: 2.8624\n",
      "Epoch 516/1000\n"
     ]
    },
    {
     "name": "stdout",
     "output_type": "stream",
     "text": [
      "1/1 [==============================] - 0s 10ms/step - loss: 2.8565 - mae: 2.8565\n",
      "Epoch 517/1000\n",
      "1/1 [==============================] - 0s 7ms/step - loss: 2.8502 - mae: 2.8502\n",
      "Epoch 518/1000\n",
      "1/1 [==============================] - 0s 8ms/step - loss: 2.8433 - mae: 2.8433\n",
      "Epoch 519/1000\n",
      "1/1 [==============================] - 0s 9ms/step - loss: 2.8358 - mae: 2.8358\n",
      "Epoch 520/1000\n",
      "1/1 [==============================] - 0s 9ms/step - loss: 2.8272 - mae: 2.8272\n",
      "Epoch 521/1000\n",
      "1/1 [==============================] - 0s 9ms/step - loss: 2.8192 - mae: 2.8192\n",
      "Epoch 522/1000\n",
      "1/1 [==============================] - 0s 9ms/step - loss: 2.8072 - mae: 2.8072\n",
      "Epoch 523/1000\n",
      "1/1 [==============================] - 0s 10ms/step - loss: 2.7980 - mae: 2.7980\n",
      "Epoch 524/1000\n",
      "1/1 [==============================] - 0s 9ms/step - loss: 2.7916 - mae: 2.7916\n",
      "Epoch 525/1000\n",
      "1/1 [==============================] - 0s 11ms/step - loss: 2.7843 - mae: 2.7843\n",
      "Epoch 526/1000\n",
      "1/1 [==============================] - 0s 10ms/step - loss: 2.7760 - mae: 2.7760\n",
      "Epoch 527/1000\n",
      "1/1 [==============================] - 0s 11ms/step - loss: 2.7671 - mae: 2.7671\n",
      "Epoch 528/1000\n",
      "1/1 [==============================] - 0s 9ms/step - loss: 2.7605 - mae: 2.7605\n",
      "Epoch 529/1000\n",
      "1/1 [==============================] - 0s 10ms/step - loss: 2.7548 - mae: 2.7548\n",
      "Epoch 530/1000\n",
      "1/1 [==============================] - 0s 11ms/step - loss: 2.7496 - mae: 2.7496\n",
      "Epoch 531/1000\n",
      "1/1 [==============================] - 0s 7ms/step - loss: 2.7436 - mae: 2.7436\n",
      "Epoch 532/1000\n",
      "1/1 [==============================] - 0s 9ms/step - loss: 2.7386 - mae: 2.7386\n",
      "Epoch 533/1000\n",
      "1/1 [==============================] - 0s 9ms/step - loss: 2.7324 - mae: 2.7324\n",
      "Epoch 534/1000\n",
      "1/1 [==============================] - 0s 9ms/step - loss: 2.7266 - mae: 2.7266\n",
      "Epoch 535/1000\n",
      "1/1 [==============================] - 0s 9ms/step - loss: 2.7207 - mae: 2.7207\n",
      "Epoch 536/1000\n",
      "1/1 [==============================] - 0s 10ms/step - loss: 2.7154 - mae: 2.7154\n",
      "Epoch 537/1000\n",
      "1/1 [==============================] - 0s 8ms/step - loss: 2.7099 - mae: 2.7099\n",
      "Epoch 538/1000\n",
      "1/1 [==============================] - 0s 8ms/step - loss: 2.7042 - mae: 2.7042\n",
      "Epoch 539/1000\n",
      "1/1 [==============================] - 0s 11ms/step - loss: 2.6984 - mae: 2.6984\n",
      "Epoch 540/1000\n",
      "1/1 [==============================] - 0s 10ms/step - loss: 2.6925 - mae: 2.6925\n",
      "Epoch 541/1000\n",
      "1/1 [==============================] - 0s 8ms/step - loss: 2.6864 - mae: 2.6864\n",
      "Epoch 542/1000\n",
      "1/1 [==============================] - 0s 13ms/step - loss: 2.6802 - mae: 2.6802\n",
      "Epoch 543/1000\n",
      "1/1 [==============================] - 0s 9ms/step - loss: 2.6751 - mae: 2.6751\n",
      "Epoch 544/1000\n",
      "1/1 [==============================] - 0s 7ms/step - loss: 2.6682 - mae: 2.6682\n",
      "Epoch 545/1000\n",
      "1/1 [==============================] - 0s 8ms/step - loss: 2.6623 - mae: 2.6623\n",
      "Epoch 546/1000\n",
      "1/1 [==============================] - 0s 8ms/step - loss: 2.6563 - mae: 2.6563\n",
      "Epoch 547/1000\n",
      "1/1 [==============================] - 0s 9ms/step - loss: 2.6503 - mae: 2.6503\n",
      "Epoch 548/1000\n",
      "1/1 [==============================] - 0s 8ms/step - loss: 2.6459 - mae: 2.6459\n",
      "Epoch 549/1000\n",
      "1/1 [==============================] - 0s 8ms/step - loss: 2.6386 - mae: 2.6386\n",
      "Epoch 550/1000\n",
      "1/1 [==============================] - 0s 8ms/step - loss: 2.6326 - mae: 2.6326\n",
      "Epoch 551/1000\n",
      "1/1 [==============================] - 0s 8ms/step - loss: 2.6264 - mae: 2.6264\n",
      "Epoch 552/1000\n",
      "1/1 [==============================] - 0s 9ms/step - loss: 2.6200 - mae: 2.6200\n",
      "Epoch 553/1000\n",
      "1/1 [==============================] - 0s 6ms/step - loss: 2.6133 - mae: 2.6133\n",
      "Epoch 554/1000\n",
      "1/1 [==============================] - 0s 8ms/step - loss: 2.6065 - mae: 2.6065\n",
      "Epoch 555/1000\n",
      "1/1 [==============================] - 0s 10ms/step - loss: 2.6011 - mae: 2.6011\n",
      "Epoch 556/1000\n",
      "1/1 [==============================] - 0s 13ms/step - loss: 2.5931 - mae: 2.5931\n",
      "Epoch 557/1000\n",
      "1/1 [==============================] - 0s 9ms/step - loss: 2.5856 - mae: 2.5856\n",
      "Epoch 558/1000\n",
      "1/1 [==============================] - 0s 8ms/step - loss: 2.5776 - mae: 2.5776\n",
      "Epoch 559/1000\n",
      "1/1 [==============================] - 0s 7ms/step - loss: 2.5672 - mae: 2.5672\n",
      "Epoch 560/1000\n",
      "1/1 [==============================] - 0s 10ms/step - loss: 2.5585 - mae: 2.5585\n",
      "Epoch 561/1000\n",
      "1/1 [==============================] - 0s 7ms/step - loss: 2.5520 - mae: 2.5520\n",
      "Epoch 562/1000\n",
      "1/1 [==============================] - 0s 10ms/step - loss: 2.5454 - mae: 2.5454\n",
      "Epoch 563/1000\n",
      "1/1 [==============================] - 0s 9ms/step - loss: 2.5387 - mae: 2.5387\n",
      "Epoch 564/1000\n",
      "1/1 [==============================] - 0s 8ms/step - loss: 2.5318 - mae: 2.5318\n",
      "Epoch 565/1000\n",
      "1/1 [==============================] - 0s 13ms/step - loss: 2.5247 - mae: 2.5247\n",
      "Epoch 566/1000\n",
      "1/1 [==============================] - 0s 6ms/step - loss: 2.5176 - mae: 2.5176\n",
      "Epoch 567/1000\n",
      "1/1 [==============================] - 0s 9ms/step - loss: 2.5112 - mae: 2.5112\n",
      "Epoch 568/1000\n",
      "1/1 [==============================] - 0s 8ms/step - loss: 2.5036 - mae: 2.5036\n",
      "Epoch 569/1000\n",
      "1/1 [==============================] - 0s 10ms/step - loss: 2.4970 - mae: 2.4970\n",
      "Epoch 570/1000\n",
      "1/1 [==============================] - 0s 11ms/step - loss: 2.4901 - mae: 2.4901\n",
      "Epoch 571/1000\n",
      "1/1 [==============================] - 0s 10ms/step - loss: 2.4823 - mae: 2.4823\n",
      "Epoch 572/1000\n",
      "1/1 [==============================] - 0s 8ms/step - loss: 2.4746 - mae: 2.4746\n",
      "Epoch 573/1000\n",
      "1/1 [==============================] - 0s 9ms/step - loss: 2.4678 - mae: 2.4678\n",
      "Epoch 574/1000\n",
      "1/1 [==============================] - 0s 8ms/step - loss: 2.4607 - mae: 2.4607\n",
      "Epoch 575/1000\n",
      "1/1 [==============================] - 0s 8ms/step - loss: 2.4535 - mae: 2.4535\n",
      "Epoch 576/1000\n",
      "1/1 [==============================] - 0s 8ms/step - loss: 2.4460 - mae: 2.4460\n",
      "Epoch 577/1000\n",
      "1/1 [==============================] - 0s 7ms/step - loss: 2.4384 - mae: 2.4384\n",
      "Epoch 578/1000\n",
      "1/1 [==============================] - 0s 7ms/step - loss: 2.4308 - mae: 2.4308\n",
      "Epoch 579/1000\n",
      "1/1 [==============================] - 0s 8ms/step - loss: 2.4232 - mae: 2.4232\n",
      "Epoch 580/1000\n",
      "1/1 [==============================] - 0s 7ms/step - loss: 2.4164 - mae: 2.4164\n",
      "Epoch 581/1000\n",
      "1/1 [==============================] - 0s 10ms/step - loss: 2.4086 - mae: 2.4086\n",
      "Epoch 582/1000\n",
      "1/1 [==============================] - 0s 9ms/step - loss: 2.4014 - mae: 2.4014\n",
      "Epoch 583/1000\n",
      "1/1 [==============================] - 0s 7ms/step - loss: 2.3939 - mae: 2.3939\n",
      "Epoch 584/1000\n",
      "1/1 [==============================] - 0s 9ms/step - loss: 2.3870 - mae: 2.3870\n",
      "Epoch 585/1000\n",
      "1/1 [==============================] - 0s 9ms/step - loss: 2.3798 - mae: 2.3798\n",
      "Epoch 586/1000\n",
      "1/1 [==============================] - 0s 5ms/step - loss: 2.3723 - mae: 2.3723\n",
      "Epoch 587/1000\n",
      "1/1 [==============================] - 0s 10ms/step - loss: 2.3647 - mae: 2.3647\n",
      "Epoch 588/1000\n",
      "1/1 [==============================] - 0s 8ms/step - loss: 2.3570 - mae: 2.3570\n",
      "Epoch 589/1000\n",
      "1/1 [==============================] - 0s 7ms/step - loss: 2.3492 - mae: 2.3492\n",
      "Epoch 590/1000\n",
      "1/1 [==============================] - 0s 8ms/step - loss: 2.3414 - mae: 2.3414\n",
      "Epoch 591/1000\n",
      "1/1 [==============================] - 0s 8ms/step - loss: 2.3334 - mae: 2.3334\n",
      "Epoch 592/1000\n",
      "1/1 [==============================] - 0s 8ms/step - loss: 2.3253 - mae: 2.3253\n",
      "Epoch 593/1000\n",
      "1/1 [==============================] - 0s 8ms/step - loss: 2.3190 - mae: 2.3190\n",
      "Epoch 594/1000\n",
      "1/1 [==============================] - 0s 9ms/step - loss: 2.3102 - mae: 2.3102\n",
      "Epoch 595/1000\n",
      "1/1 [==============================] - 0s 9ms/step - loss: 2.3023 - mae: 2.3023\n",
      "Epoch 596/1000\n",
      "1/1 [==============================] - 0s 8ms/step - loss: 2.2950 - mae: 2.2950\n",
      "Epoch 597/1000\n",
      "1/1 [==============================] - 0s 8ms/step - loss: 2.2875 - mae: 2.2875\n",
      "Epoch 598/1000\n",
      "1/1 [==============================] - 0s 8ms/step - loss: 2.2798 - mae: 2.2798\n",
      "Epoch 599/1000\n",
      "1/1 [==============================] - 0s 8ms/step - loss: 2.2719 - mae: 2.2719\n",
      "Epoch 600/1000\n",
      "1/1 [==============================] - 0s 7ms/step - loss: 2.2638 - mae: 2.2638\n",
      "Epoch 601/1000\n",
      "1/1 [==============================] - 0s 7ms/step - loss: 2.2560 - mae: 2.2560\n",
      "Epoch 602/1000\n"
     ]
    },
    {
     "name": "stdout",
     "output_type": "stream",
     "text": [
      "1/1 [==============================] - 0s 8ms/step - loss: 2.2473 - mae: 2.2473\n",
      "Epoch 603/1000\n",
      "1/1 [==============================] - 0s 9ms/step - loss: 2.2388 - mae: 2.2388\n",
      "Epoch 604/1000\n",
      "1/1 [==============================] - 0s 9ms/step - loss: 2.2302 - mae: 2.2302\n",
      "Epoch 605/1000\n",
      "1/1 [==============================] - 0s 8ms/step - loss: 2.2214 - mae: 2.2214\n",
      "Epoch 606/1000\n",
      "1/1 [==============================] - 0s 7ms/step - loss: 2.2164 - mae: 2.2164\n",
      "Epoch 607/1000\n",
      "1/1 [==============================] - 0s 12ms/step - loss: 2.2078 - mae: 2.2078\n",
      "Epoch 608/1000\n",
      "1/1 [==============================] - 0s 8ms/step - loss: 2.1964 - mae: 2.1964\n",
      "Epoch 609/1000\n",
      "1/1 [==============================] - 0s 6ms/step - loss: 2.1896 - mae: 2.1896\n",
      "Epoch 610/1000\n",
      "1/1 [==============================] - 0s 11ms/step - loss: 2.1802 - mae: 2.1802\n",
      "Epoch 611/1000\n",
      "1/1 [==============================] - 0s 9ms/step - loss: 2.1717 - mae: 2.1717\n",
      "Epoch 612/1000\n",
      "1/1 [==============================] - 0s 6ms/step - loss: 2.1631 - mae: 2.1631\n",
      "Epoch 613/1000\n",
      "1/1 [==============================] - 0s 12ms/step - loss: 2.1543 - mae: 2.1543\n",
      "Epoch 614/1000\n",
      "1/1 [==============================] - 0s 9ms/step - loss: 2.1453 - mae: 2.1453\n",
      "Epoch 615/1000\n",
      "1/1 [==============================] - 0s 8ms/step - loss: 2.1361 - mae: 2.1361\n",
      "Epoch 616/1000\n",
      "1/1 [==============================] - 0s 11ms/step - loss: 2.1266 - mae: 2.1266\n",
      "Epoch 617/1000\n",
      "1/1 [==============================] - 0s 7ms/step - loss: 2.1176 - mae: 2.1176\n",
      "Epoch 618/1000\n",
      "1/1 [==============================] - 0s 8ms/step - loss: 2.1109 - mae: 2.1109\n",
      "Epoch 619/1000\n",
      "1/1 [==============================] - 0s 6ms/step - loss: 2.1016 - mae: 2.1016\n",
      "Epoch 620/1000\n",
      "1/1 [==============================] - 0s 8ms/step - loss: 2.0891 - mae: 2.0891\n",
      "Epoch 621/1000\n",
      "1/1 [==============================] - 0s 8ms/step - loss: 2.0799 - mae: 2.0799\n",
      "Epoch 622/1000\n",
      "1/1 [==============================] - 0s 8ms/step - loss: 2.0703 - mae: 2.0703\n",
      "Epoch 623/1000\n",
      "1/1 [==============================] - 0s 9ms/step - loss: 2.0603 - mae: 2.0603\n",
      "Epoch 624/1000\n",
      "1/1 [==============================] - 0s 7ms/step - loss: 2.0497 - mae: 2.0497\n",
      "Epoch 625/1000\n",
      "1/1 [==============================] - 0s 9ms/step - loss: 2.0383 - mae: 2.0383\n",
      "Epoch 626/1000\n",
      "1/1 [==============================] - 0s 9ms/step - loss: 2.0258 - mae: 2.0258\n",
      "Epoch 627/1000\n",
      "1/1 [==============================] - 0s 8ms/step - loss: 2.0135 - mae: 2.0135\n",
      "Epoch 628/1000\n",
      "1/1 [==============================] - 0s 9ms/step - loss: 1.9954 - mae: 1.9954\n",
      "Epoch 629/1000\n",
      "1/1 [==============================] - 0s 6ms/step - loss: 1.9755 - mae: 1.9755\n",
      "Epoch 630/1000\n",
      "1/1 [==============================] - 0s 10ms/step - loss: 1.9690 - mae: 1.9690\n",
      "Epoch 631/1000\n",
      "1/1 [==============================] - 0s 8ms/step - loss: 1.9568 - mae: 1.9568\n",
      "Epoch 632/1000\n",
      "1/1 [==============================] - 0s 8ms/step - loss: 1.9474 - mae: 1.9474\n",
      "Epoch 633/1000\n",
      "1/1 [==============================] - 0s 9ms/step - loss: 1.9378 - mae: 1.9378\n",
      "Epoch 634/1000\n",
      "1/1 [==============================] - 0s 8ms/step - loss: 1.9280 - mae: 1.9280\n",
      "Epoch 635/1000\n",
      "1/1 [==============================] - 0s 8ms/step - loss: 1.9180 - mae: 1.9180\n",
      "Epoch 636/1000\n",
      "1/1 [==============================] - 0s 7ms/step - loss: 1.9078 - mae: 1.9078\n",
      "Epoch 637/1000\n",
      "1/1 [==============================] - 0s 7ms/step - loss: 1.8975 - mae: 1.8975\n",
      "Epoch 638/1000\n",
      "1/1 [==============================] - 0s 7ms/step - loss: 1.8870 - mae: 1.8870\n",
      "Epoch 639/1000\n",
      "1/1 [==============================] - 0s 9ms/step - loss: 1.8764 - mae: 1.8764\n",
      "Epoch 640/1000\n",
      "1/1 [==============================] - 0s 6ms/step - loss: 1.8657 - mae: 1.8657\n",
      "Epoch 641/1000\n",
      "1/1 [==============================] - 0s 8ms/step - loss: 1.8570 - mae: 1.8570\n",
      "Epoch 642/1000\n",
      "1/1 [==============================] - 0s 9ms/step - loss: 1.8462 - mae: 1.8462\n",
      "Epoch 643/1000\n",
      "1/1 [==============================] - 0s 7ms/step - loss: 1.8353 - mae: 1.8353\n",
      "Epoch 644/1000\n",
      "1/1 [==============================] - 0s 7ms/step - loss: 1.8255 - mae: 1.8255\n",
      "Epoch 645/1000\n",
      "1/1 [==============================] - 0s 9ms/step - loss: 1.8155 - mae: 1.8155\n",
      "Epoch 646/1000\n",
      "1/1 [==============================] - 0s 8ms/step - loss: 1.8052 - mae: 1.8052\n",
      "Epoch 647/1000\n",
      "1/1 [==============================] - 0s 8ms/step - loss: 1.7951 - mae: 1.7951\n",
      "Epoch 648/1000\n",
      "1/1 [==============================] - 0s 10ms/step - loss: 1.7838 - mae: 1.7838\n",
      "Epoch 649/1000\n",
      "1/1 [==============================] - 0s 7ms/step - loss: 1.7727 - mae: 1.7727\n",
      "Epoch 650/1000\n",
      "1/1 [==============================] - 0s 6ms/step - loss: 1.7612 - mae: 1.7612\n",
      "Epoch 651/1000\n",
      "1/1 [==============================] - 0s 9ms/step - loss: 1.7495 - mae: 1.7495\n",
      "Epoch 652/1000\n",
      "1/1 [==============================] - 0s 10ms/step - loss: 1.7374 - mae: 1.7374\n",
      "Epoch 653/1000\n",
      "1/1 [==============================] - 0s 8ms/step - loss: 1.7277 - mae: 1.7277\n",
      "Epoch 654/1000\n",
      "1/1 [==============================] - 0s 8ms/step - loss: 1.7139 - mae: 1.7139\n",
      "Epoch 655/1000\n",
      "1/1 [==============================] - 0s 8ms/step - loss: 1.7004 - mae: 1.7004\n",
      "Epoch 656/1000\n",
      "1/1 [==============================] - 0s 7ms/step - loss: 1.6834 - mae: 1.6834\n",
      "Epoch 657/1000\n",
      "1/1 [==============================] - 0s 9ms/step - loss: 1.6723 - mae: 1.6723\n",
      "Epoch 658/1000\n",
      "1/1 [==============================] - 0s 7ms/step - loss: 1.6612 - mae: 1.6612\n",
      "Epoch 659/1000\n",
      "1/1 [==============================] - 0s 7ms/step - loss: 1.6551 - mae: 1.6551\n",
      "Epoch 660/1000\n",
      "1/1 [==============================] - 0s 7ms/step - loss: 1.6415 - mae: 1.6415\n",
      "Epoch 661/1000\n",
      "1/1 [==============================] - 0s 8ms/step - loss: 1.6276 - mae: 1.6276\n",
      "Epoch 662/1000\n",
      "1/1 [==============================] - 0s 7ms/step - loss: 1.6163 - mae: 1.6163\n",
      "Epoch 663/1000\n",
      "1/1 [==============================] - 0s 9ms/step - loss: 1.6102 - mae: 1.6102\n",
      "Epoch 664/1000\n",
      "1/1 [==============================] - 0s 9ms/step - loss: 1.5959 - mae: 1.5959\n",
      "Epoch 665/1000\n",
      "1/1 [==============================] - 0s 8ms/step - loss: 1.5826 - mae: 1.5826\n",
      "Epoch 666/1000\n",
      "1/1 [==============================] - 0s 11ms/step - loss: 1.5715 - mae: 1.5715\n",
      "Epoch 667/1000\n",
      "1/1 [==============================] - 0s 8ms/step - loss: 1.5635 - mae: 1.5635\n",
      "Epoch 668/1000\n",
      "1/1 [==============================] - 0s 7ms/step - loss: 1.5505 - mae: 1.5505\n",
      "Epoch 669/1000\n",
      "1/1 [==============================] - 0s 8ms/step - loss: 1.5362 - mae: 1.5362\n",
      "Epoch 670/1000\n",
      "1/1 [==============================] - 0s 9ms/step - loss: 1.5250 - mae: 1.5250\n",
      "Epoch 671/1000\n",
      "1/1 [==============================] - 0s 6ms/step - loss: 1.5201 - mae: 1.5201\n",
      "Epoch 672/1000\n",
      "1/1 [==============================] - 0s 10ms/step - loss: 1.5060 - mae: 1.5060\n",
      "Epoch 673/1000\n",
      "1/1 [==============================] - 0s 9ms/step - loss: 1.4895 - mae: 1.4895\n",
      "Epoch 674/1000\n",
      "1/1 [==============================] - 0s 7ms/step - loss: 1.4776 - mae: 1.4776\n",
      "Epoch 675/1000\n",
      "1/1 [==============================] - 0s 11ms/step - loss: 1.4662 - mae: 1.4662\n",
      "Epoch 676/1000\n",
      "1/1 [==============================] - 0s 8ms/step - loss: 1.4523 - mae: 1.4523\n",
      "Epoch 677/1000\n",
      "1/1 [==============================] - 0s 7ms/step - loss: 1.4398 - mae: 1.4398\n",
      "Epoch 678/1000\n",
      "1/1 [==============================] - 0s 7ms/step - loss: 1.4285 - mae: 1.4285\n",
      "Epoch 679/1000\n",
      "1/1 [==============================] - 0s 10ms/step - loss: 1.4182 - mae: 1.4182\n",
      "Epoch 680/1000\n",
      "1/1 [==============================] - 0s 8ms/step - loss: 1.4060 - mae: 1.4060\n",
      "Epoch 681/1000\n",
      "1/1 [==============================] - 0s 14ms/step - loss: 1.3902 - mae: 1.3902\n",
      "Epoch 682/1000\n",
      "1/1 [==============================] - 0s 9ms/step - loss: 1.3784 - mae: 1.3784\n",
      "Epoch 683/1000\n",
      "1/1 [==============================] - 0s 8ms/step - loss: 1.3663 - mae: 1.3663\n",
      "Epoch 684/1000\n",
      "1/1 [==============================] - 0s 9ms/step - loss: 1.3540 - mae: 1.3540\n",
      "Epoch 685/1000\n",
      "1/1 [==============================] - 0s 12ms/step - loss: 1.3415 - mae: 1.3415\n",
      "Epoch 686/1000\n",
      "1/1 [==============================] - 0s 12ms/step - loss: 1.3287 - mae: 1.3287\n",
      "Epoch 687/1000\n",
      "1/1 [==============================] - 0s 10ms/step - loss: 1.3157 - mae: 1.3157\n",
      "Epoch 688/1000\n"
     ]
    },
    {
     "name": "stdout",
     "output_type": "stream",
     "text": [
      "1/1 [==============================] - 0s 9ms/step - loss: 1.3024 - mae: 1.3024\n",
      "Epoch 689/1000\n",
      "1/1 [==============================] - 0s 8ms/step - loss: 1.2921 - mae: 1.2921\n",
      "Epoch 690/1000\n",
      "1/1 [==============================] - 0s 11ms/step - loss: 1.2766 - mae: 1.2766\n",
      "Epoch 691/1000\n",
      "1/1 [==============================] - 0s 11ms/step - loss: 1.2644 - mae: 1.2644\n",
      "Epoch 692/1000\n",
      "1/1 [==============================] - 0s 12ms/step - loss: 1.2508 - mae: 1.2508\n",
      "Epoch 693/1000\n",
      "1/1 [==============================] - 0s 10ms/step - loss: 1.2374 - mae: 1.2374\n",
      "Epoch 694/1000\n",
      "1/1 [==============================] - 0s 8ms/step - loss: 1.2243 - mae: 1.2243\n",
      "Epoch 695/1000\n",
      "1/1 [==============================] - 0s 12ms/step - loss: 1.2109 - mae: 1.2109\n",
      "Epoch 696/1000\n",
      "1/1 [==============================] - 0s 8ms/step - loss: 1.1978 - mae: 1.1978\n",
      "Epoch 697/1000\n",
      "1/1 [==============================] - 0s 9ms/step - loss: 1.1845 - mae: 1.1845\n",
      "Epoch 698/1000\n",
      "1/1 [==============================] - 0s 8ms/step - loss: 1.1719 - mae: 1.1719\n",
      "Epoch 699/1000\n",
      "1/1 [==============================] - 0s 6ms/step - loss: 1.1575 - mae: 1.1575\n",
      "Epoch 700/1000\n",
      "1/1 [==============================] - 0s 12ms/step - loss: 1.1438 - mae: 1.1438\n",
      "Epoch 701/1000\n",
      "1/1 [==============================] - 0s 14ms/step - loss: 1.1341 - mae: 1.1341\n",
      "Epoch 702/1000\n",
      "1/1 [==============================] - 0s 8ms/step - loss: 1.1196 - mae: 1.1196\n",
      "Epoch 703/1000\n",
      "1/1 [==============================] - 0s 6ms/step - loss: 1.1052 - mae: 1.1052\n",
      "Epoch 704/1000\n",
      "1/1 [==============================] - 0s 7ms/step - loss: 1.0880 - mae: 1.0880\n",
      "Epoch 705/1000\n",
      "1/1 [==============================] - 0s 8ms/step - loss: 1.0744 - mae: 1.0744\n",
      "Epoch 706/1000\n",
      "1/1 [==============================] - 0s 8ms/step - loss: 1.0606 - mae: 1.0606\n",
      "Epoch 707/1000\n",
      "1/1 [==============================] - 0s 8ms/step - loss: 1.0466 - mae: 1.0466\n",
      "Epoch 708/1000\n",
      "1/1 [==============================] - 0s 8ms/step - loss: 1.0321 - mae: 1.0321\n",
      "Epoch 709/1000\n",
      "1/1 [==============================] - 0s 7ms/step - loss: 1.0184 - mae: 1.0184\n",
      "Epoch 710/1000\n",
      "1/1 [==============================] - 0s 13ms/step - loss: 1.0016 - mae: 1.0016\n",
      "Epoch 711/1000\n",
      "1/1 [==============================] - 0s 12ms/step - loss: 0.9856 - mae: 0.9856\n",
      "Epoch 712/1000\n",
      "1/1 [==============================] - 0s 10ms/step - loss: 0.9724 - mae: 0.9724\n",
      "Epoch 713/1000\n",
      "1/1 [==============================] - 0s 8ms/step - loss: 0.9533 - mae: 0.9533\n",
      "Epoch 714/1000\n",
      "1/1 [==============================] - 0s 8ms/step - loss: 0.9368 - mae: 0.9368\n",
      "Epoch 715/1000\n",
      "1/1 [==============================] - 0s 7ms/step - loss: 0.9242 - mae: 0.9242\n",
      "Epoch 716/1000\n",
      "1/1 [==============================] - 0s 8ms/step - loss: 0.9005 - mae: 0.9005\n",
      "Epoch 717/1000\n",
      "1/1 [==============================] - 0s 7ms/step - loss: 0.8779 - mae: 0.8779\n",
      "Epoch 718/1000\n",
      "1/1 [==============================] - 0s 11ms/step - loss: 0.8523 - mae: 0.8523\n",
      "Epoch 719/1000\n",
      "1/1 [==============================] - 0s 9ms/step - loss: 0.8232 - mae: 0.8232\n",
      "Epoch 720/1000\n",
      "1/1 [==============================] - 0s 12ms/step - loss: 0.8042 - mae: 0.8042\n",
      "Epoch 721/1000\n",
      "1/1 [==============================] - 0s 7ms/step - loss: 0.7935 - mae: 0.7935\n",
      "Epoch 722/1000\n",
      "1/1 [==============================] - 0s 6ms/step - loss: 0.7742 - mae: 0.7742\n",
      "Epoch 723/1000\n",
      "1/1 [==============================] - 0s 6ms/step - loss: 0.7625 - mae: 0.7625\n",
      "Epoch 724/1000\n",
      "1/1 [==============================] - 0s 9ms/step - loss: 0.7501 - mae: 0.7501\n",
      "Epoch 725/1000\n",
      "1/1 [==============================] - 0s 7ms/step - loss: 0.7265 - mae: 0.7265\n",
      "Epoch 726/1000\n",
      "1/1 [==============================] - 0s 7ms/step - loss: 0.7131 - mae: 0.7131\n",
      "Epoch 727/1000\n",
      "1/1 [==============================] - 0s 9ms/step - loss: 0.6954 - mae: 0.6954\n",
      "Epoch 728/1000\n",
      "1/1 [==============================] - 0s 7ms/step - loss: 0.6821 - mae: 0.6821\n",
      "Epoch 729/1000\n",
      "1/1 [==============================] - 0s 10ms/step - loss: 0.6651 - mae: 0.6651\n",
      "Epoch 730/1000\n",
      "1/1 [==============================] - 0s 9ms/step - loss: 0.6525 - mae: 0.6525\n",
      "Epoch 731/1000\n",
      "1/1 [==============================] - 0s 6ms/step - loss: 0.6364 - mae: 0.6364\n",
      "Epoch 732/1000\n",
      "1/1 [==============================] - 0s 16ms/step - loss: 0.6259 - mae: 0.6259\n",
      "Epoch 733/1000\n",
      "1/1 [==============================] - 0s 8ms/step - loss: 0.6166 - mae: 0.6166\n",
      "Epoch 734/1000\n",
      "1/1 [==============================] - 0s 8ms/step - loss: 0.5865 - mae: 0.5865\n",
      "Epoch 735/1000\n",
      "1/1 [==============================] - 0s 8ms/step - loss: 0.5874 - mae: 0.5874\n",
      "Epoch 736/1000\n",
      "1/1 [==============================] - 0s 8ms/step - loss: 0.5532 - mae: 0.5532\n",
      "Epoch 737/1000\n",
      "1/1 [==============================] - 0s 11ms/step - loss: 0.5646 - mae: 0.5646\n",
      "Epoch 738/1000\n",
      "1/1 [==============================] - 0s 10ms/step - loss: 0.5314 - mae: 0.5314\n",
      "Epoch 739/1000\n",
      "1/1 [==============================] - 0s 8ms/step - loss: 0.5265 - mae: 0.5265\n",
      "Epoch 740/1000\n",
      "1/1 [==============================] - 0s 10ms/step - loss: 0.5115 - mae: 0.5115\n",
      "Epoch 741/1000\n",
      "1/1 [==============================] - 0s 7ms/step - loss: 0.4898 - mae: 0.4898\n",
      "Epoch 742/1000\n",
      "1/1 [==============================] - 0s 8ms/step - loss: 0.4797 - mae: 0.4797\n",
      "Epoch 743/1000\n",
      "1/1 [==============================] - 0s 12ms/step - loss: 0.4374 - mae: 0.4374\n",
      "Epoch 744/1000\n",
      "1/1 [==============================] - 0s 8ms/step - loss: 0.4839 - mae: 0.4839\n",
      "Epoch 745/1000\n",
      "1/1 [==============================] - 0s 8ms/step - loss: 0.4613 - mae: 0.4613\n",
      "Epoch 746/1000\n",
      "1/1 [==============================] - 0s 10ms/step - loss: 0.4783 - mae: 0.4783\n",
      "Epoch 747/1000\n",
      "1/1 [==============================] - 0s 9ms/step - loss: 0.4040 - mae: 0.4040\n",
      "Epoch 748/1000\n",
      "1/1 [==============================] - 0s 9ms/step - loss: 0.4697 - mae: 0.4697\n",
      "Epoch 749/1000\n",
      "1/1 [==============================] - 0s 9ms/step - loss: 0.3386 - mae: 0.3386\n",
      "Epoch 750/1000\n",
      "1/1 [==============================] - 0s 9ms/step - loss: 0.3879 - mae: 0.3879\n",
      "Epoch 751/1000\n",
      "1/1 [==============================] - 0s 13ms/step - loss: 0.3300 - mae: 0.3300\n",
      "Epoch 752/1000\n",
      "1/1 [==============================] - 0s 6ms/step - loss: 0.3140 - mae: 0.3140\n",
      "Epoch 753/1000\n",
      "1/1 [==============================] - 0s 10ms/step - loss: 0.2641 - mae: 0.2641\n",
      "Epoch 754/1000\n",
      "1/1 [==============================] - 0s 8ms/step - loss: 0.2716 - mae: 0.2716\n",
      "Epoch 755/1000\n",
      "1/1 [==============================] - 0s 8ms/step - loss: 0.2368 - mae: 0.2368\n",
      "Epoch 756/1000\n",
      "1/1 [==============================] - 0s 8ms/step - loss: 0.3241 - mae: 0.3241\n",
      "Epoch 757/1000\n",
      "1/1 [==============================] - 0s 9ms/step - loss: 0.1759 - mae: 0.1759\n",
      "Epoch 758/1000\n",
      "1/1 [==============================] - 0s 8ms/step - loss: 0.2581 - mae: 0.2581\n",
      "Epoch 759/1000\n",
      "1/1 [==============================] - 0s 9ms/step - loss: 0.2159 - mae: 0.2159\n",
      "Epoch 760/1000\n",
      "1/1 [==============================] - 0s 9ms/step - loss: 0.2296 - mae: 0.2296\n",
      "Epoch 761/1000\n",
      "1/1 [==============================] - 0s 8ms/step - loss: 0.1916 - mae: 0.1916\n",
      "Epoch 762/1000\n",
      "1/1 [==============================] - 0s 12ms/step - loss: 0.2183 - mae: 0.2183\n",
      "Epoch 763/1000\n",
      "1/1 [==============================] - 0s 8ms/step - loss: 0.2033 - mae: 0.2033\n",
      "Epoch 764/1000\n",
      "1/1 [==============================] - 0s 12ms/step - loss: 0.1569 - mae: 0.1569\n",
      "Epoch 765/1000\n",
      "1/1 [==============================] - 0s 8ms/step - loss: 0.1512 - mae: 0.1512\n",
      "Epoch 766/1000\n",
      "1/1 [==============================] - 0s 7ms/step - loss: 0.2941 - mae: 0.2941\n",
      "Epoch 767/1000\n",
      "1/1 [==============================] - 0s 10ms/step - loss: 0.0902 - mae: 0.0902\n",
      "Epoch 768/1000\n",
      "1/1 [==============================] - 0s 8ms/step - loss: 0.4439 - mae: 0.4439\n",
      "Epoch 769/1000\n",
      "1/1 [==============================] - 0s 9ms/step - loss: 0.4417 - mae: 0.4417\n",
      "Epoch 770/1000\n",
      "1/1 [==============================] - 0s 7ms/step - loss: 0.1079 - mae: 0.1079\n",
      "Epoch 771/1000\n",
      "1/1 [==============================] - 0s 5ms/step - loss: 0.5641 - mae: 0.5641\n",
      "Epoch 772/1000\n",
      "1/1 [==============================] - 0s 6ms/step - loss: 0.6617 - mae: 0.6617\n",
      "Epoch 773/1000\n",
      "1/1 [==============================] - 0s 8ms/step - loss: 0.4995 - mae: 0.4995\n",
      "Epoch 774/1000\n"
     ]
    },
    {
     "name": "stdout",
     "output_type": "stream",
     "text": [
      "1/1 [==============================] - 0s 8ms/step - loss: 0.2117 - mae: 0.2117\n",
      "Epoch 775/1000\n",
      "1/1 [==============================] - 0s 6ms/step - loss: 0.3116 - mae: 0.3116\n",
      "Epoch 776/1000\n",
      "1/1 [==============================] - 0s 6ms/step - loss: 0.1578 - mae: 0.1578\n",
      "Epoch 777/1000\n",
      "1/1 [==============================] - 0s 10ms/step - loss: 0.0646 - mae: 0.0646\n",
      "Epoch 778/1000\n",
      "1/1 [==============================] - 0s 6ms/step - loss: 0.1257 - mae: 0.1257\n",
      "Epoch 779/1000\n",
      "1/1 [==============================] - 0s 7ms/step - loss: 0.3592 - mae: 0.3592\n",
      "Epoch 780/1000\n",
      "1/1 [==============================] - 0s 7ms/step - loss: 0.3035 - mae: 0.3035\n",
      "Epoch 781/1000\n",
      "1/1 [==============================] - 0s 8ms/step - loss: 0.2051 - mae: 0.2051\n",
      "Epoch 782/1000\n",
      "1/1 [==============================] - 0s 8ms/step - loss: 0.1823 - mae: 0.1823\n",
      "Epoch 783/1000\n",
      "1/1 [==============================] - 0s 10ms/step - loss: 0.2338 - mae: 0.2338\n",
      "Epoch 784/1000\n",
      "1/1 [==============================] - 0s 8ms/step - loss: 0.1752 - mae: 0.1752\n",
      "Epoch 785/1000\n",
      "1/1 [==============================] - 0s 8ms/step - loss: 0.3655 - mae: 0.3655\n",
      "Epoch 786/1000\n",
      "1/1 [==============================] - 0s 9ms/step - loss: 0.3853 - mae: 0.3853\n",
      "Epoch 787/1000\n",
      "1/1 [==============================] - 0s 8ms/step - loss: 0.2084 - mae: 0.2084\n",
      "Epoch 788/1000\n",
      "1/1 [==============================] - 0s 8ms/step - loss: 0.3509 - mae: 0.3509\n",
      "Epoch 789/1000\n",
      "1/1 [==============================] - 0s 8ms/step - loss: 0.4887 - mae: 0.4887\n",
      "Epoch 790/1000\n",
      "1/1 [==============================] - 0s 9ms/step - loss: 0.3712 - mae: 0.3712\n",
      "Epoch 791/1000\n",
      "1/1 [==============================] - 0s 8ms/step - loss: 0.0956 - mae: 0.0956\n",
      "Epoch 792/1000\n",
      "1/1 [==============================] - 0s 10ms/step - loss: 0.1729 - mae: 0.1729\n",
      "Epoch 793/1000\n",
      "1/1 [==============================] - 0s 8ms/step - loss: 0.0833 - mae: 0.0833\n",
      "Epoch 794/1000\n",
      "1/1 [==============================] - 0s 8ms/step - loss: 0.1503 - mae: 0.1503\n",
      "Epoch 795/1000\n",
      "1/1 [==============================] - 0s 11ms/step - loss: 0.0674 - mae: 0.0674\n",
      "Epoch 796/1000\n",
      "1/1 [==============================] - 0s 8ms/step - loss: 0.1760 - mae: 0.1760\n",
      "Epoch 797/1000\n",
      "1/1 [==============================] - 0s 9ms/step - loss: 0.0552 - mae: 0.0552\n",
      "Epoch 798/1000\n",
      "1/1 [==============================] - 0s 8ms/step - loss: 0.0719 - mae: 0.0719\n",
      "Epoch 799/1000\n",
      "1/1 [==============================] - 0s 9ms/step - loss: 0.2274 - mae: 0.2274\n",
      "Epoch 800/1000\n",
      "1/1 [==============================] - 0s 8ms/step - loss: 0.1914 - mae: 0.1914\n",
      "Epoch 801/1000\n",
      "1/1 [==============================] - 0s 8ms/step - loss: 0.1508 - mae: 0.1508\n",
      "Epoch 802/1000\n",
      "1/1 [==============================] - 0s 7ms/step - loss: 0.1497 - mae: 0.1497\n",
      "Epoch 803/1000\n",
      "1/1 [==============================] - 0s 9ms/step - loss: 0.1720 - mae: 0.1720\n",
      "Epoch 804/1000\n",
      "1/1 [==============================] - 0s 7ms/step - loss: 0.1196 - mae: 0.1196\n",
      "Epoch 805/1000\n",
      "1/1 [==============================] - 0s 6ms/step - loss: 0.2097 - mae: 0.2097\n",
      "Epoch 806/1000\n",
      "1/1 [==============================] - 0s 7ms/step - loss: 0.1901 - mae: 0.1901\n",
      "Epoch 807/1000\n",
      "1/1 [==============================] - 0s 8ms/step - loss: 0.1372 - mae: 0.1372\n",
      "Epoch 808/1000\n",
      "1/1 [==============================] - 0s 9ms/step - loss: 0.1118 - mae: 0.1118\n",
      "Epoch 809/1000\n",
      "1/1 [==============================] - 0s 11ms/step - loss: 0.2106 - mae: 0.2106\n",
      "Epoch 810/1000\n",
      "1/1 [==============================] - 0s 7ms/step - loss: 0.1931 - mae: 0.1931\n",
      "Epoch 811/1000\n",
      "1/1 [==============================] - 0s 8ms/step - loss: 0.1302 - mae: 0.1302\n",
      "Epoch 812/1000\n",
      "1/1 [==============================] - 0s 10ms/step - loss: 0.1166 - mae: 0.1166\n",
      "Epoch 813/1000\n",
      "1/1 [==============================] - 0s 6ms/step - loss: 0.1744 - mae: 0.1744\n",
      "Epoch 814/1000\n",
      "1/1 [==============================] - 0s 7ms/step - loss: 0.1449 - mae: 0.1449\n",
      "Epoch 815/1000\n",
      "1/1 [==============================] - 0s 8ms/step - loss: 0.1775 - mae: 0.1775\n",
      "Epoch 816/1000\n",
      "1/1 [==============================] - 0s 9ms/step - loss: 0.1589 - mae: 0.1589\n",
      "Epoch 817/1000\n",
      "1/1 [==============================] - 0s 8ms/step - loss: 0.1613 - mae: 0.1613\n",
      "Epoch 818/1000\n",
      "1/1 [==============================] - 0s 7ms/step - loss: 0.1576 - mae: 0.1576\n",
      "Epoch 819/1000\n",
      "1/1 [==============================] - 0s 6ms/step - loss: 0.1391 - mae: 0.1391\n",
      "Epoch 820/1000\n",
      "1/1 [==============================] - 0s 6ms/step - loss: 0.1532 - mae: 0.1532\n",
      "Epoch 821/1000\n",
      "1/1 [==============================] - 0s 7ms/step - loss: 0.1347 - mae: 0.1347\n",
      "Epoch 822/1000\n",
      "1/1 [==============================] - 0s 8ms/step - loss: 0.1261 - mae: 0.1261\n",
      "Epoch 823/1000\n",
      "1/1 [==============================] - 0s 6ms/step - loss: 0.1484 - mae: 0.1484\n",
      "Epoch 824/1000\n",
      "1/1 [==============================] - 0s 10ms/step - loss: 0.1179 - mae: 0.1179\n",
      "Epoch 825/1000\n",
      "1/1 [==============================] - 0s 8ms/step - loss: 0.1557 - mae: 0.1557\n",
      "Epoch 826/1000\n",
      "1/1 [==============================] - 0s 9ms/step - loss: 0.1401 - mae: 0.1401\n",
      "Epoch 827/1000\n",
      "1/1 [==============================] - 0s 8ms/step - loss: 0.1329 - mae: 0.1329\n",
      "Epoch 828/1000\n",
      "1/1 [==============================] - 0s 7ms/step - loss: 0.1090 - mae: 0.1090\n",
      "Epoch 829/1000\n",
      "1/1 [==============================] - 0s 9ms/step - loss: 0.1922 - mae: 0.1922\n",
      "Epoch 830/1000\n",
      "1/1 [==============================] - 0s 10ms/step - loss: 0.1518 - mae: 0.1518\n",
      "Epoch 831/1000\n",
      "1/1 [==============================] - 0s 8ms/step - loss: 0.1564 - mae: 0.1564\n",
      "Epoch 832/1000\n",
      "1/1 [==============================] - 0s 12ms/step - loss: 0.1550 - mae: 0.1550\n",
      "Epoch 833/1000\n",
      "1/1 [==============================] - 0s 8ms/step - loss: 0.1962 - mae: 0.1962\n",
      "Epoch 834/1000\n",
      "1/1 [==============================] - 0s 12ms/step - loss: 0.1881 - mae: 0.1881\n",
      "Epoch 835/1000\n",
      "1/1 [==============================] - 0s 8ms/step - loss: 0.0759 - mae: 0.0759\n",
      "Epoch 836/1000\n",
      "1/1 [==============================] - 0s 9ms/step - loss: 0.0500 - mae: 0.0500\n",
      "Epoch 837/1000\n",
      "1/1 [==============================] - 0s 7ms/step - loss: 0.1789 - mae: 0.1789\n",
      "Epoch 838/1000\n",
      "1/1 [==============================] - 0s 10ms/step - loss: 0.1505 - mae: 0.1505\n",
      "Epoch 839/1000\n",
      "1/1 [==============================] - 0s 8ms/step - loss: 0.1831 - mae: 0.1831\n",
      "Epoch 840/1000\n",
      "1/1 [==============================] - 0s 9ms/step - loss: 0.1605 - mae: 0.1605\n",
      "Epoch 841/1000\n",
      "1/1 [==============================] - 0s 9ms/step - loss: 0.1128 - mae: 0.1128\n",
      "Epoch 842/1000\n",
      "1/1 [==============================] - 0s 10ms/step - loss: 0.0850 - mae: 0.0850\n",
      "Epoch 843/1000\n",
      "1/1 [==============================] - 0s 8ms/step - loss: 0.1827 - mae: 0.1827\n",
      "Epoch 844/1000\n",
      "1/1 [==============================] - 0s 12ms/step - loss: 0.1566 - mae: 0.1566\n",
      "Epoch 845/1000\n",
      "1/1 [==============================] - 0s 9ms/step - loss: 0.1455 - mae: 0.1455\n",
      "Epoch 846/1000\n",
      "1/1 [==============================] - 0s 8ms/step - loss: 0.2044 - mae: 0.2044\n",
      "Epoch 847/1000\n",
      "1/1 [==============================] - 0s 17ms/step - loss: 0.0894 - mae: 0.0894\n",
      "Epoch 848/1000\n",
      "1/1 [==============================] - 0s 9ms/step - loss: 0.0675 - mae: 0.0675\n",
      "Epoch 849/1000\n",
      "1/1 [==============================] - 0s 9ms/step - loss: 0.0659 - mae: 0.0659\n",
      "Epoch 850/1000\n",
      "1/1 [==============================] - 0s 7ms/step - loss: 0.1644 - mae: 0.1644\n",
      "Epoch 851/1000\n",
      "1/1 [==============================] - 0s 10ms/step - loss: 0.1199 - mae: 0.1199\n",
      "Epoch 852/1000\n",
      "1/1 [==============================] - 0s 9ms/step - loss: 0.1308 - mae: 0.1308\n",
      "Epoch 853/1000\n",
      "1/1 [==============================] - 0s 7ms/step - loss: 0.1371 - mae: 0.1371\n",
      "Epoch 854/1000\n",
      "1/1 [==============================] - 0s 10ms/step - loss: 0.0790 - mae: 0.0790\n",
      "Epoch 855/1000\n",
      "1/1 [==============================] - 0s 8ms/step - loss: 0.0620 - mae: 0.0620\n",
      "Epoch 856/1000\n",
      "1/1 [==============================] - 0s 10ms/step - loss: 0.1540 - mae: 0.1540\n",
      "Epoch 857/1000\n",
      "1/1 [==============================] - 0s 10ms/step - loss: 0.1310 - mae: 0.1310\n",
      "Epoch 858/1000\n",
      "1/1 [==============================] - 0s 8ms/step - loss: 0.1076 - mae: 0.1076\n",
      "Epoch 859/1000\n",
      "1/1 [==============================] - 0s 8ms/step - loss: 0.1130 - mae: 0.1130\n",
      "Epoch 860/1000\n"
     ]
    },
    {
     "name": "stdout",
     "output_type": "stream",
     "text": [
      "1/1 [==============================] - 0s 9ms/step - loss: 0.1198 - mae: 0.1198\n",
      "Epoch 861/1000\n",
      "1/1 [==============================] - 0s 7ms/step - loss: 0.0834 - mae: 0.0834\n",
      "Epoch 862/1000\n",
      "1/1 [==============================] - 0s 8ms/step - loss: 0.1498 - mae: 0.1498\n",
      "Epoch 863/1000\n",
      "1/1 [==============================] - 0s 7ms/step - loss: 0.1316 - mae: 0.1316\n",
      "Epoch 864/1000\n",
      "1/1 [==============================] - 0s 8ms/step - loss: 0.0983 - mae: 0.0983\n",
      "Epoch 865/1000\n",
      "1/1 [==============================] - 0s 11ms/step - loss: 0.1027 - mae: 0.1027\n",
      "Epoch 866/1000\n",
      "1/1 [==============================] - 0s 9ms/step - loss: 0.1657 - mae: 0.1657\n",
      "Epoch 867/1000\n",
      "1/1 [==============================] - 0s 7ms/step - loss: 0.1161 - mae: 0.1161\n",
      "Epoch 868/1000\n",
      "1/1 [==============================] - 0s 9ms/step - loss: 0.1739 - mae: 0.1739\n",
      "Epoch 869/1000\n",
      "1/1 [==============================] - 0s 8ms/step - loss: 0.1944 - mae: 0.1944\n",
      "Epoch 870/1000\n",
      "1/1 [==============================] - 0s 6ms/step - loss: 0.1052 - mae: 0.1052\n",
      "Epoch 871/1000\n",
      "1/1 [==============================] - 0s 8ms/step - loss: 0.0655 - mae: 0.0655\n",
      "Epoch 872/1000\n",
      "1/1 [==============================] - 0s 6ms/step - loss: 0.1527 - mae: 0.1527\n",
      "Epoch 873/1000\n",
      "1/1 [==============================] - 0s 6ms/step - loss: 0.1394 - mae: 0.1394\n",
      "Epoch 874/1000\n",
      "1/1 [==============================] - 0s 6ms/step - loss: 0.0674 - mae: 0.0674\n",
      "Epoch 875/1000\n",
      "1/1 [==============================] - 0s 8ms/step - loss: 0.0729 - mae: 0.0729\n",
      "Epoch 876/1000\n",
      "1/1 [==============================] - 0s 6ms/step - loss: 0.1506 - mae: 0.1506\n",
      "Epoch 877/1000\n",
      "1/1 [==============================] - 0s 6ms/step - loss: 0.1351 - mae: 0.1351\n",
      "Epoch 878/1000\n",
      "1/1 [==============================] - 0s 9ms/step - loss: 0.0811 - mae: 0.0811\n",
      "Epoch 879/1000\n",
      "1/1 [==============================] - 0s 9ms/step - loss: 0.0881 - mae: 0.0881\n",
      "Epoch 880/1000\n",
      "1/1 [==============================] - 0s 7ms/step - loss: 0.1764 - mae: 0.1764\n",
      "Epoch 881/1000\n",
      "1/1 [==============================] - 0s 13ms/step - loss: 0.1300 - mae: 0.1300\n",
      "Epoch 882/1000\n",
      "1/1 [==============================] - 0s 8ms/step - loss: 0.1465 - mae: 0.1465\n",
      "Epoch 883/1000\n",
      "1/1 [==============================] - 0s 8ms/step - loss: 0.1634 - mae: 0.1634\n",
      "Epoch 884/1000\n",
      "1/1 [==============================] - 0s 8ms/step - loss: 0.1374 - mae: 0.1374\n",
      "Epoch 885/1000\n",
      "1/1 [==============================] - 0s 7ms/step - loss: 0.0992 - mae: 0.0992\n",
      "Epoch 886/1000\n",
      "1/1 [==============================] - 0s 8ms/step - loss: 0.1364 - mae: 0.1364\n",
      "Epoch 887/1000\n",
      "1/1 [==============================] - 0s 7ms/step - loss: 0.1476 - mae: 0.1476\n",
      "Epoch 888/1000\n",
      "1/1 [==============================] - 0s 8ms/step - loss: 0.2004 - mae: 0.2004\n",
      "Epoch 889/1000\n",
      "1/1 [==============================] - 0s 12ms/step - loss: 0.1535 - mae: 0.1535\n",
      "Epoch 890/1000\n",
      "1/1 [==============================] - 0s 8ms/step - loss: 0.1181 - mae: 0.1181\n",
      "Epoch 891/1000\n",
      "1/1 [==============================] - 0s 7ms/step - loss: 0.1369 - mae: 0.1369\n",
      "Epoch 892/1000\n",
      "1/1 [==============================] - 0s 7ms/step - loss: 0.1251 - mae: 0.1251\n",
      "Epoch 893/1000\n",
      "1/1 [==============================] - 0s 8ms/step - loss: 0.1102 - mae: 0.1102\n",
      "Epoch 894/1000\n",
      "1/1 [==============================] - 0s 12ms/step - loss: 0.0906 - mae: 0.0906\n",
      "Epoch 895/1000\n",
      "1/1 [==============================] - 0s 6ms/step - loss: 0.1041 - mae: 0.1041\n",
      "Epoch 896/1000\n",
      "1/1 [==============================] - 0s 6ms/step - loss: 0.1238 - mae: 0.1238\n",
      "Epoch 897/1000\n",
      "1/1 [==============================] - 0s 7ms/step - loss: 0.1356 - mae: 0.1356\n",
      "Epoch 898/1000\n",
      "1/1 [==============================] - 0s 9ms/step - loss: 0.0829 - mae: 0.0829\n",
      "Epoch 899/1000\n",
      "1/1 [==============================] - 0s 6ms/step - loss: 0.0818 - mae: 0.0818\n",
      "Epoch 900/1000\n",
      "1/1 [==============================] - 0s 11ms/step - loss: 0.1353 - mae: 0.1353\n",
      "Epoch 901/1000\n",
      "1/1 [==============================] - 0s 8ms/step - loss: 0.1484 - mae: 0.1484\n",
      "Epoch 902/1000\n",
      "1/1 [==============================] - 0s 6ms/step - loss: 0.0608 - mae: 0.0608\n",
      "Epoch 903/1000\n",
      "1/1 [==============================] - 0s 6ms/step - loss: 0.0748 - mae: 0.0748\n",
      "Epoch 904/1000\n",
      "1/1 [==============================] - 0s 9ms/step - loss: 0.1548 - mae: 0.1548\n",
      "Epoch 905/1000\n",
      "1/1 [==============================] - 0s 7ms/step - loss: 0.1353 - mae: 0.1353\n",
      "Epoch 906/1000\n",
      "1/1 [==============================] - 0s 7ms/step - loss: 0.0676 - mae: 0.0676\n",
      "Epoch 907/1000\n",
      "1/1 [==============================] - 0s 11ms/step - loss: 0.0537 - mae: 0.0537\n",
      "Epoch 908/1000\n",
      "1/1 [==============================] - 0s 7ms/step - loss: 0.1388 - mae: 0.1388\n",
      "Epoch 909/1000\n",
      "1/1 [==============================] - 0s 7ms/step - loss: 0.1411 - mae: 0.1411\n",
      "Epoch 910/1000\n",
      "1/1 [==============================] - 0s 10ms/step - loss: 0.1229 - mae: 0.1229\n",
      "Epoch 911/1000\n",
      "1/1 [==============================] - 0s 7ms/step - loss: 0.0931 - mae: 0.0931\n",
      "Epoch 912/1000\n",
      "1/1 [==============================] - 0s 7ms/step - loss: 0.1504 - mae: 0.1504\n",
      "Epoch 913/1000\n",
      "1/1 [==============================] - 0s 7ms/step - loss: 0.1570 - mae: 0.1570\n",
      "Epoch 914/1000\n",
      "1/1 [==============================] - 0s 8ms/step - loss: 0.0878 - mae: 0.0878\n",
      "Epoch 915/1000\n",
      "1/1 [==============================] - 0s 7ms/step - loss: 0.0920 - mae: 0.0920\n",
      "Epoch 916/1000\n",
      "1/1 [==============================] - 0s 9ms/step - loss: 0.1315 - mae: 0.1315\n",
      "Epoch 917/1000\n",
      "1/1 [==============================] - 0s 9ms/step - loss: 0.1148 - mae: 0.1148\n",
      "Epoch 918/1000\n",
      "1/1 [==============================] - 0s 7ms/step - loss: 0.0866 - mae: 0.0866\n",
      "Epoch 919/1000\n",
      "1/1 [==============================] - 0s 7ms/step - loss: 0.0824 - mae: 0.0824\n",
      "Epoch 920/1000\n",
      "1/1 [==============================] - 0s 11ms/step - loss: 0.1433 - mae: 0.1433\n",
      "Epoch 921/1000\n",
      "1/1 [==============================] - 0s 8ms/step - loss: 0.1348 - mae: 0.1348\n",
      "Epoch 922/1000\n",
      "1/1 [==============================] - 0s 8ms/step - loss: 0.1157 - mae: 0.1157\n",
      "Epoch 923/1000\n",
      "1/1 [==============================] - 0s 10ms/step - loss: 0.0884 - mae: 0.0884\n",
      "Epoch 924/1000\n",
      "1/1 [==============================] - 0s 7ms/step - loss: 0.1462 - mae: 0.1462\n",
      "Epoch 925/1000\n",
      "1/1 [==============================] - 0s 8ms/step - loss: 0.1510 - mae: 0.1510\n",
      "Epoch 926/1000\n",
      "1/1 [==============================] - 0s 10ms/step - loss: 0.0553 - mae: 0.0553\n",
      "Epoch 927/1000\n",
      "1/1 [==============================] - 0s 8ms/step - loss: 0.0391 - mae: 0.0391\n",
      "Epoch 928/1000\n",
      "1/1 [==============================] - 0s 7ms/step - loss: 0.1615 - mae: 0.1615\n",
      "Epoch 929/1000\n",
      "1/1 [==============================] - 0s 7ms/step - loss: 0.1344 - mae: 0.1344\n",
      "Epoch 930/1000\n",
      "1/1 [==============================] - 0s 7ms/step - loss: 0.0974 - mae: 0.0974\n",
      "Epoch 931/1000\n",
      "1/1 [==============================] - 0s 10ms/step - loss: 0.1021 - mae: 0.1021\n",
      "Epoch 932/1000\n",
      "1/1 [==============================] - 0s 7ms/step - loss: 0.1139 - mae: 0.1139\n",
      "Epoch 933/1000\n",
      "1/1 [==============================] - 0s 7ms/step - loss: 0.1361 - mae: 0.1361\n",
      "Epoch 934/1000\n",
      "1/1 [==============================] - 0s 7ms/step - loss: 0.1041 - mae: 0.1041\n",
      "Epoch 935/1000\n",
      "1/1 [==============================] - 0s 9ms/step - loss: 0.0871 - mae: 0.0871\n",
      "Epoch 936/1000\n",
      "1/1 [==============================] - 0s 7ms/step - loss: 0.1098 - mae: 0.1098\n",
      "Epoch 937/1000\n",
      "1/1 [==============================] - 0s 8ms/step - loss: 0.1143 - mae: 0.1143\n",
      "Epoch 938/1000\n",
      "1/1 [==============================] - 0s 9ms/step - loss: 0.0926 - mae: 0.0926\n",
      "Epoch 939/1000\n",
      "1/1 [==============================] - 0s 7ms/step - loss: 0.0684 - mae: 0.0684\n",
      "Epoch 940/1000\n",
      "1/1 [==============================] - 0s 10ms/step - loss: 0.1644 - mae: 0.1644\n",
      "Epoch 941/1000\n",
      "1/1 [==============================] - 0s 7ms/step - loss: 0.1425 - mae: 0.1425\n",
      "Epoch 942/1000\n",
      "1/1 [==============================] - 0s 7ms/step - loss: 0.0793 - mae: 0.0793\n",
      "Epoch 943/1000\n",
      "1/1 [==============================] - 0s 8ms/step - loss: 0.0794 - mae: 0.0794\n",
      "Epoch 944/1000\n",
      "1/1 [==============================] - 0s 6ms/step - loss: 0.1591 - mae: 0.1591\n",
      "Epoch 945/1000\n",
      "1/1 [==============================] - 0s 9ms/step - loss: 0.1544 - mae: 0.1544\n",
      "Epoch 946/1000\n"
     ]
    },
    {
     "name": "stdout",
     "output_type": "stream",
     "text": [
      "1/1 [==============================] - 0s 11ms/step - loss: 0.0449 - mae: 0.0449\n",
      "Epoch 947/1000\n",
      "1/1 [==============================] - 0s 8ms/step - loss: 0.0508 - mae: 0.0508\n",
      "Epoch 948/1000\n",
      "1/1 [==============================] - 0s 9ms/step - loss: 0.1090 - mae: 0.1090\n",
      "Epoch 949/1000\n",
      "1/1 [==============================] - 0s 10ms/step - loss: 0.0894 - mae: 0.0894\n",
      "Epoch 950/1000\n",
      "1/1 [==============================] - 0s 7ms/step - loss: 0.0989 - mae: 0.0989\n",
      "Epoch 951/1000\n",
      "1/1 [==============================] - 0s 8ms/step - loss: 0.1109 - mae: 0.1109\n",
      "Epoch 952/1000\n",
      "1/1 [==============================] - 0s 7ms/step - loss: 0.0928 - mae: 0.0928\n",
      "Epoch 953/1000\n",
      "1/1 [==============================] - 0s 7ms/step - loss: 0.0666 - mae: 0.0666\n",
      "Epoch 954/1000\n",
      "1/1 [==============================] - 0s 7ms/step - loss: 0.1328 - mae: 0.1328\n",
      "Epoch 955/1000\n",
      "1/1 [==============================] - 0s 8ms/step - loss: 0.1013 - mae: 0.1013\n",
      "Epoch 956/1000\n",
      "1/1 [==============================] - 0s 7ms/step - loss: 0.1211 - mae: 0.1211\n",
      "Epoch 957/1000\n",
      "1/1 [==============================] - 0s 7ms/step - loss: 0.1293 - mae: 0.1293\n",
      "Epoch 958/1000\n",
      "1/1 [==============================] - 0s 11ms/step - loss: 0.0971 - mae: 0.0971\n",
      "Epoch 959/1000\n",
      "1/1 [==============================] - 0s 8ms/step - loss: 0.0946 - mae: 0.0946\n",
      "Epoch 960/1000\n",
      "1/1 [==============================] - 0s 7ms/step - loss: 0.1233 - mae: 0.1233\n",
      "Epoch 961/1000\n",
      "1/1 [==============================] - 0s 10ms/step - loss: 0.1132 - mae: 0.1132\n",
      "Epoch 962/1000\n",
      "1/1 [==============================] - 0s 8ms/step - loss: 0.0681 - mae: 0.0681\n",
      "Epoch 963/1000\n",
      "1/1 [==============================] - 0s 6ms/step - loss: 0.0622 - mae: 0.0622\n",
      "Epoch 964/1000\n",
      "1/1 [==============================] - 0s 10ms/step - loss: 0.1370 - mae: 0.1370\n",
      "Epoch 965/1000\n",
      "1/1 [==============================] - 0s 8ms/step - loss: 0.1226 - mae: 0.1226\n",
      "Epoch 966/1000\n",
      "1/1 [==============================] - 0s 7ms/step - loss: 0.1094 - mae: 0.1094\n",
      "Epoch 967/1000\n",
      "1/1 [==============================] - 0s 13ms/step - loss: 0.0866 - mae: 0.0866\n",
      "Epoch 968/1000\n",
      "1/1 [==============================] - 0s 8ms/step - loss: 0.1282 - mae: 0.1282\n",
      "Epoch 969/1000\n",
      "1/1 [==============================] - 0s 9ms/step - loss: 0.1316 - mae: 0.1316\n",
      "Epoch 970/1000\n",
      "1/1 [==============================] - 0s 10ms/step - loss: 0.0729 - mae: 0.0729\n",
      "Epoch 971/1000\n",
      "1/1 [==============================] - 0s 8ms/step - loss: 0.0951 - mae: 0.0951\n",
      "Epoch 972/1000\n",
      "1/1 [==============================] - 0s 10ms/step - loss: 0.1247 - mae: 0.1247\n",
      "Epoch 973/1000\n",
      "1/1 [==============================] - 0s 6ms/step - loss: 0.1078 - mae: 0.1078\n",
      "Epoch 974/1000\n",
      "1/1 [==============================] - 0s 7ms/step - loss: 0.0750 - mae: 0.0750\n",
      "Epoch 975/1000\n",
      "1/1 [==============================] - 0s 7ms/step - loss: 0.0738 - mae: 0.0738\n",
      "Epoch 976/1000\n",
      "1/1 [==============================] - 0s 10ms/step - loss: 0.1249 - mae: 0.1249\n",
      "Epoch 977/1000\n",
      "1/1 [==============================] - 0s 7ms/step - loss: 0.1172 - mae: 0.1172\n",
      "Epoch 978/1000\n",
      "1/1 [==============================] - 0s 7ms/step - loss: 0.1029 - mae: 0.1029\n",
      "Epoch 979/1000\n",
      "1/1 [==============================] - 0s 9ms/step - loss: 0.0766 - mae: 0.0766\n",
      "Epoch 980/1000\n",
      "1/1 [==============================] - 0s 7ms/step - loss: 0.1362 - mae: 0.1362\n",
      "Epoch 981/1000\n",
      "1/1 [==============================] - 0s 9ms/step - loss: 0.1422 - mae: 0.1422\n",
      "Epoch 982/1000\n",
      "1/1 [==============================] - 0s 8ms/step - loss: 0.0479 - mae: 0.0479\n",
      "Epoch 983/1000\n",
      "1/1 [==============================] - 0s 9ms/step - loss: 0.0544 - mae: 0.0544\n",
      "Epoch 984/1000\n",
      "1/1 [==============================] - 0s 11ms/step - loss: 0.1349 - mae: 0.1349\n",
      "Epoch 985/1000\n",
      "1/1 [==============================] - 0s 8ms/step - loss: 0.1423 - mae: 0.1423\n",
      "Epoch 986/1000\n",
      "1/1 [==============================] - 0s 11ms/step - loss: 0.0318 - mae: 0.0318\n",
      "Epoch 987/1000\n",
      "1/1 [==============================] - 0s 8ms/step - loss: 0.0466 - mae: 0.0466\n",
      "Epoch 988/1000\n",
      "1/1 [==============================] - 0s 8ms/step - loss: 0.1251 - mae: 0.1251\n",
      "Epoch 989/1000\n",
      "1/1 [==============================] - 0s 8ms/step - loss: 0.1249 - mae: 0.1249\n",
      "Epoch 990/1000\n",
      "1/1 [==============================] - 0s 7ms/step - loss: 0.0577 - mae: 0.0577\n",
      "Epoch 991/1000\n",
      "1/1 [==============================] - 0s 8ms/step - loss: 0.0523 - mae: 0.0523\n",
      "Epoch 992/1000\n",
      "1/1 [==============================] - 0s 8ms/step - loss: 0.1086 - mae: 0.1086\n",
      "Epoch 993/1000\n",
      "1/1 [==============================] - 0s 8ms/step - loss: 0.1010 - mae: 0.1010\n",
      "Epoch 994/1000\n",
      "1/1 [==============================] - 0s 7ms/step - loss: 0.0621 - mae: 0.0621\n",
      "Epoch 995/1000\n",
      "1/1 [==============================] - 0s 10ms/step - loss: 0.0615 - mae: 0.0615\n",
      "Epoch 996/1000\n",
      "1/1 [==============================] - 0s 7ms/step - loss: 0.1140 - mae: 0.1140\n",
      "Epoch 997/1000\n",
      "1/1 [==============================] - 0s 8ms/step - loss: 0.1067 - mae: 0.1067\n",
      "Epoch 998/1000\n",
      "1/1 [==============================] - 0s 7ms/step - loss: 0.0615 - mae: 0.0615\n",
      "Epoch 999/1000\n",
      "1/1 [==============================] - 0s 6ms/step - loss: 0.0602 - mae: 0.0602\n",
      "Epoch 1000/1000\n",
      "1/1 [==============================] - 0s 8ms/step - loss: 0.1480 - mae: 0.1480\n"
     ]
    },
    {
     "data": {
      "text/plain": [
       "<keras.callbacks.History at 0x7f079dbd5910>"
      ]
     },
     "execution_count": 33,
     "metadata": {},
     "output_type": "execute_result"
    }
   ],
   "source": [
    "#bulding the neursl network for the data\n",
    "# Build model\n",
    "tf.random.set_seed(42)\n",
    "model_3=tf.keras.Sequential([\n",
    "    Dense(units=100,input_shape=(1,),activation=\"relu\"),\n",
    "    Dense(units=1)\n",
    "    \n",
    "])\n",
    "\n",
    "\n",
    "#compile model\n",
    "model_3.compile(loss=tf.keras.losses.mae,\n",
    "              optimizer=tf.keras.optimizers.Adam(lr=0.01), #Adam(lr=0.01),\n",
    "              metrics=[\"mae\"]\n",
    ")\n",
    "\n",
    "model_3.fit(X_train,\n",
    "            y_train,\n",
    "            epochs=1000\n",
    ")"
   ]
  },
  {
   "cell_type": "code",
   "execution_count": 55,
   "id": "9fcaa7a6",
   "metadata": {},
   "outputs": [
    {
     "name": "stdout",
     "output_type": "stream",
     "text": [
      "1/1 [==============================] - 0s 25ms/step\n"
     ]
    },
    {
     "data": {
      "image/png": "[encoded data removed]",
      "text/plain": [
       "<Figure size 720x504 with 1 Axes>"
      ]
     },
     "metadata": {
      "needs_background": "light"
     },
     "output_type": "display_data"
    }
   ],
   "source": [
    "#visualize plot predictionns for model_3\n",
    "y_pred_3=  model_3.predict(X_test)\n",
    "plot_pred(predictions=y_pred_3)"
   ]
  },
  {
   "cell_type": "code",
   "execution_count": 35,
   "id": "83dc5f98",
   "metadata": {},
   "outputs": [
    {
     "data": {
      "text/plain": [
       "(<tf.Tensor: shape=(), dtype=float32, numpy=0.8474518>,\n",
       " <tf.Tensor: shape=(), dtype=float32, numpy=1.1734298>)"
      ]
     },
     "execution_count": 35,
     "metadata": {},
     "output_type": "execute_result"
    }
   ],
   "source": [
    "#calculating model_2 evaluation metrics\n",
    "mae_3 = mae(y_test,y_pred_3)\n",
    "mse_3= mse(y_test,y_pred_3)\n",
    "\n",
    "mae_3,mse_3"
   ]
  },
  {
   "cell_type": "markdown",
   "id": "a1ce7a39",
   "metadata": {},
   "source": [
    "# Comparing The results of our experiments\n"
   ]
  },
  {
   "cell_type": "code",
   "execution_count": 36,
   "id": "258b5fe1",
   "metadata": {},
   "outputs": [
    {
     "data": {
      "text/html": [
       "<div>\n",
       "<style scoped>\n",
       "    .dataframe tbody tr th:only-of-type {\n",
       "        vertical-align: middle;\n",
       "    }\n",
       "\n",
       "    .dataframe tbody tr th {\n",
       "        vertical-align: top;\n",
       "    }\n",
       "\n",
       "    .dataframe thead th {\n",
       "        text-align: right;\n",
       "    }\n",
       "</style>\n",
       "<table border=\"1\" class=\"dataframe\">\n",
       "  <thead>\n",
       "    <tr style=\"text-align: right;\">\n",
       "      <th></th>\n",
       "      <th>Models</th>\n",
       "      <th>MSE</th>\n",
       "      <th>MAE</th>\n",
       "    </tr>\n",
       "  </thead>\n",
       "  <tbody>\n",
       "    <tr>\n",
       "      <th>0</th>\n",
       "      <td>model_1</td>\n",
       "      <td>tf.Tensor(1.6423786, shape=(), dtype=float32)</td>\n",
       "      <td>tf.Tensor(3.6996536, shape=(), dtype=float32)</td>\n",
       "    </tr>\n",
       "    <tr>\n",
       "      <th>1</th>\n",
       "      <td>model_2</td>\n",
       "      <td>tf.Tensor(19.749924, shape=(), dtype=float32)</td>\n",
       "      <td>tf.Tensor(394.1047, shape=(), dtype=float32)</td>\n",
       "    </tr>\n",
       "    <tr>\n",
       "      <th>2</th>\n",
       "      <td>model_3</td>\n",
       "      <td>tf.Tensor(0.8474518, shape=(), dtype=float32)</td>\n",
       "      <td>tf.Tensor(1.1734298, shape=(), dtype=float32)</td>\n",
       "    </tr>\n",
       "  </tbody>\n",
       "</table>\n",
       "</div>"
      ],
      "text/plain": [
       "    Models                                           MSE   \\\n",
       "0  model_1  tf.Tensor(1.6423786, shape=(), dtype=float32)   \n",
       "1  model_2  tf.Tensor(19.749924, shape=(), dtype=float32)   \n",
       "2  model_3  tf.Tensor(0.8474518, shape=(), dtype=float32)   \n",
       "\n",
       "                                             MAE  \n",
       "0  tf.Tensor(3.6996536, shape=(), dtype=float32)  \n",
       "1   tf.Tensor(394.1047, shape=(), dtype=float32)  \n",
       "2  tf.Tensor(1.1734298, shape=(), dtype=float32)  "
      ]
     },
     "execution_count": 36,
     "metadata": {},
     "output_type": "execute_result"
    }
   ],
   "source": [
    "# Let's compare our model's results using a pandas DataFrame\n",
    "import pandas as pd\n",
    "model_results =[['model_1',mae_1,mse_1],\n",
    "               ['model_2',mae_2,mse_2],\n",
    "               ['model_3',mae_3,mse_3]]\n",
    "\n",
    "all_results = pd.DataFrame(model_results,columns =[\"Models\",\"MSE \",\"MAE\"])\n",
    "all_results"
   ]
  },
  {
   "cell_type": "code",
   "execution_count": 38,
   "id": "4f1d42af",
   "metadata": {
    "scrolled": true
   },
   "outputs": [
    {
     "data": {
      "text/html": [
       "<div>\n",
       "<style scoped>\n",
       "    .dataframe tbody tr th:only-of-type {\n",
       "        vertical-align: middle;\n",
       "    }\n",
       "\n",
       "    .dataframe tbody tr th {\n",
       "        vertical-align: top;\n",
       "    }\n",
       "\n",
       "    .dataframe thead th {\n",
       "        text-align: right;\n",
       "    }\n",
       "</style>\n",
       "<table border=\"1\" class=\"dataframe\">\n",
       "  <thead>\n",
       "    <tr style=\"text-align: right;\">\n",
       "      <th></th>\n",
       "      <th>Models</th>\n",
       "      <th>MSE</th>\n",
       "      <th>MAE</th>\n",
       "    </tr>\n",
       "  </thead>\n",
       "  <tbody>\n",
       "    <tr>\n",
       "      <th>0</th>\n",
       "      <td>model_1</td>\n",
       "      <td>1.642379</td>\n",
       "      <td>3.699654</td>\n",
       "    </tr>\n",
       "    <tr>\n",
       "      <th>1</th>\n",
       "      <td>model_2</td>\n",
       "      <td>19.749924</td>\n",
       "      <td>394.104706</td>\n",
       "    </tr>\n",
       "    <tr>\n",
       "      <th>2</th>\n",
       "      <td>model_3</td>\n",
       "      <td>0.847452</td>\n",
       "      <td>1.173430</td>\n",
       "    </tr>\n",
       "  </tbody>\n",
       "</table>\n",
       "</div>"
      ],
      "text/plain": [
       "    Models       MSE          MAE\n",
       "0  model_1   1.642379    3.699654\n",
       "1  model_2  19.749924  394.104706\n",
       "2  model_3   0.847452    1.173430"
      ]
     },
     "execution_count": 38,
     "metadata": {},
     "output_type": "execute_result"
    }
   ],
   "source": [
    "model_results =[['model_1',mae_1.numpy(),mse_1.numpy()],\n",
    "               ['model_2',mae_2.numpy(),mse_2.numpy()],\n",
    "               ['model_3',mae_3.numpy(),mse_3.numpy()]]\n",
    "\n",
    "all_results = pd.DataFrame(model_results,columns =[\"Models\",\"MSE \",\"MAE\"])\n",
    "all_results\n",
    "\n"
   ]
  },
  {
   "cell_type": "markdown",
   "id": "c4d18e70",
   "metadata": {},
   "source": [
    "**Note:** one of the goals should be to minimize the time between  y our experiments.The more experiment s you do , the more things you'll  figure out which dont work and in turn , get closer to t figure out which don't work and  in  turn,get closer to figuring out what does work. Remember that machine learning practioner's ``experiment experiment experiment``"
   ]
  },
  {
   "cell_type": "markdown",
   "id": "416cbca6",
   "metadata": {},
   "source": [
    "**Looks like model_3 performs better**"
   ]
  },
  {
   "cell_type": "code",
   "execution_count": null,
   "id": "80f0f150",
   "metadata": {},
   "outputs": [],
   "source": []
  },
  {
   "cell_type": "code",
   "execution_count": 39,
   "id": "a60f4d9d",
   "metadata": {},
   "outputs": [
    {
     "name": "stdout",
     "output_type": "stream",
     "text": [
      "Model: \"sequential_2\"\n",
      "_________________________________________________________________\n",
      " Layer (type)                Output Shape              Param #   \n",
      "=================================================================\n",
      " dense_6 (Dense)             (None, 100)               200       \n",
      "                                                                 \n",
      " dense_7 (Dense)             (None, 1)                 101       \n",
      "                                                                 \n",
      "=================================================================\n",
      "Total params: 301\n",
      "Trainable params: 301\n",
      "Non-trainable params: 0\n",
      "_________________________________________________________________\n"
     ]
    }
   ],
   "source": [
    "model_3.summary()"
   ]
  },
  {
   "cell_type": "markdown",
   "id": "8252132a",
   "metadata": {},
   "source": [
    "# Tracking your Experiments"
   ]
  },
  {
   "cell_type": "markdown",
   "id": "33fc0d93",
   "metadata": {},
   "source": [
    "One really good habit in ML modeling  is to track your experiment.\n",
    "\n",
    "And when doing so, it can be tedious if you're running lots of experiments.\n",
    "\n",
    "Luckyly there are  tools to help us!\n",
    "\n",
    "**Resources:** As you build more model , you'll want to look into using :\n",
    "\n",
    "* TensorBoard - a component of the Tensorflow library to help track modeling experiments .\n",
    "* Weights & Biases - a tool for tracking all of kind of ML experiments (plugs straight  into TensorBoard)"
   ]
  },
  {
   "cell_type": "markdown",
   "id": "980d7427",
   "metadata": {},
   "source": [
    "# Saving our Models"
   ]
  },
  {
   "cell_type": "markdown",
   "id": "b3c5c113",
   "metadata": {},
   "source": [
    "Saving our model allows us to use the model outside the Notebook.\n",
    "such as in web application or a mobile app.\n",
    "There are 2 main formats to save the model\n",
    "* The SaveModel format\n",
    "* The HDF5 format"
   ]
  },
  {
   "cell_type": "code",
   "execution_count": 41,
   "id": "07c4e73d",
   "metadata": {},
   "outputs": [
    {
     "name": "stderr",
     "output_type": "stream",
     "text": [
      "WARNING:absl:Found untraced functions such as _update_step_xla while saving (showing 1 of 1). These functions will not be directly callable after loading.\n"
     ]
    },
    {
     "name": "stdout",
     "output_type": "stream",
     "text": [
      "INFO:tensorflow:Assets written to: firstModel/assets\n"
     ]
    },
    {
     "name": "stderr",
     "output_type": "stream",
     "text": [
      "INFO:tensorflow:Assets written to: firstModel/assets\n"
     ]
    }
   ],
   "source": [
    "#Saving model using the SaveModel format\n",
    "model_3.save(\"firstModel\")"
   ]
  },
  {
   "cell_type": "code",
   "execution_count": 42,
   "id": "3f22bd67",
   "metadata": {},
   "outputs": [],
   "source": [
    "#Saving Model using the HDF5 format\n",
    "model_3.save(\"myHDF5Model.h5\")"
   ]
  },
  {
   "cell_type": "markdown",
   "id": "accebfbb",
   "metadata": {},
   "source": [
    "# Loading in a saved model."
   ]
  },
  {
   "cell_type": "code",
   "execution_count": 43,
   "id": "29fa5e72",
   "metadata": {},
   "outputs": [],
   "source": [
    "#loading the SaveModel format model\n",
    "load_SaveModel_format = tf.keras.models.load_model(\"firstModel\")"
   ]
  },
  {
   "cell_type": "code",
   "execution_count": 45,
   "id": "857f01df",
   "metadata": {},
   "outputs": [
    {
     "name": "stdout",
     "output_type": "stream",
     "text": [
      "Model: \"sequential_2\"\n",
      "_________________________________________________________________\n",
      " Layer (type)                Output Shape              Param #   \n",
      "=================================================================\n",
      " dense_6 (Dense)             (None, 100)               200       \n",
      "                                                                 \n",
      " dense_7 (Dense)             (None, 1)                 101       \n",
      "                                                                 \n",
      "=================================================================\n",
      "Total params: 301\n",
      "Trainable params: 301\n",
      "Non-trainable params: 0\n",
      "_________________________________________________________________\n"
     ]
    }
   ],
   "source": [
    "load_SaveModel_format.summary()"
   ]
  },
  {
   "cell_type": "code",
   "execution_count": 46,
   "id": "ad0a797b",
   "metadata": {},
   "outputs": [
    {
     "name": "stdout",
     "output_type": "stream",
     "text": [
      "Model: \"sequential_2\"\n",
      "_________________________________________________________________\n",
      " Layer (type)                Output Shape              Param #   \n",
      "=================================================================\n",
      " dense_6 (Dense)             (None, 100)               200       \n",
      "                                                                 \n",
      " dense_7 (Dense)             (None, 1)                 101       \n",
      "                                                                 \n",
      "=================================================================\n",
      "Total params: 301\n",
      "Trainable params: 301\n",
      "Non-trainable params: 0\n",
      "_________________________________________________________________\n"
     ]
    }
   ],
   "source": [
    "model_3.summary()"
   ]
  },
  {
   "cell_type": "code",
   "execution_count": 53,
   "id": "ac9f8ae7",
   "metadata": {},
   "outputs": [
    {
     "name": "stdout",
     "output_type": "stream",
     "text": [
      "1/1 [==============================] - 0s 25ms/step\n",
      "1/1 [==============================] - 0s 21ms/step\n"
     ]
    },
    {
     "data": {
      "text/plain": [
       "array([[ True],\n",
       "       [ True],\n",
       "       [ True],\n",
       "       [ True],\n",
       "       [ True],\n",
       "       [ True],\n",
       "       [ True],\n",
       "       [ True],\n",
       "       [ True],\n",
       "       [ True]])"
      ]
     },
     "execution_count": 53,
     "metadata": {},
     "output_type": "execute_result"
    }
   ],
   "source": [
    "#comparing Model_3 predictions with SaveModel format model prediction\n",
    "\n",
    "mod3_pred = model_3.predict(X_test)\n",
    "load_SM_pred = load_SaveModel_format.predict(X_test)\n",
    "mod3_pred == load_SM_pred"
   ]
  },
  {
   "cell_type": "code",
   "execution_count": 57,
   "id": "b2f729d7",
   "metadata": {},
   "outputs": [
    {
     "data": {
      "text/plain": [
       "<tf.Tensor: shape=(), dtype=bool, numpy=True>"
      ]
     },
     "execution_count": 57,
     "metadata": {},
     "output_type": "execute_result"
    }
   ],
   "source": [
    "# compare MAE of model_3 and the loadd_SM_pred\n",
    "mae(y_true=y_test,y_pred=y_pred_3) == mae(y_true=y_test,y_pred=mod3_pred)"
   ]
  },
  {
   "cell_type": "code",
   "execution_count": 51,
   "id": "d0985786",
   "metadata": {},
   "outputs": [
    {
     "name": "stdout",
     "output_type": "stream",
     "text": [
      "Model: \"sequential_2\"\n",
      "_________________________________________________________________\n",
      " Layer (type)                Output Shape              Param #   \n",
      "=================================================================\n",
      " dense_6 (Dense)             (None, 100)               200       \n",
      "                                                                 \n",
      " dense_7 (Dense)             (None, 1)                 101       \n",
      "                                                                 \n",
      "=================================================================\n",
      "Total params: 301\n",
      "Trainable params: 301\n",
      "Non-trainable params: 0\n",
      "_________________________________________________________________\n"
     ]
    }
   ],
   "source": [
    "# loading model using .h5 format\n",
    "loadd_h5=tf.keras.models.load_model(\"myHDF5Model.h5\")\n",
    "loadd_h5.summary()"
   ]
  },
  {
   "cell_type": "code",
   "execution_count": 54,
   "id": "9622a2b0",
   "metadata": {},
   "outputs": [
    {
     "name": "stdout",
     "output_type": "stream",
     "text": [
      "WARNING:tensorflow:6 out of the last 11 calls to <function Model.make_predict_function.<locals>.predict_function at 0x7f07ac1643a0> triggered tf.function retracing. Tracing is expensive and the excessive number of tracings could be due to (1) creating @tf.function repeatedly in a loop, (2) passing tensors with different shapes, (3) passing Python objects instead of tensors. For (1), please define your @tf.function outside of the loop. For (2), @tf.function has reduce_retracing=True option that can avoid unnecessary retracing. For (3), please refer to https://www.tensorflow.org/guide/function#controlling_retracing and https://www.tensorflow.org/api_docs/python/tf/function for  more details.\n"
     ]
    },
    {
     "name": "stderr",
     "output_type": "stream",
     "text": [
      "WARNING:tensorflow:6 out of the last 11 calls to <function Model.make_predict_function.<locals>.predict_function at 0x7f07ac1643a0> triggered tf.function retracing. Tracing is expensive and the excessive number of tracings could be due to (1) creating @tf.function repeatedly in a loop, (2) passing tensors with different shapes, (3) passing Python objects instead of tensors. For (1), please define your @tf.function outside of the loop. For (2), @tf.function has reduce_retracing=True option that can avoid unnecessary retracing. For (3), please refer to https://www.tensorflow.org/guide/function#controlling_retracing and https://www.tensorflow.org/api_docs/python/tf/function for  more details.\n"
     ]
    },
    {
     "name": "stdout",
     "output_type": "stream",
     "text": [
      "1/1 [==============================] - 0s 60ms/step\n"
     ]
    },
    {
     "data": {
      "text/plain": [
       "array([[ True],\n",
       "       [ True],\n",
       "       [ True],\n",
       "       [ True],\n",
       "       [ True],\n",
       "       [ True],\n",
       "       [ True],\n",
       "       [ True],\n",
       "       [ True],\n",
       "       [ True]])"
      ]
     },
     "execution_count": 54,
     "metadata": {},
     "output_type": "execute_result"
    }
   ],
   "source": [
    "#check to see is loadeed h5 matches prediction in model_3\n",
    "loadd_h5_pred=loadd_h5.predict(X_test)\n",
    "mod3_pred == loadd_h5_pred"
   ]
  },
  {
   "cell_type": "code",
   "execution_count": null,
   "id": "ef571457",
   "metadata": {},
   "outputs": [],
   "source": []
  },
  {
   "cell_type": "code",
   "execution_count": 67,
   "id": "df7894b9",
   "metadata": {},
   "outputs": [
    {
     "name": "stdout",
     "output_type": "stream",
     "text": [
      "3\n"
     ]
    },
    {
     "ename": "SyntaxError",
     "evalue": "'return' outside function (3610713943.py, line 3)",
     "output_type": "error",
     "traceback": [
      "\u001b[0;36m  Input \u001b[0;32mIn [67]\u001b[0;36m\u001b[0m\n\u001b[0;31m    return ls\u001b[0m\n\u001b[0m    ^\u001b[0m\n\u001b[0;31mSyntaxError\u001b[0m\u001b[0;31m:\u001b[0m 'return' outside function\n"
     ]
    }
   ],
   "source": []
  },
  {
   "cell_type": "code",
   "execution_count": null,
   "id": "08e26b4e",
   "metadata": {},
   "outputs": [],
   "source": []
  }
 ],
 "metadata": {
  "kernelspec": {
   "display_name": "Python 3 (ipykernel)",
   "language": "python",
   "name": "python3"
  },
  "language_info": {
   "codemirror_mode": {
    "name": "ipython",
    "version": 3
   },
   "file_extension": ".py",
   "mimetype": "text/x-python",
   "name": "python",
   "nbconvert_exporter": "python",
   "pygments_lexer": "ipython3",
   "version": "3.9.12"
  }
 },
 "nbformat": 4,
 "nbformat_minor": 5
}
